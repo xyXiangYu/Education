{
 "cells": [
  {
   "cell_type": "markdown",
   "metadata": {},
   "source": [
    "# Introduction to Probabilistic Graphical Models\n",
    "## Practical Session 2\n",
    "### Author: Xiang Yu, Email: shawnxiangyu@yahoo.com"
   ]
  },
  {
   "cell_type": "code",
   "execution_count": 2,
   "metadata": {},
   "outputs": [],
   "source": [
    "%matplotlib inline\n",
    "import numpy as np\n",
    "from scipy.linalg import norm\n",
    "import matplotlib.pyplot as plt\n",
    "import networkx as nx\n",
    "import pyparsing\n",
    "from IPython.display import Math\n",
    "import copy\n",
    "\n",
    "## we first run the code with the warning enabled, if no error of relevant warning is to be found, \n",
    "## we disable the warning then\n",
    "# import warnings\n",
    "# warnings.filterwarnings(\"ignore\")"
   ]
  },
  {
   "cell_type": "code",
   "execution_count": 60,
   "metadata": {},
   "outputs": [],
   "source": [
    "# choose a large font size by default and use tex for math\n",
    "fontsize = 18\n",
    "params = {'axes.labelsize': fontsize + 2,\n",
    "      'font.size': fontsize + 2,\n",
    "      'legend.fontsize': fontsize + 2,\n",
    "      'xtick.labelsize': fontsize,\n",
    "      'ytick.labelsize': fontsize,\n",
    "      'text.usetex': True}\n",
    "plt.rcParams.update(params)"
   ]
  },
  {
   "cell_type": "markdown",
   "metadata": {},
   "source": [
    "#### Question 1"
   ]
  },
  {
   "cell_type": "markdown",
   "metadata": {},
   "source": [
    "We need to compute    \n",
    "$$\n",
    "\\large \\gamma_i(x) = \\frac{\\pi_i \\mathcal{N}(x;\\mu_i, \\Sigma_i)}{ \\sum_{j=1}^K \\pi_j \\mathcal{N}(x;\\mu_j, \\Sigma_j)}\n",
    "$$\n",
    "We could take log on both side, then \n",
    "$$\n",
    "\\large \\log\\gamma_i(x) = \\log(\\pi_i \\mathcal{N}(x;\\mu_i, \\Sigma_i)) - \\log(\\sum_{j=1}^K \\pi_j \\mathcal{N}(x;\\mu_j, \\Sigma_j))\n",
    "$$\n",
    "\n",
    "where $\\log(\\sum\\pi_j\\mathcal{N_j})$ could be calculated with the stable method in the Practical Session 1.I.e. \n",
    "\n",
    "\n",
    "\n",
    "\n",
    "\n",
    "\\begin{align}\n",
    "\\large \\log(\\sum\\pi_j\\mathcal{N_j}) \n",
    " &= \\large log\\sum_{i=1}^I \\pi_j \\kappa_j\\exp(v_j) \\\\\n",
    " & = \\large \\log\\sum_{j=1}^I \\pi_j\\kappa_j \\exp(v_j- V_{max} + V_{max}) \\\\\n",
    "  & = \\large \\log\\sum_{j=1}^I \\pi_j\\kappa_j\\exp(v_j- V_{max}) \\exp(V_{max}) \\\\\n",
    " & = \\large V_{max} + \\log\\sum_{j=1}^I \\pi_j\\kappa_j\\exp(v_j- V_{max})\n",
    "\\end{align}\n",
    "\n",
    "Where \n",
    "$$ \\large \\mathcal{N_j} = \\mathcal{N}(x;\\mu_j, \\Sigma_j)= \\frac{1}{\\sqrt{2\\pi}\\Sigma_j} \\exp{-\\frac{(x-\\mu_j)^2}{2\\Sigma_j^2}} $$\n",
    "and \n",
    "\n",
    "\\begin{align}\n",
    "f_{\\mathbf X}(x_1,\\ldots,x_k)\n",
    "& = \\frac{\\exp\\left(-\\frac 1 2 ({\\mathbf x}-{\\boldsymbol\\mu})^\\mathrm{T}{\\boldsymbol\\Sigma}^{-1}({\\mathbf x}-{\\boldsymbol\\mu})\\right)}{\\sqrt{(2\\pi)^k|\\boldsymbol\\Sigma|}}\n",
    "\\end{align}\n",
    "\n",
    "\n",
    "$$ \\large v_j = \\exp({-\\frac{(x-\\mu_j)^2}{2\\Sigma_j^2}}), \\kappa_j = \\sqrt{2\\pi}\\Sigma_j, V_{max} = \\max_{j} v_j$$"
   ]
  },
  {
   "cell_type": "code",
   "execution_count": 3,
   "metadata": {},
   "outputs": [],
   "source": [
    "# to be updated\n",
    "def stable_logsumexp(xs): \n",
    "    max_xs = np.max(xs)\n",
    "    nr_xs = len(xs)\n",
    "    vi_vmax = xs - max_xs   \n",
    "    return max_xs + np.log(np.sum(np.exp(vi_vmax)))\n"
   ]
  },
  {
   "cell_type": "markdown",
   "metadata": {},
   "source": [
    "#### Question 2"
   ]
  },
  {
   "cell_type": "code",
   "execution_count": 5,
   "metadata": {},
   "outputs": [],
   "source": [
    "# to be typed, see the lecture notes\n",
    "\n",
    "def log_sum_N (K, U, Sigma, x):\n",
    "    \n",
    "    vj = np.exp((x - uj)**2 / (2)\n",
    "                \n",
    "    multivariate_normal.pdf(x, mean, cov)            \n",
    "    \n",
    "\n",
    "\n",
    "def cal_gamma(K, us, sigmas, xi):\n",
    "    \n",
    "    gamma_xk = np.zeros((K,1))\n",
    "    \n",
    "    for i in np.arange(K): \n",
    "        \n",
    "\n"
   ]
  },
  {
   "cell_type": "markdown",
   "metadata": {},
   "source": [
    "#### Question 3"
   ]
  },
  {
   "cell_type": "code",
   "execution_count": null,
   "metadata": {},
   "outputs": [],
   "source": []
  },
  {
   "cell_type": "code",
   "execution_count": 27,
   "metadata": {},
   "outputs": [],
   "source": [
    "# hyper-parameters\n",
    "\n",
    "K = 3\n",
    "pi = np.array([0.3, 0.2, 0.5])\n",
    "us = np.array([[0, 0], [1, 2], [2,0]])\n",
    "\n",
    "# sg1 = np.array([[1, -0.25], [-0.25, 0.5]])\n",
    "# sg2 = np.array([[0.5, 0.25],[0.25, 0.5]])\n",
    "# sg3 = np.array([[0.5, -0.25],[-0.25, 1]])\n",
    "# sigmas = [sg1, sg2, sg3]\n",
    "sgs = np.array([[[1, -0.25], [-0.25, 0.5]], [[0.5, 0.25],[0.25, 0.5]], [[0.5, -0.25],[-0.25, 1]]])"
   ]
  },
  {
   "cell_type": "code",
   "execution_count": 29,
   "metadata": {},
   "outputs": [],
   "source": [
    "def sample_loc (prob, pi_distrbution):    \n",
    "    # return the idx loction of prob in the prob_distrbution\n",
    "    nr_loc = len(pi_distrbution)\n",
    "    cum_sum = np.cumsum(pi_distrbution)  \n",
    "    idx = np.where(prob < cum_sum)[0]  \n",
    "    return idx[0]"
   ]
  },
  {
   "cell_type": "code",
   "execution_count": 39,
   "metadata": {},
   "outputs": [],
   "source": [
    "\n",
    "N = 1000  # number of samples\n",
    "\n",
    "xs = np.zeros((N, 3))\n",
    "# simulator the trajectory \n",
    "for i in np.arange(0,N):   \n",
    "    \n",
    "    si_pi = np.random.uniform(0,1)\n",
    "    gs_id = sample_loc(si_pi, pi)   \n",
    "    ui = us[gs_id]\n",
    "    sgi = sgs[gs_id]   \n",
    "    xs[i,[0,1]] = np.random.multivariate_normal(ui, sgi)\n",
    "    xs[i,2] = gs_id\n"
   ]
  },
  {
   "cell_type": "code",
   "execution_count": 61,
   "metadata": {},
   "outputs": [
    {
     "data": {
      "image/png": "[encoded data removed]",
      "text/plain": [
       "<Figure size 864x576 with 1 Axes>"
      ]
     },
     "metadata": {},
     "output_type": "display_data"
    }
   ],
   "source": [
    "x_g1 = xs[xs[:,2] == 0][:,[0,1]]\n",
    "x_g2 = xs[xs[:,2] == 1][:,[0,1]]\n",
    "x_g3 = xs[xs[:,2] == 2][:,[0,1]]\n",
    "\n",
    "plt.figure(figsize=(12, 8))\n",
    "plt.scatter(x_g1[:,0], x_g1[:,1], c='r', label='First') \n",
    "plt.scatter(x_g2[:,0], x_g2[:,1], c='b', label='Second')\n",
    "plt.scatter(x_g3[:,0], x_g3[:,1], c='k', label='Third') \n",
    "plt.xlabel('x1')\n",
    "plt.ylabel('x2')\n",
    "plt.legend()\n",
    "plt.title('Simulated multivariate(K=3) normal distibutions ')\n",
    "plt.show() "
   ]
  },
  {
   "cell_type": "markdown",
   "metadata": {},
   "source": [
    "#### 2. Implement the EM algorithm for GMMs"
   ]
  },
  {
   "cell_type": "code",
   "execution_count": 79,
   "metadata": {},
   "outputs": [],
   "source": [
    "xs_nl = xs[:,:2]  # not labeled data\n",
    "\n",
    "xs_mean = np.mean(xs_nl, axis=0)\n",
    "xs_cov = np.cov(xs_nl.T)\n",
    "\n",
    "# initilize the parameters\n",
    "pi_para = np.ones((3,1)) / K\n",
    "us_para = np.array([xs_mean, xs_mean, xs_mean])\n",
    "sgs = np.array([xs_cov, xs_cov, xs_cov])\n"
   ]
  },
  {
   "cell_type": "code",
   "execution_count": null,
   "metadata": {},
   "outputs": [],
   "source": []
  },
  {
   "cell_type": "code",
   "execution_count": null,
   "metadata": {},
   "outputs": [],
   "source": [
    "\n",
    "        \n",
    "    "
   ]
  },
  {
   "cell_type": "code",
   "execution_count": null,
   "metadata": {},
   "outputs": [],
   "source": []
  },
  {
   "cell_type": "code",
   "execution_count": null,
   "metadata": {},
   "outputs": [],
   "source": []
  },
  {
   "cell_type": "code",
   "execution_count": null,
   "metadata": {},
   "outputs": [],
   "source": []
  },
  {
   "cell_type": "code",
   "execution_count": null,
   "metadata": {},
   "outputs": [],
   "source": []
  }
 ],
 "metadata": {
  "kernelspec": {
   "display_name": "Python 3",
   "language": "python",
   "name": "python3"
  },
  "language_info": {
   "codemirror_mode": {
    "name": "ipython",
    "version": 3
   },
   "file_extension": ".py",
   "mimetype": "text/x-python",
   "name": "python",
   "nbconvert_exporter": "python",
   "pygments_lexer": "ipython3",
   "version": "3.6.6"
  }
 },
 "nbformat": 4,
 "nbformat_minor": 2
}
