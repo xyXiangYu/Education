{
 "cells": [
  {
   "cell_type": "markdown",
   "metadata": {},
   "source": [
    "# Introduction to Probabilistic Graphical Models\n",
    "## Practical Session 1\n",
    "### Author: Xiang Yu, Email: shawnxiangyu@yahoo.com"
   ]
  },
  {
   "cell_type": "code",
   "execution_count": 105,
   "metadata": {},
   "outputs": [],
   "source": [
    "%matplotlib inline\n",
    "import numpy as np\n",
    "from scipy.linalg import norm\n",
    "import matplotlib.pyplot as plt\n",
    "import networkx as nx\n",
    "import pyparsing\n",
    "from IPython.display import Math\n",
    "import copy\n",
    "\n",
    "import warnings\n",
    "warnings.filterwarnings(\"ignore\")"
   ]
  },
  {
   "cell_type": "markdown",
   "metadata": {},
   "source": [
    "### Question 0"
   ]
  },
  {
   "cell_type": "markdown",
   "metadata": {},
   "source": [
    "We often need to compute    \n",
    "$$\n",
    "s= log\\sum_{i=1}^I \\exp(v_i)\n",
    "$$\n",
    "where each $v_i < 0$ and $|v_i|$ is very large. The direct calculation of $s$ may not be numerically stable. Therefore, we propose the calculation as the following: \n",
    "$$\n",
    "  V_{max} = \\max_{i} v_i \n",
    "$$\n",
    "Then, \n",
    "\\begin{align}\n",
    "s &= log\\sum_{i=1}^I \\exp(v_i) \\\\\n",
    " & = log\\sum_{i=1}^I \\exp(v_i- V_{max} + V_{max}) \\\\\n",
    " & = log\\sum_{i=1}^I \\exp(v_i- V_{max}) * exp(V_{max}) \\\\\n",
    " & = V_{max} + log\\sum_{i=1}^I \\exp(v_i- V_{max})\n",
    "\\end{align}\n",
    "\n",
    "We define function L for later calculation\n",
    "$$\n",
    "L(v_i) =  V_{max} + log\\sum_{i=1}^I \\exp(v_i- V_{max})\n",
    "$$\n",
    "    \n",
    "    "
   ]
  },
  {
   "cell_type": "code",
   "execution_count": 7,
   "metadata": {},
   "outputs": [
    {
     "name": "stdout",
     "output_type": "stream",
     "text": [
      "Naivie and stable solution are:  -inf , -1233.6867383124818\n"
     ]
    }
   ],
   "source": [
    "####Q0\n",
    "def naive_logsum_exp(xs):     \n",
    "    return np.log(np.sum(np.exp(xs)))\n",
    "\n",
    "def stable_logsumexp(xs): \n",
    "    max_xs = np.max(xs)\n",
    "    nr_xs = len(xs)\n",
    "    vi_vmax = xs - max_xs   \n",
    "    return max_xs + np.log(np.sum(np.exp(vi_vmax)))\n",
    "\n",
    "# calculate the result for q0:\n",
    "xs = [-1234, -1235]\n",
    "naive_s = naive_logsum_exp(xs) \n",
    "stable_s = stable_logsumexp(xs)\n",
    "\n",
    "print(\"Naivie and stable solution are: \", naive_s, ',', stable_s)"
   ]
  },
  {
   "cell_type": "markdown",
   "metadata": {},
   "source": [
    "### Q0: Explain why it should work: \n",
    "When $v_i < 0$ and $|v_i|$ is very large, $\\exp(v_i)$ will be extremly small and could easily be over the machine precision, the machine may think then the returned value will be zero,  and $log(0)$ will return infinity. \n",
    "\n",
    "With the stable method, $v_i- V_{max}$ will always be smaller or equal to zero and one element of $v_i- V_{max}$ will be zero, leading to $log\\sum_{i=1}^I \\exp(v_i- V_{max})$ strictly positive, and when plusing a constant $V_{max}$, the result will be numerically stable. "
   ]
  },
  {
   "cell_type": "markdown",
   "metadata": {},
   "source": [
    "### Q1 "
   ]
  },
  {
   "cell_type": "markdown",
   "metadata": {},
   "source": [
    "####   Q1.1\n",
    "The position domain will be $PD = \\{1, 2, ..., N\\}$. The action domain will be $AD = \\{0, 1\\}$, here $0$ means the robot stays where it is and $1$ means the robot moves to the next point in the counter-clock direction. \n",
    "The variables are as follows: \n",
    "\n",
    "- $x_k$, the actual position at each step, where $x_k \\in PD$\n",
    "- $y_k$, the observed position at each step, where $y_k \\in PD$\n",
    "- $a_k$, the action taken at each step, where $a_k \\in AD$\n",
    "\n",
    "\n",
    "The generative model is as follows: \n",
    "\n",
    "$$\\large p(x_{1:k} , y_{1:k}) = \\{\\pi_{i=2}^{k}p(y_i|x_i)p(x_i|x_{i-1})\\}p(x_1)p(y_1|x_1)$$\n",
    "\n"
   ]
  },
  {
   "cell_type": "code",
   "execution_count": 8,
   "metadata": {},
   "outputs": [
    {
     "data": {
      "image/png": "[encoded data removed]",
      "text/plain": [
       "<Figure size 864x180 with 1 Axes>"
      ]
     },
     "metadata": {},
     "output_type": "display_data"
    }
   ],
   "source": [
    "### draw the accociated directed graphical model\n",
    "# This section code coming from : https://github.com/atcemgil/notes/blob/master/HiddenMarkovModel.ipynb\n",
    "def makeDBN(inter, intra, T, labels):\n",
    "    \"\"\"Unfold a graph for T time slices\"\"\"\n",
    "    N = max(max([i for i,j in inter]),max([j for i,j in inter]))+1\n",
    "\n",
    "    G = np.zeros((N*T,N*T))\n",
    "    pos = []\n",
    "    all_labels = []\n",
    "    for n in range(N):\n",
    "        pos.append((0,-n))\n",
    "        all_labels.append('$'+labels[n]+'_{'+str(0+1)+\"}\"+'$')\n",
    "        \n",
    "    for e in inter:\n",
    "        s,d = e\n",
    "        G[s,d] = 1\n",
    "\n",
    "    for t in range(1,T):\n",
    "        for n in range(N):\n",
    "            pos.append((t,-n))\n",
    "            all_labels.append('$'+labels[n]+'_{'+str(t+1)+\"}\"+'$')\n",
    "\n",
    "        for e in inter:\n",
    "            s,d = e\n",
    "            s = s + N*t\n",
    "            d = d + N*t\n",
    "            G[s,d] = 1\n",
    "        \n",
    "        for e in intra:\n",
    "            s,d = e\n",
    "            s = s + N*(t-1)\n",
    "            d = d + N*t\n",
    "            G[s,d] = 1\n",
    "    return G,pos,all_labels\n",
    "\n",
    "\n",
    "np.set_printoptions(precision=5, suppress=True)\n",
    "inter = [(0,1)]\n",
    "intra = [(0,0)]\n",
    "variable_names = [\"x\", \"y\"] \n",
    "T = 5\n",
    "A, pos, label_list = makeDBN(inter, intra, T, variable_names)\n",
    "\n",
    "G = nx.DiGraph(A)\n",
    "labels = {i: s for i,s in enumerate(label_list)}\n",
    "plt.figure(figsize=(12,2.5))\n",
    "nx.draw(G, pos, node_color=\"white\", node_size=2500, labels=labels, font_size=24, arrows=True)\n",
    "plt.title(r'Directed Graphical model with $x_i$ the actual position, $y_i$ the observed position', fontsize=16)\n",
    "plt.show()"
   ]
  },
  {
   "cell_type": "markdown",
   "metadata": {},
   "source": [
    "####   Q1.2\n",
    "\n",
    "The transition model is: $x_k \\sim p(x_k | x_{k-1})$ and the observation model is: \n",
    "$y_k \\sim p(y_k | x_k)$. \n",
    "\n",
    "$$\n",
    "p(x_1 = i) = \\frac{1}{N} \\\\\n",
    "p(y_1 = i | x_1 = i) = w  + \\frac{1}{N} *(1-w)\\\\ \n",
    "p(y_1 = i  | x_1 = j) = \\frac{1}{N} *(1-w), where \\ i \\neq j\\\\\n",
    "p(x_2 = i | x_1 = i) = \\epsilon \\\\\n",
    "p(x_2 = j | x_1 = i) = 1 - \\epsilon \\\\\n",
    "$$\n",
    "\n",
    "\n",
    "Where  $j = mod(i - 1 + N, N)$,i.e. a counter-clock direction position next to $i$   \n",
    "$$\n",
    "p(x_2 = k | x_1 = i) = 0\n",
    "$$\n",
    "where $k \\neq i $ and $ k \\neq j $, with $j$ the same definition as above.\n",
    "$$\n",
    "p(y_2 = i | x_k = i) =  w + \\frac{1-w}{N} \\\\\n",
    "...\n",
    "$$\n",
    "\n",
    "\n",
    "\n",
    "$$\n",
    "p(x_k = i | x_{k-1} = i) = \\epsilon \\\\\n",
    "p(x_k = j | x_{k-1} = i) = 1 - \\epsilon, j \\ counter-clock \\  position \\ next\\  to \\  i\\\\\n",
    "p(x_k = k | x_{k-1} = i) = 0, k \\neq i \\ and \\  k \\neq j \\\\\n",
    "p(y_k = i | x_k = i) = w + \\frac{1-w}{N} \\\\\n",
    "p(y_k = i  | x_k = j) = \\frac{1}{N} *(1-w), where \\ i \\neq j\n",
    "$$\n",
    "\n"
   ]
  },
  {
   "cell_type": "markdown",
   "metadata": {},
   "source": [
    "The transition model written in a matrix form, with  $j = mod(i - 1 + N, N)$, i.e. a counter-clock direction position next to $i$ ; when i = 1, j will be equal to N: \n",
    "$$p(x_{k+1}|x_k=i)= \\begin{pmatrix}\n",
    " 0   \\\\\n",
    "...  \\\\\n",
    "1 - \\epsilon  \\\\\n",
    "\\epsilon  \\\\\n",
    "...  \\\\\n",
    "0 \n",
    "\\end{pmatrix}, \\ with\\ \\  each\\  row \\  corresponding\\ to \\ x_{k+1} = \\  \n",
    "\\begin{pmatrix}\n",
    " 1   \\\\\n",
    "...  \\\\\n",
    "j \\\\\n",
    "i  \\\\\n",
    "...  \\\\\n",
    "N \n",
    "\\end{pmatrix}  $$\n"
   ]
  },
  {
   "cell_type": "markdown",
   "metadata": {},
   "source": [
    "The observation model in matrix form: \n",
    "$$p(y_{k}|x_k=i)= \\begin{pmatrix}\n",
    " \\frac{1-w}{N}    \\\\\n",
    "...  \\\\\n",
    " \\frac{1-w}{N}  \\\\\n",
    "w +  \\frac{1-w}{N}  \\\\\n",
    " \\frac{1-w}{N}  \\\\\n",
    "...  \\\\\n",
    " \\frac{1-w}{N} \n",
    "\\end{pmatrix}, \\ with\\ \\  each\\  row \\  corresponding\\ to \\ y_{k} = \\  \n",
    "\\begin{pmatrix}\n",
    " 1   \\\\\n",
    "...  \\\\\n",
    "i-1 \\\\\n",
    "i  \\\\\n",
    "i+1 \\\\\n",
    "...  \\\\\n",
    "N \n",
    "\\end{pmatrix}  $$"
   ]
  },
  {
   "cell_type": "markdown",
   "metadata": {},
   "source": [
    "####   Q1.3\n",
    "\n",
    "We define: \n",
    "$$\n",
    "\\large p(x_k, y_{1:k}) =  \\alpha_{k|k}(x_k) \\\\\n",
    "\\large p(x_k, y_{1:k-1}) = \\alpha_{k|k-1}(x_k) \\\\\n",
    "\\large p(y_{k:N}|x_k) = \\beta_{k|k}(x_k) \\\\\n",
    "\\large p(y_{k+1:N}|x_k) = \\beta_{k|k+1}(x_k) \\\\\n",
    "\\large \\beta_{N|N+1}(x_N) = 1\n",
    "$$\n",
    "Where $N$ is the total number of time steps\n"
   ]
  },
  {
   "cell_type": "markdown",
   "metadata": {},
   "source": [
    "\n",
    "(a) Distribution of the robot’s current position given the observations so far, i.e. the filtering distribution: \n",
    "\n",
    "$$\\large p(x_k | y_{1:k}) = \\frac{p(x_k,  y_{1:k})}{p(y_{1:k})} = \\frac{\\alpha_{k|k}(x_k)}{\\sum_{x_k}p(x_k, y_{1:k})} = \\frac{\\alpha_{k|k}(x_k)}{\\sum_{x_k}\\alpha_{k|k}(x_k)}$$\n",
    "\n"
   ]
  },
  {
   "cell_type": "markdown",
   "metadata": {},
   "source": [
    "(b) Distribution of the robot’s position at time step k given all the observations, i.e. the smoothing distribution: $\\large p(x_k | y_{1:N})$. \n",
    "\n",
    "we have\n",
    "$$\\large\n",
    "\\begin{align*}\n",
    "p(x_k , y_{1:N}) &= p(x_k, y_{1:k}, y_{k+1:N}) = p(x_k, y_{1:k}) p(y_{k+1:N}|x_k, y_{1:k}) \\\\\n",
    "   &= p(x_k, y_{1:k}) p(y_{k+1:K}|x_k) =  \\alpha_{k|k}(x_k)  \\beta_{k|k+1}(x_k) \n",
    "\\end{align*}\n",
    "$$\n",
    "Then, \n",
    "\n",
    "$$\\large\n",
    "\\begin{align*}\n",
    "p(x_k | y_{1:N}) &= \\frac{p(x_k , y_{1:N})}{p(y_{1:N})} =  \\frac{\\alpha_{k|k}(x_k)\\beta_{k|k+1}(x_k)}{\\sum_{x_N}p(y_{1:N}, X_N)} \\\\\n",
    "& = \\frac{\\alpha_{k|k}(x_k)\\beta_{k|k+1}(x_k)}{\\sum_{x_N}\\alpha_{N|N}(x_N)} \n",
    "\\end{align*}\n",
    "$$"
   ]
  },
  {
   "cell_type": "markdown",
   "metadata": {},
   "source": [
    "(c) Distribution of the robot’s next position given the observations so far, i.e. predictive distribution $p(x_{k+1}|y_{1:k})$, where we know $y_{1:k}$\n",
    "\n",
    "$$\\large\n",
    "\\begin{align*}\n",
    "p(x_{k+1}|y_{1:k}) &= \\frac{p(x_{k+1},y_{1:k})}{p(y_{1:k})} = \\frac{\\alpha_{k+1|k}(x_{k+1})}{\\sum_{x_k}\\alpha_{k|k}(x_k)} \n",
    "\\end{align*}\n",
    "$$"
   ]
  },
  {
   "cell_type": "markdown",
   "metadata": {},
   "source": [
    "(d) Distribution of the robot’s next sensor reading given the observations so far\n",
    "\n",
    "$$\n",
    "\\large p(y_{k+1}|y_{1:k}) = \\frac{p(y_{k+1},y_{1:k})}{p(y_{1:k})}\n",
    "$$\n",
    "Where\n",
    "$$\\large\n",
    "\\begin{align*}\n",
    "p(y_{k+1},y_{1:k}) &= p(y_{1:k+1}) \\\\\n",
    "    &= \\sum_{x_1, x_2, \\ ...,\\ x_{k+1}} p(y_{1:k+1}, x_{1:k+1}) \\\\\n",
    "    &= \\sum_{x_1, x_2, \\ ...,\\ x_{k+1}}p(x_1)p(y_1|x_1)\\pi_{n=2}^{k+1}p(x_n|x_{n-1})p(y_n|x_n) \\\\\n",
    "    &= \\sum_{x_1, x_2, \\ ...,\\ x_{k+1}}p(y_{k+1}|x_{k+1})p(x_{k+1}|x_{k})  ...p(y_{2}|x_{2})p(x_2|x_{1})p(y_{1}|x_{1})p(x_{1}) \\\\\n",
    "    &= \\sum_{x_{k+1}}p(y_{k+1}|x_{k+1})\\sum_{x_k}p(x_{k+1}|x_{k})p(y_k|x_k)...  \\sum_{x_2}p(x_{3}|x_{2})p(y_2|x_2)\\sum_{x_1}p(x_{2}|x_{1})p(y_1|x_1)p(x_1)  \\\\\n",
    "   &=\\underbrace{\\sum_{x_{k+1}} p(y_{k+1} | x_{k+1} ) \\sum_{x_{k}} p(x_{k+1}|x_{k})  \\dots \\sum_{x_{2}} p(x_3|x_{2})\n",
    "\\underbrace{ p(y_{2}|x_{2}) \\overbrace{ \\sum_{x_{1}} p(x_2|x_{1})\n",
    "\\underbrace{ p(y_{1}|x_{1}) \\overbrace{ p(x_1)}^{\\alpha_{1|0}}}_{\\alpha_{1|1}}\n",
    "}^{\\alpha_{2|1}} }_{\\alpha_{2|2}}}_{\\alpha_{k+1|k+1}} \n",
    "\\end{align*}\n",
    "$$\n",
    "\n",
    "and \n",
    "$$\n",
    "\\large p(y_{1:k}) = \\sum_{x_k}\\alpha_{k|k}(x_k)\n",
    "$$"
   ]
  },
  {
   "cell_type": "markdown",
   "metadata": {},
   "source": [
    "(e) Distribution of the robot’s initial position given observations so far\n",
    "\n",
    "$$\\large\n",
    "\\begin{align*}\n",
    "p(x_1|y_{1:k}) &= \\frac{p(y_{1:k}|x_1)p(x_1)}{p(y_{1:k})} = \\frac{p(y_1|x_1)p(y_{2:k}|x_1)p(x_1)}{p(y_{1:k})}\\\\\n",
    "\\end{align*}\n",
    "$$\n"
   ]
  },
  {
   "cell_type": "markdown",
   "metadata": {},
   "source": [
    "(f) Most likely current position of the robot given the observations so far\n",
    "from (a), we have: \n",
    "\n",
    "$$\\large p(x_k | y_{1:k}) = \\frac{p(x_k,  y_{1:k})}{p(y_{1:k})} = \\frac{\\alpha_{k|k}(x_k)}{\\sum_{x_k}p(x_k, y_{1:k})} = \\frac{\\alpha_{k|k}(x_k)}{\\sum_{x_k}\\alpha_{k|k}(x_k)}$$\n",
    "\n",
    "Then, most likely current position will be: \n",
    "$$\\large\n",
    "\\begin{align*}\n",
    "x_k^* = arg \\max_{x_k}p(x_k|y_{1:k}) = arg \\max_{x_k}\\frac{\\alpha_{k|k}(x_k)}{\\sum_{x_k}\\alpha_{k|k}(x_k)}\n",
    "\\end{align*}\n",
    "$$\n"
   ]
  },
  {
   "cell_type": "markdown",
   "metadata": {},
   "source": [
    "(g) Most likely trajectory taken by the robot from the start until now given the observations so far\n",
    "\n",
    "$$\\large\n",
    "\\begin{align*}\n",
    "x_{1:k}^* &= arg \\max_{x_{1:k}}p(x_{1:k}|y_{1:k}) \\\\\n",
    "&= arg \\max_{x_{1:k}} \\underbrace{ p(x_{1}|x_{2:k}, y_{1:k}) \\cdots p(x_{k-2}|x_{k-1:k}, y_{1:k}) p(x_{k-1}|x_k, y_{1:k}) p(x_{k}|y_{1:k})}_{By\\  conditional\\  independence} \\\\\n",
    "& = arg \\max_{x_{1:k}} p(x_{1}|x_{2}, y_{1}) \\cdots p(x_{k-2}|x_{k-1}, y_{1:k-2}) p(x_{k-1}|x_k, y_{1:k-1}) p(x_{k}|y_{1:k}) \n",
    "\\end{align*}\n",
    "$$\n",
    "\n"
   ]
  },
  {
   "cell_type": "markdown",
   "metadata": {},
   "source": [
    "####   Q1.4\n",
    "Implement a program that simulates this scenario; i.e., generates realizations from the movements of the robot\n",
    "and the associated sensor readings. Simulate a scenario for k = 1, . . . , 100 with N = 50, \u000f = 0.3, w = 0.8\n"
   ]
  },
  {
   "cell_type": "code",
   "execution_count": 156,
   "metadata": {},
   "outputs": [
    {
     "name": "stdout",
     "output_type": "stream",
     "text": [
      "The initial position probablities vector: \n",
      " [[0.02 0.02 0.02 0.02 0.02 0.02 0.02 0.02 0.02 0.02 0.02 0.02 0.02 0.02\n",
      "  0.02 0.02 0.02 0.02 0.02 0.02 0.02 0.02 0.02 0.02 0.02 0.02 0.02 0.02\n",
      "  0.02 0.02 0.02 0.02 0.02 0.02 0.02 0.02 0.02 0.02 0.02 0.02 0.02 0.02\n",
      "  0.02 0.02 0.02 0.02 0.02 0.02 0.02 0.02]] \n",
      "\n",
      "The transition model probablities matrix (column: $x_i$, row $x_{i+1}$):  \n",
      " [[0.3 0.7 0.  ... 0.  0.  0. ]\n",
      " [0.  0.3 0.7 ... 0.  0.  0. ]\n",
      " [0.  0.  0.3 ... 0.  0.  0. ]\n",
      " ...\n",
      " [0.  0.  0.  ... 0.3 0.7 0. ]\n",
      " [0.  0.  0.  ... 0.  0.3 0.7]\n",
      " [0.7 0.  0.  ... 0.  0.  0.3]] \n",
      "\n",
      "The observatoray model probablities matrix (column: $x_i$, row $y_i$):  \n",
      " [[0.804 0.004 0.004 ... 0.004 0.004 0.004]\n",
      " [0.004 0.804 0.004 ... 0.004 0.004 0.004]\n",
      " [0.004 0.004 0.804 ... 0.004 0.004 0.004]\n",
      " ...\n",
      " [0.004 0.004 0.004 ... 0.804 0.004 0.004]\n",
      " [0.004 0.004 0.004 ... 0.004 0.804 0.004]\n",
      " [0.004 0.004 0.004 ... 0.004 0.004 0.804]]\n"
     ]
    }
   ],
   "source": [
    "### Q1.4 ###\n",
    "randint = np.random.randint\n",
    "\n",
    "nr_sc = 100 # number of scenarios\n",
    "nr_ts = 120  # number of time steps\n",
    "N = 50      # number of states, i.e. all possible positions\n",
    "\n",
    "epsilon = 0.3\n",
    "w = 0.8\n",
    "\n",
    "xs = np.zeros((nr_sc, nr_ts), dtype=int)\n",
    "ys = xs.copy()\n",
    "#ys = np.zeros((nr_sc, N), dtype=int)\n",
    "obs_model = np.ones((N,N))\n",
    "tran_model = np.zeros((N,N))  # column : x_i value, row x_{i+1} value\n",
    "\n",
    "# probility vecotor of the position of x1, x1 correponding to zero index in the matched matrix or vector\n",
    "x1_prob = np.ones((N, 1)) / N \n",
    "obs_model = obs_model * (1. - w) / N\n",
    "\n",
    "for i in np.arange(N): \n",
    "    j = np.mod(i - 1 + N, N)\n",
    "    obs_model[i, i] = w + (1. - w) / N\n",
    "    tran_model[i, i] = epsilon\n",
    "    tran_model[j, i] = 1 - epsilon\n",
    "    \n",
    "print ('The initial position probablities vector: \\n', x1_prob.T, '\\n')    \n",
    "print (r'The transition model probablities matrix (column: $x_i$, row $x_{i+1}$): ','\\n', tran_model, '\\n')  \n",
    "print (r'The observatoray model probablities matrix (column: $x_i$, row $y_i$): ','\\n',  obs_model)  "
   ]
  },
  {
   "cell_type": "code",
   "execution_count": 164,
   "metadata": {},
   "outputs": [
    {
     "data": {
      "image/png": "[encoded data removed]",
      "text/plain": [
       "<Figure size 864x576 with 1 Axes>"
      ]
     },
     "metadata": {},
     "output_type": "display_data"
    }
   ],
   "source": [
    "def sample_loc (prob, prob_distrbution): \n",
    "    # return the idx loction of prob in the prob_distrbution\n",
    "    nr_loc = len(prob_distrbution)\n",
    "    cum_sum = np.cumsum(prob_distrbution)  \n",
    "    idx = np.where(prob < cum_sum)[0]  \n",
    "    return idx[0]\n",
    "\n",
    "\n",
    "# simulator the trajectory \n",
    "for ti in np.arange(0,nr_ts):   \n",
    "    for si in np.arange(0, nr_sc): \n",
    "        if ti == 0: # the initial position is uniformly distributed among the N positions with 1/N probablity\n",
    "            xs[si,ti] = randint(0, N)      \n",
    "        else: # pi > 0\n",
    "            x_ti_prob = tran_model[:,xs[si,ti-1]]\n",
    "            rand_prob = np.random.uniform(0,1)  \n",
    "            idx_loc = sample_loc(rand_prob, x_ti_prob) \n",
    "            xs[si, ti] = idx_loc \n",
    "        y_ti_prob = obs_model[:,xs[si,ti]]\n",
    "        rand_prob = np.random.uniform(0,1)  \n",
    "        idx_loc = sample_loc(rand_prob, y_ti_prob) \n",
    "        ys[si,ti] = idx_loc\n",
    "        \n",
    "si = 5\n",
    "timesteps = np.arange(0,nr_ts)\n",
    "plt.figure(figsize=(12, 8))\n",
    "plt.plot(timesteps, xs[si, :],'ro', label=\"actual position x\")  \n",
    "plt.plot(timesteps, ys[si, :], 'b*', label=\"observed position x\")  \n",
    "plt.xlabel('time steps')\n",
    "plt.ylabel('position')\n",
    "plt.legend()\n",
    "plt.title('One simulated scenario of actual and observed position')\n",
    "plt.show()        \n"
   ]
  },
  {
   "cell_type": "markdown",
   "metadata": {},
   "source": [
    "### Q1.5. \n",
    "Implement the Forward-Backward algorithm for computing the quantities defined in 3-a,b,f. (Attention: be\n",
    "careful with numerical stability! Modify the log-sum-exp trick for this algorithm)\n",
    "        \n",
    "        \n",
    "            "
   ]
  },
  {
   "cell_type": "code",
   "execution_count": 166,
   "metadata": {},
   "outputs": [],
   "source": [
    "def predict(tran_model, lp):\n",
    "    # STATE_PREDICT, compute tran_model * prob in the log domain\n",
    "    \n",
    "    # input \n",
    "    # tran_model: State transition matrix\n",
    "    # lp : log p(x_{k-1}, y_{1:k-1}) Filtered potential\n",
    "    \n",
    "    # output: \n",
    "    # lpp : log p(x_{k}, y_{1:k-1}); Predicted potential\n",
    "    \n",
    "    lstar = np.max(lp)\n",
    "    return lstar + np.log(np.dot(A,np.exp(lp-lstar)))\n",
    "\n",
    "\n",
    "def postdict(tran_model, lp):\n",
    "    # input \n",
    "    # tran_model: State transition matrix\n",
    "    # lp : log p(x_{k-1}, y_{1:k-1}) Filtered potential\n",
    "    \n",
    "    lstar = np.max(lp)\n",
    "    return lstar + np.log(np.dot(np.exp(lp-lstar), tran_model))\n",
    "\n",
    "\n",
    "def update(y, logB, lp):\n",
    "    \n",
    "    # Inputs :\n",
    "    # obs : p(y_k| x_k)\n",
    "    # y  : the postion of y\n",
    "    # lp: log_p : log p(x_k, y_{1, k-1})\n",
    "    \n",
    "    # Outputs : \n",
    "    #     lup : log p(x_k, y_{1, k-1}) p(y_k| x_k)\n",
    "      \n",
    "    return logB[y,:] + lp"
   ]
  },
  {
   "cell_type": "code",
   "execution_count": null,
   "metadata": {},
   "outputs": [],
   "source": []
  },
  {
   "cell_type": "code",
   "execution_count": null,
   "metadata": {},
   "outputs": [],
   "source": []
  },
  {
   "cell_type": "markdown",
   "metadata": {},
   "source": [
    "(a) Distribution of the robot’s current position given the observations so far, i.e. the filtering distribution: \n",
    "\n",
    "$$\\large p(x_k | y_{1:k}) = \\frac{p(x_k,  y_{1:k})}{p(y_{1:k})} = \\frac{\\alpha_{k|k}(x_k)}{\\sum_{x_k}p(x_k, y_{1:k})} = \\frac{\\alpha_{k|k}(x_k)}{\\sum_{x_k}\\alpha_{k|k}(x_k)}$$\n"
   ]
  },
  {
   "cell_type": "code",
   "execution_count": null,
   "metadata": {},
   "outputs": [],
   "source": []
  },
  {
   "cell_type": "code",
   "execution_count": null,
   "metadata": {},
   "outputs": [],
   "source": []
  },
  {
   "cell_type": "code",
   "execution_count": 191,
   "metadata": {},
   "outputs": [],
   "source": [
    "# Forward Pass\n",
    "# alpha_1_0 = p(x_1)\n",
    "# alpha_1_1 = p(y_1|x_1)p(x_1) = p(y_1|x_1) alpha_1_0\n",
    "alpha_1_0 = np.ones((N, 1)) / N \n",
    "alpha_1_1 = obs_model.dot(alpha_1_0)\n",
    "\n",
    "# Python indices start from zero so\n",
    "# log \\alpha_{k|k} will be in log_alpha[:,k-1]\n",
    "# log \\alpha_{k|k-1} will be in log_alpha_pred[:,k-1]\n",
    "\n",
    "x = xs[si, :]\n",
    "y = ys[si, :]\n",
    "p = alpha_1_0.copy()\n",
    "A = tran_model.copy()\n",
    "B = obs_model.copy()\n",
    "\n",
    "logA = np.log(A)\n",
    "logB = np.log(B)\n",
    "\n",
    "# N: number of states/positions\n",
    "# nr_ts: number of time steps\n",
    "log_alpha  = np.zeros((N, nr_ts))\n",
    "log_alpha_pred = np.zeros((N, nr_ts))\n",
    "\n",
    "for ti in np.arange(nr_ts):\n",
    "    if ti==0:\n",
    "        log_alpha_pred[:,0] = np.log(p)[0]\n",
    "    else:\n",
    "        log_alpha_pred[:,ti] = predict(A, log_alpha[:,ti-1])\n",
    "    \n",
    "    log_alpha[:,ti] = update(y[ti], logB, log_alpha_pred[:,ti])  \n",
    "    \n",
    "\n",
    "# Backward Pass\n",
    "log_beta  = np.zeros((N, nr_ts))\n",
    "log_beta_post = np.zeros((N, nr_ts))\n",
    "\n",
    "backward_range = np.arange(nr_ts - 1, -1, -1)\n",
    "for ti in backward_range:\n",
    "    if ti == nr_ts - 1:\n",
    "        log_beta_post[:,ti] = np.zeros(N)\n",
    "    else:\n",
    "        log_beta_post[:,ti] = postdict(A, log_beta[:,ti+1])\n",
    "    log_beta[:,ti] = update(y[ti], logB, log_beta_post[:,ti])  \n"
   ]
  },
  {
   "cell_type": "code",
   "execution_count": 194,
   "metadata": {},
   "outputs": [
    {
     "name": "stdout",
     "output_type": "stream",
     "text": [
      "-228.50108064295685\n"
     ]
    }
   ],
   "source": [
    "# Smoother check\n",
    "# All numbers must be equal to the marginal likelihood p(y_{1:K})\n",
    "\n",
    "log_gamma = log_alpha + log_beta_post\n",
    "print(stable_logsumexp(log_gamma))\n",
    "\n"
   ]
  },
  {
   "cell_type": "code",
   "execution_count": 184,
   "metadata": {},
   "outputs": [
    {
     "data": {
      "text/plain": [
       "array([119, 118, 117, 116, 115, 114, 113, 112, 111, 110, 109, 108, 107,\n",
       "       106, 105, 104, 103, 102, 101, 100,  99,  98,  97,  96,  95,  94,\n",
       "        93,  92,  91,  90,  89,  88,  87,  86,  85,  84,  83,  82,  81,\n",
       "        80,  79,  78,  77,  76,  75,  74,  73,  72,  71,  70,  69,  68,\n",
       "        67,  66,  65,  64,  63,  62,  61,  60,  59,  58,  57,  56,  55,\n",
       "        54,  53,  52,  51,  50,  49,  48,  47,  46,  45,  44,  43,  42,\n",
       "        41,  40,  39,  38,  37,  36,  35,  34,  33,  32,  31,  30,  29,\n",
       "        28,  27,  26,  25,  24,  23,  22,  21,  20,  19,  18,  17,  16,\n",
       "        15,  14,  13,  12,  11,  10,   9,   8,   7,   6,   5,   4,   3,\n",
       "         2,   1,   0])"
      ]
     },
     "execution_count": 184,
     "metadata": {},
     "output_type": "execute_result"
    }
   ],
   "source": [
    "                          \n",
    "range(nr_ts-1,-1,-1),\n",
    "np.arange(nr_ts-1,-1,-1)"
   ]
  },
  {
   "cell_type": "code",
   "execution_count": 190,
   "metadata": {},
   "outputs": [],
   "source": []
  },
  {
   "cell_type": "code",
   "execution_count": null,
   "metadata": {},
   "outputs": [],
   "source": [
    "# (a) Distribution of the robot’s current position given the observations so far"
   ]
  },
  {
   "cell_type": "code",
   "execution_count": 143,
   "metadata": {},
   "outputs": [
    {
     "name": "stdout",
     "output_type": "stream",
     "text": [
      "[[0.02 0.02 0.02 0.02 0.02 0.02 0.02 0.02 0.02 0.02 0.02 0.02 0.02 0.02\n",
      "  0.02 0.02 0.02 0.02 0.02 0.02 0.02 0.02 0.02 0.02 0.02 0.02 0.02 0.02\n",
      "  0.02 0.02 0.02 0.02 0.02 0.02 0.02 0.02 0.02 0.02 0.02 0.02 0.02 0.02\n",
      "  0.02 0.02 0.02 0.02 0.02 0.02 0.02 0.02]] [[0.02 0.02 0.02 0.02 0.02 0.02 0.02 0.02 0.02 0.02 0.02 0.02 0.02 0.02\n",
      "  0.02 0.02 0.02 0.02 0.02 0.02 0.02 0.02 0.02 0.02 0.02 0.02 0.02 0.02\n",
      "  0.02 0.02 0.02 0.02 0.02 0.02 0.02 0.02 0.02 0.02 0.02 0.02 0.02 0.02\n",
      "  0.02 0.02 0.02 0.02 0.02 0.02 0.02 0.02]]\n"
     ]
    }
   ],
   "source": [
    "alpha_1_0 = np.ones((N, 1)) / N \n",
    "alpha_1_1 = obs_model.dot(alpha_1_0)\n",
    "\n",
    "print (alpha_1_0.T , alpha_1_1.T)"
   ]
  },
  {
   "cell_type": "code",
   "execution_count": null,
   "metadata": {},
   "outputs": [],
   "source": [
    "# (b) Distribution of the robot’s position at time step k given all the observations"
   ]
  },
  {
   "cell_type": "code",
   "execution_count": null,
   "metadata": {},
   "outputs": [],
   "source": [
    "# (f) Most likely current position of the robot given the observations so far"
   ]
  },
  {
   "cell_type": "code",
   "execution_count": null,
   "metadata": {},
   "outputs": [],
   "source": []
  },
  {
   "cell_type": "code",
   "execution_count": null,
   "metadata": {},
   "outputs": [],
   "source": []
  },
  {
   "cell_type": "code",
   "execution_count": null,
   "metadata": {},
   "outputs": [],
   "source": []
  },
  {
   "cell_type": "code",
   "execution_count": null,
   "metadata": {},
   "outputs": [],
   "source": [
    "print (xs, '\\n', ys)\n",
    "\n",
    "\n",
    "idx_loc = sample_loc(rand_prob, y_pi_prob) \n",
    "\n",
    "print (xpi_, rand_prob, y_pi_prob, idx_loc)"
   ]
  },
  {
   "cell_type": "code",
   "execution_count": null,
   "metadata": {},
   "outputs": [],
   "source": [
    "#f = X(find(rand<cumsum(P),1,'first'))\n",
    "\n",
    "p_dis = obs_model[:,3]\n",
    "xi = np.random.uniform(0, 1)\n",
    "cum_sum = np.cumsum(p_dis)\n",
    "\n",
    "xi = \n",
    "\n",
    "\n",
    "\n",
    "idx = np.where(xi < cum_sum)\n",
    "\n",
    "print (cum_sum, xi, idx[0][0])"
   ]
  },
  {
   "cell_type": "code",
   "execution_count": 25,
   "metadata": {},
   "outputs": [
    {
     "data": {
      "text/plain": [
       "(48,)"
      ]
     },
     "execution_count": 25,
     "metadata": {},
     "output_type": "execute_result"
    }
   ],
   "source": [
    "\n",
    "N = 50 \n",
    "i = 49\n",
    "j = np.mod(i- 1 +N,N)\n",
    "j,\n"
   ]
  },
  {
   "cell_type": "code",
   "execution_count": 20,
   "metadata": {},
   "outputs": [
    {
     "name": "stdout",
     "output_type": "stream",
     "text": [
      "2.66 µs ± 38.5 ns per loop (mean ± std. dev. of 7 runs, 100000 loops each)\n",
      "[ 0  1  2  3  4  5  6  7  8  9 10 11 12 13 14 15 16 17 18 19 20 21 22 23\n",
      " 24 25 26 27 28 29 30 31 32 33 34 35 36 37 38 39 40 41 42 43 44 45 46 47\n",
      " 48 49 50 51 52 53 54 55 56 57 58 59 60 61 62 63 64 65 66 67 68 69 70 71\n",
      " 72 73 74 75 76 77 78 79 80 81 82 83 84 85 86 87 88 89 90 91 92 93 94 95\n",
      " 96 97 98 99]\n"
     ]
    }
   ],
   "source": [
    "%timeit np.sum(np.arange(100))\n",
    "x0 = np.arange(100)\n",
    "print (x0)"
   ]
  },
  {
   "cell_type": "code",
   "execution_count": null,
   "metadata": {},
   "outputs": [],
   "source": [
    "# An implementation of the forward backward algorithm\n",
    "# For numerical stability, we calculate everything in the log domain\n",
    "\n",
    "def normalize_exp(log_P, axis=None):\n",
    "    a = np.max(log_P, keepdims=True, axis=axis)\n",
    "    P = normalize(np.exp(log_P - a), axis=axis)\n",
    "    return P\n",
    "\n",
    "\n",
    "def normalize(A, axis=None):\n",
    "    Z = np.sum(A, axis=axis,keepdims=True)\n",
    "    idx = np.where(Z == 0)\n",
    "    Z[idx] = 1\n",
    "    return A/Z\n",
    "\n",
    "def randgen(pr, N=1): \n",
    "    L = len(pr)\n",
    "    return np.random.choice(range(L), size=N, replace=True, p=pr)\n",
    "\n",
    "def predict(A, lp):\n",
    "    lstar = np.max(lp)\n",
    "    return lstar + np.log(np.dot(A,np.exp(lp-lstar)))\n",
    "\n",
    "\n",
    "def postdict(A, lp):\n",
    "    lstar = np.max(lp)\n",
    "    return lstar + np.log(np.dot(np.exp(lp-lstar), A))\n",
    "\n",
    "def update(y, logB, lp):\n",
    "    return logB[y,:] + lp"
   ]
  },
  {
   "cell_type": "code",
   "execution_count": null,
   "metadata": {},
   "outputs": [],
   "source": []
  },
  {
   "cell_type": "code",
   "execution_count": null,
   "metadata": {},
   "outputs": [],
   "source": []
  },
  {
   "cell_type": "code",
   "execution_count": null,
   "metadata": {},
   "outputs": [],
   "source": []
  },
  {
   "cell_type": "code",
   "execution_count": null,
   "metadata": {},
   "outputs": [],
   "source": []
  },
  {
   "cell_type": "code",
   "execution_count": null,
   "metadata": {},
   "outputs": [],
   "source": [
    "\n",
    "Break:\n",
    "\n",
    "\\begin{eqnarray}\n",
    "p(y_{1:K}|x^*_{1:K}) & = & \\max_{x_{1:K}} p(y_{1:K}|x_{1:K}) p(x_{1:K}) \\\\\n",
    "& = &  \\underbrace{\\max_{x_K} L(y_T | x_K ) +\\max_{x_{K-1}} L(x_K|x_{K-1})}_{\\alpha_K}  \\dots +\\max_{x_{2}} L(x_3|x_{2})\n",
    "                               \\underbrace{L(y_{2}|x_{2})\\overbrace{ +\\max_{x_{1}} L(x_2|x_{1})}^{\\alpha_{2|1}} }_{\\alpha_2}\n",
    "                                 \\underbrace{L(y_{1}|x_{1})+\\overbrace{L(x_1)}^{\\alpha_{1|0}}}_{\\alpha_1}\n",
    "\\end{eqnarray}\n",
    "\n",
    "\\begin{eqnarray}\n",
    "p(y_{1:K}|x^*_{1:K})  =   \\max_{x_1} p(x_1) p(y_1 | x_1 )\n",
    "%underbrace{\\max_{x_2} p(x_2|x_{1}) p(y_2 | x_2 )}_{\\beta_1}\n",
    "\\dots\n",
    "\\underbrace{ \\max_{x_{K-1}} p(x_{K-1}|x_{K-2}) p(y_{K-1} | x_{K-1} )}_{\\beta_{K-2}}\n",
    "\\underbrace{ \\max_{x_K} p(x_K|x_{K-1}) p(y_K | x_K )}_{\\beta_{K-1}}\n",
    "\\underbrace{{\\pmb 1}}_{\\beta_{K}}\n",
    "\\end{eqnarray}\n",
    "\n",
    "\n",
    "\n",
    "p(y_{1:k}|x^*_{1:k})  =   \\max_{x_1} p(x_1) p(y_1 | x_1 )\n",
    "%underbrace{\\max_{x_2} p(x_2|x_{1}) p(y_2 | x_2 )}_{\\beta_1}\n",
    "\\dots\n",
    "\\underbrace{ \\max_{x_{k-1}} p(x_{k-1}|x_{k-2}) p(y_{k-1} | x_{k-1} )}_{\\beta_{k-2}}\n",
    "\\underbrace{ \\max_{x_k} p(x_k|x_{k-1}) p(y_k | x_k )}_{\\beta_{k-1}}\n",
    "\\underbrace{{\\pmb 1}}_{\\beta_{k}}\n"
   ]
  },
  {
   "cell_type": "code",
   "execution_count": null,
   "metadata": {},
   "outputs": [],
   "source": [
    "(d) Distribution of the robot’s next sensor reading given the observations so far\n",
    "\n",
    "\\begin{eqnarray}\n",
    "p(y_{1:K}) & = & \\sum_{x_{1:K}} p(y_{1:K}|x_{1:K}) p(x_{1:K}) \\\\\n",
    "& = &  \\underbrace{\\sum_{x_K} p(y_K | x_K ) \\sum_{x_{K-1}} p(x_K|x_{K-1})  \\dots \\sum_{x_{2}} p(x_3|x_{2})\n",
    "\\underbrace{ p(y_{2}|x_{2}) \\overbrace{ \\sum_{x_{1}} p(x_2|x_{1})\n",
    "\\underbrace{ p(y_{1}|x_{1}) \\overbrace{ p(x_1)}^{\\alpha_{1|0}}}_{\\alpha_{1|1}}\n",
    "}^{\\alpha_{2|1}} }_{\\alpha_{2|2}}}_{\\alpha_{K|K}}\n",
    "\\end{eqnarray}"
   ]
  },
  {
   "cell_type": "markdown",
   "metadata": {},
   "source": [
    "\\begin{eqnarray}\n",
    "p(y_{1:K}) & = & \\sum_{x_{1:K}} p(y_{1:K}|x_{1:K}) p(x_{1:K}) \\\\\n",
    "& = &  \\underbrace{\\sum_{x_K} p(y_K | x_K ) \\sum_{x_{K-1}} p(x_K|x_{K-1})  \\dots \\sum_{x_{2}} p(x_3|x_{2})\n",
    "\\underbrace{ p(y_{2}|x_{2}) \\overbrace{ \\sum_{x_{1}} p(x_2|x_{1})\n",
    "\\underbrace{ p(y_{1}|x_{1}) \\overbrace{ p(x_1)}^{\\alpha_{1|0}}}_{\\alpha_{1|1}}\n",
    "}^{\\alpha_{2|1}} }_{\\alpha_{2|2}}}_{\\alpha_{K|K}}\n",
    "\\end{eqnarray}"
   ]
  },
  {
   "cell_type": "code",
   "execution_count": null,
   "metadata": {},
   "outputs": [],
   "source": [
    "&= \\sum_{x_{k+1}}p(y_{k+1}|x_{k+1})\\sum_{x_k}p(x_{k+1}|x_{k})\\alpha_{k|k}(x_k)}"
   ]
  },
  {
   "cell_type": "code",
   "execution_count": null,
   "metadata": {},
   "outputs": [],
   "source": [
    "\\begin{align}\n",
    " p(x_k , y_{1:K}) &= p(x_k, y_{1:k}, y_{k+1:K}) = p(x_k, y_{1:k})* p(y_{k+1:K}|(x_k, y_{1:k}) \\\\\n",
    "   &= p(x_k, y_{1:k})* p(y_{k+1:K}|(x_k) =  \\alpha_{k|k}(x_k) * \\beta_{k|k+1}(x_k) \n",
    "\\end{align}\n",
    "\n",
    "\n",
    "\n",
    "%\\begin{equation*}\n",
    "$$\n",
    "\\large p(x_k , y_{1:K}) &= p(x_k, y_{1:k}, y_{k+1:K}) = p(x_k, y_{1:k})* p(y_{k+1:K}|(x_k, y_{1:k}) \\\\\n",
    "   &= p(x_k, y_{1:k})* p(y_{k+1:K}|(x_k) =  \\alpha_{k|k}(x_k) * \\beta_{k|k+1}(x_k)   \n",
    "$$   \n",
    "%\\end{equation*}\n",
    "\n",
    "\n",
    "....\n",
    "....\n",
    "\n",
    "\n",
    "\n",
    "\n",
    "\n",
    "\n",
    "\n"
   ]
  },
  {
   "cell_type": "markdown",
   "metadata": {},
   "source": [
    "{\\tiny\n",
    "    \\begin{align}\n",
    "        a &< b\n",
    "    \\end{align}\n",
    "}"
   ]
  },
  {
   "cell_type": "code",
   "execution_count": null,
   "metadata": {},
   "outputs": [],
   "source": [
    "\\begin{equation}% \n",
    "\\mbox{\\Large\\( %\n",
    "f(y) = a \\cdot k^{y} %\n",
    "\\)} %\n",
    "\\end{equation}"
   ]
  },
  {
   "cell_type": "code",
   "execution_count": null,
   "metadata": {},
   "outputs": [],
   "source": [
    "class LogReg(object):\n",
    "    \"\"\"A class for the logistic regression with L2 penalization\"\"\"\n",
    "\n",
    "    def __init__(self, X, y, lbda):\n",
    "        self.X = X\n",
    "        self.y = y\n",
    "        self.n, self.d = X.shape\n",
    "        self.lbda = lbda\n",
    "    \n",
    "    def grad(self, w):        \n",
    "        return 1./ self.n * (- self.y.T.dot(self.X)) / (1 + np.exp(self.y.T.dot(self.X).dot(w))) + self.lbda * w\n",
    "\n",
    "    def f(self, w):\n",
    "        bAx = self.y * np.dot(self.X, w)\n",
    "        return np.mean(np.log(1. + np.exp(- bAx))) + self.lbda * norm(w) ** 2 / 2.\n",
    "    \n",
    "    def f_i(self,i, w):\n",
    "        bAx_i = self.y[i] * np.dot(self.X[i], w)\n",
    "        return np.log(1. + np.exp(- bAx_i)) + self.lbda * norm(w) ** 2 / 2.\n",
    "    \n",
    "    def grad_i(self, i, w):\n",
    "        # calculate the gradient of f_i \n",
    "        return - self.y[i] * self.X[i,:] / (1 + np.exp(self.y[i] * self.X[i,:].dot(w))) + self.lbda * w\n",
    "\n",
    "    def lipschitz_constant(self):\n",
    "        \"\"\"Return the Lipschitz constant of the gradient\"\"\"\n",
    "        L = norm(self.X, ord=2) ** 2  / (4. * self.n) + self.lbda\n",
    "        return L\n",
    "    \n",
    "    \n",
    "    "
   ]
  },
  {
   "cell_type": "code",
   "execution_count": null,
   "metadata": {},
   "outputs": [],
   "source": [
    "$p(x_{k+1}|x_k=i)= \\Bigg[ \\begin{array}{cc}\n",
    "0 & 1  \\\\\n",
    "... & 2 \\\\\n",
    "... & ... \\\\\n",
    "1 - \\epsilon & j \\\\\n",
    "\\epsilon & i \\\\\n",
    "... & ... \\\\\n",
    "\n",
    "0 & N  \\end{array}\\Bigg]$\n",
    "\n",
    "\n",
    "$\\bigg[ \\begin{array}{c}\n",
    "a  \\\\\n",
    "b \\end{array} \\bigg]$\n",
    "$=\\Bigg[ \\begin{array}{c}\n",
    "y_1   \\\\\n",
    "...  \\\\\n",
    "y_n  \\end{array} \\Bigg]$\n",
    "\n",
    "This is break\n",
    "\n",
    "$p(x_{k+1}|x_k=i)= \\Bigg[ \\begin{array}{cc}\n",
    " 0  & 1  \\\\\n",
    "... & 2  \\\\\n",
    "... & ... \\\\\n",
    "1 - \\epsilon & j \\\\\n",
    "\\epsilon & i \\\\\n",
    "... & ... \\\\\n",
    "0 & N \\end{array} \\Bigg]$\n"
   ]
  },
  {
   "cell_type": "code",
   "execution_count": 46,
   "metadata": {},
   "outputs": [
    {
     "ename": "SyntaxError",
     "evalue": "invalid syntax (<ipython-input-46-0a391cb2d658>, line 1)",
     "output_type": "error",
     "traceback": [
      "\u001b[0;36m  File \u001b[0;32m\"<ipython-input-46-0a391cb2d658>\"\u001b[0;36m, line \u001b[0;32m1\u001b[0m\n\u001b[0;31m    $\\Rightarrow\\Bigg[ \\begin{array}{cc}\u001b[0m\n\u001b[0m    ^\u001b[0m\n\u001b[0;31mSyntaxError\u001b[0m\u001b[0;31m:\u001b[0m invalid syntax\n"
     ]
    }
   ],
   "source": [
    "$\\Rightarrow\\Bigg[ \\begin{array}{cc}\n",
    "x_1 & 1  \\\\\n",
    "... & 1 \\\\\n",
    "x_n & 1  \\end{array} \\Bigg]$\n",
    "$\\bigg[ \\begin{array}{c}\n",
    "a  \\\\\n",
    "b \\end{array} \\bigg]$\n",
    "$=\\Bigg[ \\begin{array}{c}\n",
    "y_1   \\\\\n",
    "...  \\\\\n",
    "y_n  \\end{array} \\Bigg]$\n",
    "\n",
    "\n",
    "\n",
    "This to break\n",
    "$$\\begin{pmatrix}a & b\\\\\\ c & d\\end{pmatrix}$$\n",
    "\n",
    "This to break\n",
    "\n",
    "$p(x_{k+1}|x_k=i)= \\Bigg\\{ \\begin{array}{cc}\n",
    " 0   \\\\\n",
    "...  \\\\\n",
    "1 - \\epsilon  \\\\\n",
    "\\epsilon  \\\\\n",
    "...  \\\\\n",
    "0 \\end{array}\n",
    "\\Bigg\\} \\Bigg[\\begin{array}{cc} \n",
    " 1   \\\\\n",
    "...  \\\\\n",
    "j \\\\\n",
    "i  \\\\\n",
    "...  \\\\\n",
    "N \n",
    "\\end{array} \\Bigg] $\n",
    "\n",
    "\n"
   ]
  },
  {
   "cell_type": "code",
   "execution_count": null,
   "metadata": {},
   "outputs": [],
   "source": [
    "var1 = input(\"Enter a: \")\n",
    "var2 = input(\"Enter b: \")\n",
    "exponent = input(\"Enter n: \")\n",
    "\n",
    "a = int(var1)\n",
    "b = int(var2)\n",
    "n = int(exponent)\n",
    "\n",
    "expression = ('%(1)dx^%(2)d') %{'1' : a, '2' : n}\n",
    "\n",
    "print(expression)"
   ]
  },
  {
   "cell_type": "code",
   "execution_count": null,
   "metadata": {},
   "outputs": [],
   "source": [
    "#titlestr = 'Directed Graphical model, with','$x_i$'', ' the actual position', $y_i$, 'the observed position'\n",
    "#\"meters $10^1$\"\n",
    "\n",
    "titlestr = \"Directed Graphical model, with \" + \"$x_i$\" + \" the actual position and $y_i$ the observed position\"\n",
    "titlestr,\n",
    "\n",
    "x1 = r'$\\alpha_i > \\beta_i$'\n",
    "x1,\n",
    "\n",
    "r'$\\frac{3}{4} \\binom{3}{4} \\stackrel{3}{4}$'\n",
    "\n",
    "x1 = r\"$s(t) = \\mathcal{A}\\mathrm{sin}(2 \\omega t)$\"\n",
    "print (x1)\n",
    "\n",
    "#x1 =  'Here is a {} floating point number'.format(3.33333)'\n",
    "x1 = ('(%(1)s%(2)d)^%(3)d') %\\\n",
    "{'1' : 'x', '2' : 2, '3' : 6}\n",
    "\n",
    "\n",
    "print(x1)"
   ]
  },
  {
   "cell_type": "code",
   "execution_count": null,
   "metadata": {},
   "outputs": [],
   "source": [
    "#x1 = ('%(1)s%^%(2)d') %{'1' : 'x',  '2' : 6}\n",
    "from sympy import pretty_print as pp, latex\n",
    "#x1 = ('%(1)s_%(2)d') %{'1' : 'x',  '2' : 6}\n",
    "#x2 = latex(\"$x_i$\")\n",
    "\n",
    "#x2 = x\\N{SUPERSCRIPT THREE}\n",
    "\n",
    "\n",
    "x2 = f'\\N{GREEK SMALL LETTER GAMMA}={density:.2f} t/m\\N{SUPERSCRIPT THREE}'\n",
    "print (x2)\n",
    "#print(latex(x2))\n",
    "#print(x2)"
   ]
  },
  {
   "cell_type": "code",
   "execution_count": null,
   "metadata": {},
   "outputs": [],
   "source": [
    "(d) Distribution of the robot’s next sensor reading given the observations so far\n",
    "\n",
    "$$\\large\n",
    "\\begin{align*}\n",
    "p(y_{k+1}|y_{1:k}) &= \\frac{p(y_{k+1},y_{1:k})}{p(y_{1:k})} =  p(y_{k+1},y_{1:k}) = p(y_{1:k+1}) \\\\\n",
    "    &= \\sum_{x_1, x_2, \\ ...,\\ x_{k+1}} p(y_{1:k+1}, x_{1:k+1}) \\\\\n",
    "    &= \\sum_{x_1, x_2, \\ ...,\\ x_{k+1}}p(x_1)p(y_1|x_1)\\pi_{n=2}^{k+1}p(x_n|x_{n-1})p(y_n|x_n) \\\\\n",
    "    &= \\sum_{x_1, x_2, \\ ...,\\ x_{k+1}}p(y_{k+1}|x_{k+1})p(x_k|x_{k+1})  ...p(y_{2}|x_{2})p(x_2|x_{1})p(y_{1}|x_{1})p(x_{1}) \\\\\n",
    "    &= \\sum_{x_{k+1}}p(y_{k+1}|x_{k+1})\\sum_{x_k}p(x_{k+1}|x_{k})p(y_k|x_k)...  \\sum_{x_2}p(x_{3}|x_{2})p(y_2|x_2)\\sum_{x_1}p(x_{2}|x_{1})p(y_1|x_1)p(x_1)  \\\\\n",
    "    &= \\sum_{x_{k+1}}p(y_{k+1}|x_{k+1}) \\sum_{x_k}p(x_{k+1}|x_{k})\\alpha_{k|k}(x_k)\n",
    "\\end{align*}\n",
    "$$\n",
    "\n",
    "## Please review this part!"
   ]
  },
  {
   "cell_type": "code",
   "execution_count": null,
   "metadata": {},
   "outputs": [],
   "source": []
  },
  {
   "cell_type": "code",
   "execution_count": null,
   "metadata": {},
   "outputs": [],
   "source": []
  },
  {
   "cell_type": "code",
   "execution_count": null,
   "metadata": {},
   "outputs": [],
   "source": [
    "\n",
    "Where\n",
    "$$\\large\n",
    "\\begin{align*}\n",
    "p(y_{1:k}|x^*_{1:k}) & = \\max_{x_{1:k}} p(y_{1:k},x_{1:k}) p(x_{1:k}) \\\\\n",
    "& =  \\underbrace{\\max_{x_k} L(y_T | x_k ) +\\max_{x_{k-1}} L(x_k|x_{k-1})}_{\\alpha_k}  \\dots +\\max_{x_{2}} \\underbrace{L(y_{2}|x_{2})\\overbrace{ +\\max_{x_{1}} L(x_2|x_{1})}^{\\alpha_{2|1}} }_{\\alpha_2}\n",
    "\\underbrace{L(y_{1}|x_{1})+\\overbrace{L(x_1)}^{\\alpha_{1|0}}}_{\\alpha_1} \\\\\n",
    "\\end{align*}\n",
    "$$\n",
    "\n",
    "Then\n",
    "$$\\large\n",
    "\\begin{align*}\n",
    "p(y_{1:k}|x^*_{1:k})  & =   \\max_{x_1} p(x_1) p(y_1 | x_1 )\n",
    "%underbrace{\\max_{x_2} p(x_2|x_{1}) p(y_2 | x_2 )}_{\\beta_1}\n",
    "\\dots\n",
    "\\underbrace{ \\max_{x_{k-1}} p(x_{k-1}|x_{k-2}) p(y_{k-1} | x_{k-1} )}_{\\beta_{k-2}}\n",
    "\\underbrace{ \\max_{x_k} p(x_k|x_{k-1}) p(y_k | x_k )}_{\\beta_{k-1}}\n",
    "\\underbrace{{\\pmb 1}}_{\\beta_{k}}\n",
    "\\end{align*}\n",
    "$$\n",
    "\n",
    "\n",
    "The derivation depends on the following decomposition. By the chain rule of probabilities, we write\n",
    "\\begin{eqnarray}\n",
    "p(x_{1:t}|y_{1:t}) & = & p(x_{1}|x_{2:t}, y_{1:t}) \\cdots p(x_{t-2}|x_{t-1:t}, y_{1:t}) p(x_{t-1}|x_t, y_{1:t}) p(x_{t}|y_{1:t}) \n",
    "\\end{eqnarray}\n",
    "The key observation is that this expression admits computation in the forward direction. By conditional independence\n",
    "\\begin{eqnarray}\n",
    "p(x_{1:t}|y_{1:t}) & = & p(x_{1}|x_{2}, y_{1}) \\cdots p(x_{t-2}|x_{t-1}, y_{1:t-2}) p(x_{t-1}|x_t, y_{1:t-1}) p(x_{t}|y_{1:t}) \n",
    "\\end{eqnarray}\n"
   ]
  },
  {
   "cell_type": "code",
   "execution_count": null,
   "metadata": {},
   "outputs": [],
   "source": [
    "\n",
    "test2\n",
    "\n",
    "\n",
    "$$\\large\n",
    "\\begin{align*}\n",
    "x_{1:k}^* &= arg \\max_{x_{1:k}}p(x_{1:k}|y_{1:k}) \\\\\n",
    " & = \\arg\\max_{x_{1:k}} \\frac{p(y_{1:k}|x_{1:k}) p(x_{1:k})}{p(y_{1:k})} \\\\\n",
    " & = \\arg\\max_{x_{1:k}} \\log p(y_{1:k}|x_{1:k}) + \\log p(x_{1:k}) - \\log p(y_{1:k}) \n",
    "\\end{align*}\n",
    "$$\n",
    "TEST\n",
    "\n",
    "$$\\large\n",
    "\\begin{align*}\n",
    "x_{1:k}^* &= arg \\max_{x_{1:k}}p(x_{1:k}|y_{1:k}) \\\\\n",
    "&= arg \\max_{x_{1:k}} p(x_{1}|x_{2:t}, y_{1:t}) \\cdots p(x_{t-2}|x_{t-1:t}, y_{1:t}) p(x_{t-1}|x_t, y_{1:t}) p(x_{t}|y_{1:t}) \\\\\n",
    "\\underbrace{arg \\max_{x_{1:k}} p(x_{1}|x_{2:t}, y_{1:t}) \\cdots p(x_{t-2}|x_{t-1:t}, y_{1:t}) p(x_{t-1}|x_t, y_{1:t}) p(x_{t}|y_{1:t})}_{By conditional independence}\n",
    "& = arg \\max_{x_{1:k}} p(x_{1}|x_{2}, y_{1}) \\cdots p(x_{t-2}|x_{t-1}, y_{1:t-2}) p(x_{t-1}|x_t, y_{1:t-1}) p(x_{t}|y_{1:t}) \n",
    "\\end{align*}\n",
    "$$\n",
    "\n",
    "\n",
    "\n",
    "\n",
    "Where\n",
    "$$\\large\n",
    "\\begin{align*}\n",
    "p(y_{1:k}|x^*_{1:k}) & = \\max_{x_{1:k}} p(y_{1:k},x_{1:k}) p(x_{1:k}) \n",
    "\\end{align*}\n",
    "$$\n",
    "\n",
    "Then\n",
    "$$\\large\n",
    "\\begin{align*}\n",
    "p(y_{1:k}|x^*_{1:k})  & =   \\max_{x_1} p(x_1) p(y_1 | x_1 )\n",
    "%underbrace{\\max_{x_2} p(x_2|x_{1}) p(y_2 | x_2 )}_{\\beta_1}\n",
    "\\dots\n",
    "\\underbrace{ \\max_{x_{k-1}} p(x_{k-1}|x_{k-2}) p(y_{k-1} | x_{k-1} )}_{\\beta_{k-2}}\n",
    "\\underbrace{ \\max_{x_k} p(x_k|x_{k-1}) p(y_k | x_k )}_{\\beta_{k-1}}\n",
    "\\underbrace{{\\pmb 1}}_{\\beta_{k}}\n",
    "\\end{align*}\n",
    "$$\n",
    "\n",
    "\n",
    "The derivation depends on the following decomposition. By the chain rule of probabilities, we write\n",
    "\\begin{eqnarray}\n",
    "p(x_{1:t}|y_{1:t}) & = & p(x_{1}|x_{2:t}, y_{1:t}) \\cdots p(x_{t-2}|x_{t-1:t}, y_{1:t}) p(x_{t-1}|x_t, y_{1:t}) p(x_{t}|y_{1:t}) \n",
    "\\end{eqnarray}\n",
    "The key observation is that this expression admits computation in the forward direction. By conditional independence\n",
    "\\begin{eqnarray}\n",
    "p(x_{1:t}|y_{1:t}) & = & p(x_{1}|x_{2}, y_{1}) \\cdots p(x_{t-2}|x_{t-1}, y_{1:t-2}) p(x_{t-1}|x_t, y_{1:t-1}) p(x_{t}|y_{1:t}) \n",
    "\\end{eqnarray}\n"
   ]
  }
 ],
 "metadata": {
  "kernelspec": {
   "display_name": "Python 3",
   "language": "python",
   "name": "python3"
  },
  "language_info": {
   "codemirror_mode": {
    "name": "ipython",
    "version": 3
   },
   "file_extension": ".py",
   "mimetype": "text/x-python",
   "name": "python",
   "nbconvert_exporter": "python",
   "pygments_lexer": "ipython3",
   "version": "3.6.6"
  }
 },
 "nbformat": 4,
 "nbformat_minor": 2
}
