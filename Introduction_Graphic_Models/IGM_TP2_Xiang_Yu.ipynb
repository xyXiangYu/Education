{
 "cells": [
  {
   "cell_type": "markdown",
   "metadata": {},
   "source": [
    "# Introduction to Probabilistic Graphical Models\n",
    "## Practical Session 2\n",
    "### Author: Xiang Yu, Email: shawnxiangyu@yahoo.com"
   ]
  },
  {
   "cell_type": "code",
   "execution_count": 12,
   "metadata": {},
   "outputs": [],
   "source": [
    "%matplotlib inline\n",
    "import numpy as np\n",
    "from scipy.linalg import norm\n",
    "import matplotlib.pyplot as plt\n",
    "import networkx as nx\n",
    "import pyparsing\n",
    "from IPython.display import Math\n",
    "import copy\n",
    "import math\n",
    "## we first run the code with the warning enabled, if no error of relevant warning is to be found, \n",
    "## we disable the warning then\n",
    "# import warnings\n",
    "# warnings.filterwarnings(\"ignore\")"
   ]
  },
  {
   "cell_type": "code",
   "execution_count": 13,
   "metadata": {},
   "outputs": [],
   "source": [
    "# choose a large font size by default and use tex for math\n",
    "fontsize = 18\n",
    "params = {'axes.labelsize': fontsize + 2,\n",
    "      'font.size': fontsize + 2,\n",
    "      'legend.fontsize': fontsize + 2,\n",
    "      'xtick.labelsize': fontsize,\n",
    "      'ytick.labelsize': fontsize,\n",
    "      'text.usetex': True}\n",
    "plt.rcParams.update(params)"
   ]
  },
  {
   "cell_type": "code",
   "execution_count": 14,
   "metadata": {},
   "outputs": [],
   "source": [
    "math_pi = math.pi"
   ]
  },
  {
   "cell_type": "markdown",
   "metadata": {},
   "source": [
    "#### Question 1"
   ]
  },
  {
   "cell_type": "markdown",
   "metadata": {},
   "source": [
    "We need to compute    \n",
    "$$\n",
    "\\large \\gamma_i(x) = \\frac{\\pi_i \\mathcal{N}(x;\\mu_i, \\Sigma_i)}{ \\sum_{j=1}^K \\pi_j \\mathcal{N}(x;\\mu_j, \\Sigma_j)}\n",
    "$$\n",
    "We could take log on both side, then \n",
    "$$\n",
    "\\large \\log\\gamma_i(x) = \\log(\\pi_i \\mathcal{N}(x;\\mu_i, \\Sigma_i)) - \\log(\\sum_{j=1}^K \\pi_j \\mathcal{N}(x;\\mu_j, \\Sigma_j))\n",
    "$$\n",
    "\n",
    "where $\\log(\\sum\\pi_j\\mathcal{N_j})$ could be calculated with the stable method in the Practical Session 1.I.e. \n",
    "\n",
    "\n",
    "\\begin{align}\n",
    "\\large \\log(\\sum\\pi_j\\mathcal{N_j}) \n",
    " &= \\large log\\sum_{i=1}^I \\pi_j \\kappa_j\\exp(v_j) \\\\\n",
    " & = \\large \\log\\sum_{j=1}^I \\pi_j\\kappa_j \\exp(v_j- V_{max} + V_{max}) \\\\\n",
    "  & = \\large \\log\\sum_{j=1}^I \\pi_j\\kappa_j\\exp(v_j- V_{max}) \\exp(V_{max}) \\\\\n",
    " & = \\large V_{max} + \\log\\sum_{j=1}^I \\pi_j\\kappa_j\\exp(v_j- V_{max})\n",
    "\\end{align}\n",
    "\n",
    "\n",
    "\n",
    "\\begin{align}\n",
    "\\large \\mathcal{N_j} \n",
    " = \\large \\mathcal{N_j}(x;\\boldsymbol\\mu_j, \\boldsymbol\\Sigma_j)  = \\kappa_j\\exp(v_j) = \\frac{\\exp\\left(-\\frac 1 2 ({\\mathbf x}-{\\boldsymbol\\mu_j})^\\mathrm{T}{\\boldsymbol\\Sigma_j}^{-1}({\\mathbf x}-{\\boldsymbol\\mu_j})\\right)}{\\sqrt{(2\\pi)^k|\\boldsymbol\\Sigma_j|}}\n",
    "\\end{align}\n",
    "\n",
    "where\n",
    "$$ \\large v_j = -\\frac 1 2 ({\\mathbf x}-{\\boldsymbol\\mu_j})^\\mathrm{T}{\\boldsymbol\\Sigma_j}^{-1}({\\mathbf x}-{\\boldsymbol\\mu_j}),  V_{max} = \\max_{j} v_j $$\n",
    "and \n",
    "$$ \\large \\kappa_j = \\frac{1}{\\sqrt{(2\\pi)^k|\\boldsymbol\\Sigma_j|}} $$\n",
    "\n"
   ]
  },
  {
   "cell_type": "markdown",
   "metadata": {},
   "source": [
    "### We derive the calculation in more details: \n",
    "$$\n",
    "\\large \\log\\gamma_i(x) = \\log(\\pi_i \\mathcal{N}(x;\\mu_i, \\Sigma_i)) - \\log(\\sum_{j=1}^K \\pi_j \\mathcal{N}(x;\\mu_j, \\Sigma_j))\n",
    "$$\n",
    "\n",
    "\\begin{align}\n",
    "\\large \\log(\\pi_i \\mathcal{N}(x;\\mu_i, \\Sigma_i)) \n",
    "&=  \\large \\log (\\pi_i \\frac{\\exp\\left(-\\frac 1 2 ({\\mathbf x}-{\\boldsymbol\\mu_j})^\\mathrm{T}{\\boldsymbol\\Sigma_j}^{-1}({\\mathbf x}-{\\boldsymbol\\mu_j})\\right)}{\\sqrt{(2\\pi)^k|\\boldsymbol\\Sigma_j|}}) \\\\\n",
    "\\\\\n",
    "&= \\large V_{max} + \\log \\pi_j\\kappa_j\\exp(v_j- V_{max})\n",
    "\\end{align} \n",
    "\n",
    "\n",
    "\n",
    "And\n",
    "\\begin{align}\n",
    "\\large \\log(\\sum_{j=1}^K \\pi_j \\mathcal{N}(x;\\mu_j, \\Sigma_j)) = \\large V_{max} + \\log\\sum_{j=1}^I \\pi_j\\kappa_j\\exp(v_j- V_{max})\n",
    "\\end{align}\n",
    "\n"
   ]
  },
  {
   "cell_type": "markdown",
   "metadata": {},
   "source": [
    "#### Question 2"
   ]
  },
  {
   "cell_type": "markdown",
   "metadata": {},
   "source": [
    "### Step 1: initialize $\\Pi, \\mu, \\Sigma$\n",
    "### Step 2: calculate gamma:  $\\gamma$\n",
    "### Step 3: update $\\Pi, \\mu, \\Sigma$\n",
    "### Step 4: check stop criterion, if not stopping, go to step 2"
   ]
  },
  {
   "cell_type": "code",
   "execution_count": 68,
   "metadata": {},
   "outputs": [],
   "source": [
    "# step 2: calculate (log) gamma\n",
    "def cal_vj (x, u, sigma): \n",
    "    # xi = [x1i, x2i], ui = [u1i, u2i]\n",
    "    # x and u : n * 1 vector\n",
    "    # sigma: n * n\n",
    "    \n",
    "    diff = x - u\n",
    "    sigma_inv = np.linalg.inv(sigma)\n",
    "    # the inverse calculation is heavy, and could be improved with some other more robust numerical methods\n",
    "    return - diff.dot(sigma_inv).dot(diff) / 2\n",
    "    \n",
    "def cal_kappa(K, sigmas, nr_kappa): \n",
    "    # calculate kappas for all K\n",
    "    \n",
    "    if nr_kappa == 1: \n",
    "        sigma_i_det = np.linalg.det(sigmas)\n",
    "        kappas = 1 / ((2* math_pi) ** (K / 2) *  sigma_i_det  ** 0.5 ) \n",
    "    else:     \n",
    "        kappas = np.zeros((nr_kappa, 1))\n",
    "        for i in np.arange(nr_kappa): \n",
    "            sigma_i_det = np.linalg.det(sigmas[i])\n",
    "            kappas[i] = 1 / ((2* math_pi) ** (K / 2) *  sigma_i_det  ** 0.5 ) \n",
    "    return kappas    \n",
    "\n",
    "\n",
    "def cal_log_gamma_k(k, ps, us, sigmas, xs, j):\n",
    "\n",
    "    xj = xs[j]\n",
    "    # xj: one sample. The total number of sample is N\n",
    "    # k: the index of the Guassian Distribution, total number of GD is K\n",
    "    \n",
    "    vjs = np.zeros((N,1))\n",
    "#     for kj in np.arange(K):        \n",
    "#         vjs[kj] = cal_vj(xj, us[kj], sigmas[kj])\n",
    "        \n",
    "    for kj in np.arange(N):        \n",
    "        vjs[kj] = cal_vj(xs[kj], us[k], sigmas[k])    \n",
    "        \n",
    "    \n",
    "    vjs_max = np.max(vjs)  # maximum of vj for all of the k-th Gaussian Distribution\n",
    "    \n",
    "    sigma_k_det = np.linalg.det(sigmas[k])\n",
    "    \n",
    "    #kappa_ks = cal_kappa(K, sigmas, K)  # kappa for all K\n",
    "\n",
    "    # nominator part:\n",
    "    # log_nominator = vjs_max + np.log(ps[k] * kappa_ks[k] * np.exp(vjs[j] - vjs_max))\n",
    "    \n",
    "    log_nominator = np.log(ps[k]) - (K * np.log(2* math_pi) + np.log(sigma_k_det)) / 2 + vjs[j]\n",
    "    \n",
    "    #print (np.multiply(ps,kappa_ks), '\\n', kappa_ks, '\\n', np.exp(vjs[k] - vjs_max))\n",
    "    \n",
    "    #log_denominator = vjs_max  + np.log(np.sum(np.multiply(ps,kappa_ks) * np.exp(vjs[j] - vjs_max)))\n",
    "    \n",
    "    log_denominator = np.log(ps[k]) - (K * np.log(2* math_pi) + np.log(sigma_k_det)) / 2 + vjs_max - np.log(np.sum(np.exp(vjs - vjs_max)))\n",
    "    \n",
    "    \n",
    "    log_gamma_k = log_nominator - log_denominator \n",
    "    \n",
    "    return log_gamma_k \n",
    "        \n",
    "\n",
    "def cal_log_gamma_ks(K, ps, us, sigmas, xs): \n",
    "    # N: number of sample data\n",
    "    log_gamma_ks = np.zeros((K,N))\n",
    "    \n",
    "    for kj in np.arange(K): \n",
    "        for j in np.arange(N): \n",
    "            log_gamma_ks[kj, j] = cal_log_gamma_k(kj, ps, us, sigmas, xs, j)\n",
    "            \n",
    "    return  log_gamma_ks      \n"
   ]
  },
  {
   "cell_type": "code",
   "execution_count": 69,
   "metadata": {},
   "outputs": [],
   "source": [
    "ps = pi_para.copy()\n",
    "us = us_para.copy()\n",
    "sigmas= sgs.copy()\n",
    "xs = xs_nl.copy()\n",
    "\n",
    "log_gamma_ks = cal_log_gamma_ks(K, ps, us, sigmas, xs)"
   ]
  },
  {
   "cell_type": "code",
   "execution_count": 70,
   "metadata": {},
   "outputs": [
    {
     "name": "stdout",
     "output_type": "stream",
     "text": [
      "[[4.95437128 5.53188012 5.80154276 ... 5.92657964 5.46485802 5.2552215 ]\n",
      " [4.95437128 5.53188012 5.80154276 ... 5.92657964 5.46485802 5.2552215 ]\n",
      " [4.95437128 5.53188012 5.80154276 ... 5.92657964 5.46485802 5.2552215 ]]\n"
     ]
    }
   ],
   "source": [
    "print (log_gamma_ks)"
   ]
  },
  {
   "cell_type": "code",
   "execution_count": 72,
   "metadata": {},
   "outputs": [
    {
     "name": "stdout",
     "output_type": "stream",
     "text": [
      "[4.95437128] [5.53188012] [4.95437128] [5.53188012]\n"
     ]
    }
   ],
   "source": [
    "k0g0 = cal_log_gamma_k(0, ps, us, sigmas, xs, 0)\n",
    "k0g1 = cal_log_gamma_k(0, ps, us, sigmas, xs, 1)\n",
    "k1g0 = cal_log_gamma_k(1, ps, us, sigmas, xs, 0)\n",
    "k1g1 = cal_log_gamma_k(1, ps, us, sigmas, xs, 1)\n",
    "\n",
    "print (k0g0, k0g1, k1g0, k1g1)"
   ]
  },
  {
   "cell_type": "code",
   "execution_count": null,
   "metadata": {},
   "outputs": [],
   "source": []
  },
  {
   "cell_type": "code",
   "execution_count": null,
   "metadata": {},
   "outputs": [],
   "source": []
  },
  {
   "cell_type": "code",
   "execution_count": null,
   "metadata": {},
   "outputs": [],
   "source": []
  },
  {
   "cell_type": "code",
   "execution_count": 32,
   "metadata": {},
   "outputs": [],
   "source": [
    "def update_mu_sigma_pi(log_gamma_ks, K, ps, us, sigmas, xs):\n",
    "    ps_new = ps.copy()\n",
    "    us_new = us.copy()\n",
    "    sigmas_new = sigmas.copy()\n",
    "    \n",
    "    for kj in np.arange(K): # iteration over all Gaussian\n",
    "        \n",
    "        sum_gamma_k = np.sum(np.exp(log_gamma_ks[kj,:]))\n",
    "        #print (xs.T* np.exp(log_gamma_ks[kj,:]))\n",
    "        us_new[kj,:] = np.sum(xs.T* np.exp(log_gamma_ks[kj,:]), axis=1) / sum_gamma_k \n",
    "        #print (uj, np.sum(np.exp(log_gamma_ks[kj,:]))) #us_new[kj,:] \n",
    "        ps_new[kj] = sum_gamma_k / N\n",
    "        \n",
    "        diff = xs - us_new[kj,:]\n",
    "        \n",
    "        sigma_nominater = [np.exp(log_gamma_ks[kj,i]) *np.outer(diff[i,:], diff[i,:]) for i in np.arange(N)]\n",
    "        \n",
    "        sigmas_new[kj,:] = np.sum(sigma_nominater, axis=0) / sum_gamma_k\n",
    "                   \n",
    "    return us_new, ps_new, sigmas_new\n",
    "\n"
   ]
  },
  {
   "cell_type": "code",
   "execution_count": 67,
   "metadata": {},
   "outputs": [
    {
     "name": "stdout",
     "output_type": "stream",
     "text": [
      "[[4.95437128 5.53188012 5.80154276 ... 5.92657964 5.46485802 5.2552215 ]\n",
      " [4.95437128 5.53188012 5.80154276 ... 5.92657964 5.46485802 5.2552215 ]\n",
      " [4.95437128 5.53188012 5.80154276 ... 5.92657964 5.46485802 5.2552215 ]]\n"
     ]
    }
   ],
   "source": [
    "print (log_gamma_ks)"
   ]
  },
  {
   "cell_type": "code",
   "execution_count": null,
   "metadata": {},
   "outputs": [],
   "source": []
  },
  {
   "cell_type": "code",
   "execution_count": 66,
   "metadata": {},
   "outputs": [],
   "source": [
    "\n",
    "\n",
    "\n"
   ]
  },
  {
   "cell_type": "code",
   "execution_count": null,
   "metadata": {},
   "outputs": [],
   "source": [
    "us_new, ps_new, sigmas_new = update_mu_sigma_pi(log_gamma_ks, K, ps, us, sigmas, xs)"
   ]
  },
  {
   "cell_type": "code",
   "execution_count": 40,
   "metadata": {},
   "outputs": [
    {
     "name": "stdout",
     "output_type": "stream",
     "text": [
      "[-1.09861229] [-1.09861229]\n"
     ]
    }
   ],
   "source": [
    "k0g0 = cal_log_gamma_k(0, ps, us, sigmas, xs, 0)\n",
    "k0g1 = cal_log_gamma_k(0, ps, us, sigmas, xs, 1)\n",
    "\n",
    "print (k0g0, k0g1)\n",
    "\n",
    "# print (log_gamma_ks)\n",
    "\n",
    "# print (xs)"
   ]
  },
  {
   "cell_type": "code",
   "execution_count": 43,
   "metadata": {},
   "outputs": [],
   "source": [
    "vjs = np.zeros((N,1))\n",
    "k = 0\n",
    "\n",
    "for kj in np.arange(N):        \n",
    "    vjs[kj] = cal_vj(xs[kj], us[k], sigmas[k]) "
   ]
  },
  {
   "cell_type": "code",
   "execution_count": 59,
   "metadata": {
    "scrolled": false
   },
   "outputs": [],
   "source": [
    "k = 0\n",
    "j = 0\n",
    "vjs_max = np.max(vjs)  # maximum of vj for all of the k-th Gaussian Distribution\n",
    "\n",
    "sigma_k_det = np.linalg.det(sigmas[k])\n",
    "\n",
    "kappa_ks = cal_kappa(K, sigmas, K)  # kappa for all K\n",
    "\n",
    "# nominator part:\n",
    "log_nominator = vjs_max + np.log(ps[k] * kappa_ks[k] * np.exp(vjs[j] - vjs_max))\n",
    "\n",
    "#print (np.multiply(ps,kappa_ks), '\\n', kappa_ks, '\\n', np.exp(vjs[k] - vjs_max))\n",
    "\n",
    "log_denominator = vjs_max  + np.log(np.sum(np.multiply(ps,kappa_ks) * np.exp(vjs[j] - vjs_max)))\n",
    "\n",
    "log_gamma_k0 = log_nominator - log_denominator "
   ]
  },
  {
   "cell_type": "code",
   "execution_count": 60,
   "metadata": {},
   "outputs": [
    {
     "name": "stdout",
     "output_type": "stream",
     "text": [
      "-0.004629626683935647 [-5.41162893] [0.04602235] [0.29236307] -4.313016640665315 [-1.09861229]\n"
     ]
    }
   ],
   "source": [
    "print (vjs_max, log_nominator, kappa_ks[k],  np.exp(vjs[j] - vjs_max),\n",
    "       log_denominator, log_nominator - log_denominator)\n",
    "    "
   ]
  },
  {
   "cell_type": "code",
   "execution_count": 61,
   "metadata": {},
   "outputs": [],
   "source": [
    "k = 0\n",
    "j = 1\n",
    "vjs_max = np.max(vjs)  # maximum of vj for all of the k-th Gaussian Distribution\n",
    "\n",
    "sigma_k_det = np.linalg.det(sigmas[k])\n",
    "\n",
    "kappa_ks = cal_kappa(K, sigmas, K)  # kappa for all K\n",
    "\n",
    "# nominator part:\n",
    "log_nominator = vjs_max + np.log(ps[k] * kappa_ks[k] * np.exp(vjs[j] - vjs_max))\n",
    "\n",
    "#print (np.multiply(ps,kappa_ks), '\\n', kappa_ks, '\\n', np.exp(vjs[k] - vjs_max))\n",
    "\n",
    "log_denominator = vjs_max  + np.log(np.sum(np.multiply(ps,kappa_ks) * np.exp(vjs[j] - vjs_max)))\n",
    "\n",
    "log_gamma_k1 = log_nominator - log_denominator \n",
    "   "
   ]
  },
  {
   "cell_type": "code",
   "execution_count": 62,
   "metadata": {},
   "outputs": [
    {
     "name": "stdout",
     "output_type": "stream",
     "text": [
      "-0.004629626683935647 [-4.83412009] [0.04602235] [0.52087248] -3.735507801118911 [-1.09861229]\n"
     ]
    }
   ],
   "source": [
    "print (vjs_max, log_nominator, kappa_ks[k],  np.exp(vjs[j] - vjs_max),\n",
    "       log_denominator, log_nominator - log_denominator)\n",
    "    \n",
    "    "
   ]
  },
  {
   "cell_type": "markdown",
   "metadata": {},
   "source": [
    "#### Question 3"
   ]
  },
  {
   "cell_type": "code",
   "execution_count": null,
   "metadata": {},
   "outputs": [],
   "source": []
  },
  {
   "cell_type": "code",
   "execution_count": 17,
   "metadata": {},
   "outputs": [],
   "source": [
    "# hyper-parameters\n",
    "\n",
    "K = 3\n",
    "pi = np.array([0.3, 0.2, 0.5])\n",
    "us = np.array([[0, 0], [1, 2], [2,0]])\n",
    "\n",
    "# sg1 = np.array([[1, -0.25], [-0.25, 0.5]])\n",
    "# sg2 = np.array([[0.5, 0.25],[0.25, 0.5]])\n",
    "# sg3 = np.array([[0.5, -0.25],[-0.25, 1]])\n",
    "# sigmas = [sg1, sg2, sg3]\n",
    "sgs = np.array([[[1, -0.25], [-0.25, 0.5]], [[0.5, 0.25],[0.25, 0.5]], [[0.5, -0.25],[-0.25, 1]]])"
   ]
  },
  {
   "cell_type": "code",
   "execution_count": 18,
   "metadata": {},
   "outputs": [],
   "source": [
    "def sample_loc (prob, pi_distrbution):    \n",
    "    # return the idx loction of prob in the prob_distrbution\n",
    "    nr_loc = len(pi_distrbution)\n",
    "    cum_sum = np.cumsum(pi_distrbution)  \n",
    "    idx = np.where(prob < cum_sum)[0]  \n",
    "    return idx[0]"
   ]
  },
  {
   "cell_type": "code",
   "execution_count": 19,
   "metadata": {},
   "outputs": [],
   "source": [
    "\n",
    "N = 1000  # number of samples\n",
    "\n",
    "xs = np.zeros((N, 3))\n",
    "# simulator the trajectory \n",
    "for i in np.arange(0,N):   \n",
    "    \n",
    "    si_pi = np.random.uniform(0,1)\n",
    "    gs_id = sample_loc(si_pi, pi)   \n",
    "    ui = us[gs_id]\n",
    "    sgi = sgs[gs_id]   \n",
    "    xs[i,[0,1]] = np.random.multivariate_normal(ui, sgi)\n",
    "    xs[i,2] = gs_id\n"
   ]
  },
  {
   "cell_type": "code",
   "execution_count": 20,
   "metadata": {},
   "outputs": [
    {
     "data": {
      "image/png": "[encoded data removed]",
      "text/plain": [
       "<Figure size 864x576 with 1 Axes>"
      ]
     },
     "metadata": {},
     "output_type": "display_data"
    }
   ],
   "source": [
    "x_g1 = xs[xs[:,2] == 0][:,[0,1]]\n",
    "x_g2 = xs[xs[:,2] == 1][:,[0,1]]\n",
    "x_g3 = xs[xs[:,2] == 2][:,[0,1]]\n",
    "\n",
    "plt.figure(figsize=(12, 8))\n",
    "plt.scatter(x_g1[:,0], x_g1[:,1], c='r', label='First') \n",
    "plt.scatter(x_g2[:,0], x_g2[:,1], c='b', label='Second')\n",
    "plt.scatter(x_g3[:,0], x_g3[:,1], c='k', label='Third') \n",
    "plt.xlabel('x1')\n",
    "plt.ylabel('x2')\n",
    "plt.legend()\n",
    "plt.title('Simulated multivariate(K=3) normal distibutions ')\n",
    "plt.show() "
   ]
  },
  {
   "cell_type": "markdown",
   "metadata": {},
   "source": [
    "#### 2. Implement the EM algorithm for GMMs"
   ]
  },
  {
   "cell_type": "code",
   "execution_count": 21,
   "metadata": {},
   "outputs": [],
   "source": [
    "xs_nl = xs[:,:2]  # not labeled data\n",
    "xs_mean = np.mean(xs_nl, axis=0)\n",
    "xs_cov = np.cov(xs_nl.T)\n",
    "\n",
    "# initilize the parameters\n",
    "pi_para = np.ones((3,1)) / K\n",
    "us_para = np.array([xs_mean, xs_mean, xs_mean])\n",
    "sgs = np.array([xs_cov, xs_cov, xs_cov])\n"
   ]
  },
  {
   "cell_type": "code",
   "execution_count": 37,
   "metadata": {},
   "outputs": [],
   "source": [
    "\n",
    "ps = pi_para.copy()\n",
    "us = us_para.copy()\n",
    "sigmas= sgs.copy()\n",
    "xs = xs_nl.copy()\n",
    "\n",
    "log_gamma_ks = cal_log_gamma_ks(K, ps, us, sigmas, xs)\n",
    "us_new, ps_new, sigmas_new = update_mu_sigma_pi(log_gamma_ks, K, ps, us, sigmas, xs)\n"
   ]
  },
  {
   "cell_type": "code",
   "execution_count": 36,
   "metadata": {},
   "outputs": [
    {
     "name": "stdout",
     "output_type": "stream",
     "text": [
      "[[1.18539816 0.42783037]\n",
      " [1.18539816 0.42783037]\n",
      " [1.18539816 0.42783037]] [[0.33333333]\n",
      " [0.33333333]\n",
      " [0.33333333]]\n",
      "[[1.18539816 0.42783037]\n",
      " [1.18539816 0.42783037]\n",
      " [1.18539816 0.42783037]] [[0.33333333]\n",
      " [0.33333333]\n",
      " [0.33333333]]\n"
     ]
    }
   ],
   "source": [
    "print (us, ps)\n",
    "print (us_new, ps_new)"
   ]
  },
  {
   "cell_type": "code",
   "execution_count": 73,
   "metadata": {},
   "outputs": [
    {
     "name": "stdout",
     "output_type": "stream",
     "text": [
      "[[1.18539816 0.42783037]\n",
      " [1.18539816 0.42783037]\n",
      " [1.18539816 0.42783037]] [[0.33333333]\n",
      " [0.33333333]\n",
      " [0.33333333]]\n",
      "[[1.44401195 0.31158829]\n",
      " [1.44401195 0.31158829]\n",
      " [1.44401195 0.31158829]] [[68.46065833]\n",
      " [68.46065833]\n",
      " [68.46065833]]\n"
     ]
    },
    {
     "ename": "KeyboardInterrupt",
     "evalue": "",
     "output_type": "error",
     "traceback": [
      "\u001b[0;31m---------------------------------------------------------------------------\u001b[0m",
      "\u001b[0;31mKeyboardInterrupt\u001b[0m                         Traceback (most recent call last)",
      "\u001b[0;32m<ipython-input-73-0dfa816ed954>\u001b[0m in \u001b[0;36m<module>\u001b[0;34m()\u001b[0m\n\u001b[1;32m      7\u001b[0m \u001b[0;32mfor\u001b[0m \u001b[0mit\u001b[0m \u001b[0;32min\u001b[0m \u001b[0mnp\u001b[0m\u001b[0;34m.\u001b[0m\u001b[0marange\u001b[0m\u001b[0;34m(\u001b[0m\u001b[0mNr_iter\u001b[0m\u001b[0;34m)\u001b[0m\u001b[0;34m:\u001b[0m\u001b[0;34m\u001b[0m\u001b[0m\n\u001b[1;32m      8\u001b[0m \u001b[0;34m\u001b[0m\u001b[0m\n\u001b[0;32m----> 9\u001b[0;31m     \u001b[0mlog_gamma_ks\u001b[0m \u001b[0;34m=\u001b[0m \u001b[0mcal_log_gamma_ks\u001b[0m\u001b[0;34m(\u001b[0m\u001b[0mK\u001b[0m\u001b[0;34m,\u001b[0m \u001b[0mps\u001b[0m\u001b[0;34m,\u001b[0m \u001b[0mus\u001b[0m\u001b[0;34m,\u001b[0m \u001b[0msigmas\u001b[0m\u001b[0;34m,\u001b[0m \u001b[0mxs\u001b[0m\u001b[0;34m)\u001b[0m\u001b[0;34m\u001b[0m\u001b[0m\n\u001b[0m\u001b[1;32m     10\u001b[0m     \u001b[0mus_new\u001b[0m\u001b[0;34m,\u001b[0m \u001b[0mps_new\u001b[0m\u001b[0;34m,\u001b[0m \u001b[0msigmas_new\u001b[0m \u001b[0;34m=\u001b[0m \u001b[0mupdate_mu_sigma_pi\u001b[0m\u001b[0;34m(\u001b[0m\u001b[0mlog_gamma_ks\u001b[0m\u001b[0;34m,\u001b[0m \u001b[0mK\u001b[0m\u001b[0;34m,\u001b[0m \u001b[0mps\u001b[0m\u001b[0;34m,\u001b[0m \u001b[0mus\u001b[0m\u001b[0;34m,\u001b[0m \u001b[0msigmas\u001b[0m\u001b[0;34m,\u001b[0m \u001b[0mxs\u001b[0m\u001b[0;34m)\u001b[0m\u001b[0;34m\u001b[0m\u001b[0m\n\u001b[1;32m     11\u001b[0m \u001b[0;34m\u001b[0m\u001b[0m\n",
      "\u001b[0;32m<ipython-input-68-9fe0b94465d6>\u001b[0m in \u001b[0;36mcal_log_gamma_ks\u001b[0;34m(K, ps, us, sigmas, xs)\u001b[0m\n\u001b[1;32m     67\u001b[0m     \u001b[0;32mfor\u001b[0m \u001b[0mkj\u001b[0m \u001b[0;32min\u001b[0m \u001b[0mnp\u001b[0m\u001b[0;34m.\u001b[0m\u001b[0marange\u001b[0m\u001b[0;34m(\u001b[0m\u001b[0mK\u001b[0m\u001b[0;34m)\u001b[0m\u001b[0;34m:\u001b[0m\u001b[0;34m\u001b[0m\u001b[0m\n\u001b[1;32m     68\u001b[0m         \u001b[0;32mfor\u001b[0m \u001b[0mj\u001b[0m \u001b[0;32min\u001b[0m \u001b[0mnp\u001b[0m\u001b[0;34m.\u001b[0m\u001b[0marange\u001b[0m\u001b[0;34m(\u001b[0m\u001b[0mN\u001b[0m\u001b[0;34m)\u001b[0m\u001b[0;34m:\u001b[0m\u001b[0;34m\u001b[0m\u001b[0m\n\u001b[0;32m---> 69\u001b[0;31m             \u001b[0mlog_gamma_ks\u001b[0m\u001b[0;34m[\u001b[0m\u001b[0mkj\u001b[0m\u001b[0;34m,\u001b[0m \u001b[0mj\u001b[0m\u001b[0;34m]\u001b[0m \u001b[0;34m=\u001b[0m \u001b[0mcal_log_gamma_k\u001b[0m\u001b[0;34m(\u001b[0m\u001b[0mkj\u001b[0m\u001b[0;34m,\u001b[0m \u001b[0mps\u001b[0m\u001b[0;34m,\u001b[0m \u001b[0mus\u001b[0m\u001b[0;34m,\u001b[0m \u001b[0msigmas\u001b[0m\u001b[0;34m,\u001b[0m \u001b[0mxs\u001b[0m\u001b[0;34m,\u001b[0m \u001b[0mj\u001b[0m\u001b[0;34m)\u001b[0m\u001b[0;34m\u001b[0m\u001b[0m\n\u001b[0m\u001b[1;32m     70\u001b[0m \u001b[0;34m\u001b[0m\u001b[0m\n\u001b[1;32m     71\u001b[0m     \u001b[0;32mreturn\u001b[0m  \u001b[0mlog_gamma_ks\u001b[0m\u001b[0;34m\u001b[0m\u001b[0m\n",
      "\u001b[0;32m<ipython-input-68-9fe0b94465d6>\u001b[0m in \u001b[0;36mcal_log_gamma_k\u001b[0;34m(k, ps, us, sigmas, xs, j)\u001b[0m\n\u001b[1;32m     35\u001b[0m \u001b[0;34m\u001b[0m\u001b[0m\n\u001b[1;32m     36\u001b[0m     \u001b[0;32mfor\u001b[0m \u001b[0mkj\u001b[0m \u001b[0;32min\u001b[0m \u001b[0mnp\u001b[0m\u001b[0;34m.\u001b[0m\u001b[0marange\u001b[0m\u001b[0;34m(\u001b[0m\u001b[0mN\u001b[0m\u001b[0;34m)\u001b[0m\u001b[0;34m:\u001b[0m\u001b[0;34m\u001b[0m\u001b[0m\n\u001b[0;32m---> 37\u001b[0;31m         \u001b[0mvjs\u001b[0m\u001b[0;34m[\u001b[0m\u001b[0mkj\u001b[0m\u001b[0;34m]\u001b[0m \u001b[0;34m=\u001b[0m \u001b[0mcal_vj\u001b[0m\u001b[0;34m(\u001b[0m\u001b[0mxs\u001b[0m\u001b[0;34m[\u001b[0m\u001b[0mkj\u001b[0m\u001b[0;34m]\u001b[0m\u001b[0;34m,\u001b[0m \u001b[0mus\u001b[0m\u001b[0;34m[\u001b[0m\u001b[0mk\u001b[0m\u001b[0;34m]\u001b[0m\u001b[0;34m,\u001b[0m \u001b[0msigmas\u001b[0m\u001b[0;34m[\u001b[0m\u001b[0mk\u001b[0m\u001b[0;34m]\u001b[0m\u001b[0;34m)\u001b[0m\u001b[0;34m\u001b[0m\u001b[0m\n\u001b[0m\u001b[1;32m     38\u001b[0m \u001b[0;34m\u001b[0m\u001b[0m\n\u001b[1;32m     39\u001b[0m \u001b[0;34m\u001b[0m\u001b[0m\n",
      "\u001b[0;32m<ipython-input-68-9fe0b94465d6>\u001b[0m in \u001b[0;36mcal_vj\u001b[0;34m(x, u, sigma)\u001b[0m\n\u001b[1;32m      6\u001b[0m \u001b[0;34m\u001b[0m\u001b[0m\n\u001b[1;32m      7\u001b[0m     \u001b[0mdiff\u001b[0m \u001b[0;34m=\u001b[0m \u001b[0mx\u001b[0m \u001b[0;34m-\u001b[0m \u001b[0mu\u001b[0m\u001b[0;34m\u001b[0m\u001b[0m\n\u001b[0;32m----> 8\u001b[0;31m     \u001b[0msigma_inv\u001b[0m \u001b[0;34m=\u001b[0m \u001b[0mnp\u001b[0m\u001b[0;34m.\u001b[0m\u001b[0mlinalg\u001b[0m\u001b[0;34m.\u001b[0m\u001b[0minv\u001b[0m\u001b[0;34m(\u001b[0m\u001b[0msigma\u001b[0m\u001b[0;34m)\u001b[0m\u001b[0;34m\u001b[0m\u001b[0m\n\u001b[0m\u001b[1;32m      9\u001b[0m     \u001b[0;31m# the inverse calculation is heavy, and could be improved with some other more robust numerical methods\u001b[0m\u001b[0;34m\u001b[0m\u001b[0;34m\u001b[0m\u001b[0m\n\u001b[1;32m     10\u001b[0m     \u001b[0;32mreturn\u001b[0m \u001b[0;34m-\u001b[0m \u001b[0mdiff\u001b[0m\u001b[0;34m.\u001b[0m\u001b[0mdot\u001b[0m\u001b[0;34m(\u001b[0m\u001b[0msigma_inv\u001b[0m\u001b[0;34m)\u001b[0m\u001b[0;34m.\u001b[0m\u001b[0mdot\u001b[0m\u001b[0;34m(\u001b[0m\u001b[0mdiff\u001b[0m\u001b[0;34m)\u001b[0m \u001b[0;34m/\u001b[0m \u001b[0;36m2\u001b[0m\u001b[0;34m\u001b[0m\u001b[0m\n",
      "\u001b[0;32m/usr/local/lib/python3.6/dist-packages/numpy/linalg/linalg.py\u001b[0m in \u001b[0;36minv\u001b[0;34m(a)\u001b[0m\n\u001b[1;32m    526\u001b[0m     \u001b[0msignature\u001b[0m \u001b[0;34m=\u001b[0m \u001b[0;34m'D->D'\u001b[0m \u001b[0;32mif\u001b[0m \u001b[0misComplexType\u001b[0m\u001b[0;34m(\u001b[0m\u001b[0mt\u001b[0m\u001b[0;34m)\u001b[0m \u001b[0;32melse\u001b[0m \u001b[0;34m'd->d'\u001b[0m\u001b[0;34m\u001b[0m\u001b[0m\n\u001b[1;32m    527\u001b[0m     \u001b[0mextobj\u001b[0m \u001b[0;34m=\u001b[0m \u001b[0mget_linalg_error_extobj\u001b[0m\u001b[0;34m(\u001b[0m\u001b[0m_raise_linalgerror_singular\u001b[0m\u001b[0;34m)\u001b[0m\u001b[0;34m\u001b[0m\u001b[0m\n\u001b[0;32m--> 528\u001b[0;31m     \u001b[0mainv\u001b[0m \u001b[0;34m=\u001b[0m \u001b[0m_umath_linalg\u001b[0m\u001b[0;34m.\u001b[0m\u001b[0minv\u001b[0m\u001b[0;34m(\u001b[0m\u001b[0ma\u001b[0m\u001b[0;34m,\u001b[0m \u001b[0msignature\u001b[0m\u001b[0;34m=\u001b[0m\u001b[0msignature\u001b[0m\u001b[0;34m,\u001b[0m \u001b[0mextobj\u001b[0m\u001b[0;34m=\u001b[0m\u001b[0mextobj\u001b[0m\u001b[0;34m)\u001b[0m\u001b[0;34m\u001b[0m\u001b[0m\n\u001b[0m\u001b[1;32m    529\u001b[0m     \u001b[0;32mreturn\u001b[0m \u001b[0mwrap\u001b[0m\u001b[0;34m(\u001b[0m\u001b[0mainv\u001b[0m\u001b[0;34m.\u001b[0m\u001b[0mastype\u001b[0m\u001b[0;34m(\u001b[0m\u001b[0mresult_t\u001b[0m\u001b[0;34m,\u001b[0m \u001b[0mcopy\u001b[0m\u001b[0;34m=\u001b[0m\u001b[0;32mFalse\u001b[0m\u001b[0;34m)\u001b[0m\u001b[0;34m)\u001b[0m\u001b[0;34m\u001b[0m\u001b[0m\n\u001b[1;32m    530\u001b[0m \u001b[0;34m\u001b[0m\u001b[0m\n",
      "\u001b[0;31mKeyboardInterrupt\u001b[0m: "
     ]
    }
   ],
   "source": [
    "ps = pi_para.copy()\n",
    "us = us_para.copy()\n",
    "sigmas= sgs.copy()\n",
    "xs = xs_nl.copy()\n",
    "\n",
    "Nr_iter = 10\n",
    "for it in np.arange(Nr_iter): \n",
    "    \n",
    "    log_gamma_ks = cal_log_gamma_ks(K, ps, us, sigmas, xs)\n",
    "    us_new, ps_new, sigmas_new = update_mu_sigma_pi(log_gamma_ks, K, ps, us, sigmas, xs)\n",
    "    \n",
    "    if it % 3 == 0: \n",
    "        print (us, ps)\n",
    "    \n",
    "    us = us_new.copy()\n",
    "    ps =  ps_new.copy()\n",
    "    sigmas= sigmas_new.copy()\n",
    "        \n",
    "    "
   ]
  },
  {
   "cell_type": "code",
   "execution_count": null,
   "metadata": {},
   "outputs": [],
   "source": []
  },
  {
   "cell_type": "code",
   "execution_count": null,
   "metadata": {},
   "outputs": [],
   "source": []
  },
  {
   "cell_type": "code",
   "execution_count": 23,
   "metadata": {},
   "outputs": [
    {
     "name": "stdout",
     "output_type": "stream",
     "text": [
      "[[1.18539816 0.42783037]\n",
      " [1.18539816 0.42783037]\n",
      " [1.18539816 0.42783037]] [[0.33333333]\n",
      " [0.33333333]\n",
      " [0.33333333]] [[[ 1.38978939 -0.19955486]\n",
      "  [-0.19955486  1.39545289]]\n",
      "\n",
      " [[ 1.38978939 -0.19955486]\n",
      "  [-0.19955486  1.39545289]]\n",
      "\n",
      " [[ 1.38978939 -0.19955486]\n",
      "  [-0.19955486  1.39545289]]]\n"
     ]
    }
   ],
   "source": [
    "print (us, ps, sigmas)"
   ]
  },
  {
   "cell_type": "code",
   "execution_count": null,
   "metadata": {},
   "outputs": [],
   "source": []
  },
  {
   "cell_type": "code",
   "execution_count": null,
   "metadata": {},
   "outputs": [],
   "source": []
  },
  {
   "cell_type": "code",
   "execution_count": null,
   "metadata": {},
   "outputs": [],
   "source": []
  },
  {
   "cell_type": "code",
   "execution_count": null,
   "metadata": {},
   "outputs": [],
   "source": []
  },
  {
   "cell_type": "code",
   "execution_count": null,
   "metadata": {},
   "outputs": [],
   "source": []
  },
  {
   "cell_type": "code",
   "execution_count": null,
   "metadata": {},
   "outputs": [],
   "source": []
  },
  {
   "cell_type": "code",
   "execution_count": null,
   "metadata": {},
   "outputs": [],
   "source": []
  },
  {
   "cell_type": "markdown",
   "metadata": {},
   "source": [
    "\n",
    "\n",
    "part\n",
    "\n",
    "Where \n",
    "$$ \\large \\mathcal{N_j} = \\mathcal{N}(x;\\mu_j, \\Sigma_j)= \\frac{1}{\\sqrt{2\\pi}\\Sigma_j} \\exp{-\\frac{(x-\\mu_j)^2}{2\\Sigma_j^2}} $$\n",
    "and \n",
    "\n",
    "Where \n",
    "$$ \\large \\mathcal{N_j} = \\mathcal{N}(x;\\mu_j, \\Sigma_j)= \\frac{1}{\\sqrt{2\\pi}\\Sigma_j} \\exp{-\\frac{(x-\\mu_j)^2}{2\\Sigma_j^2}} $$\n",
    "and \n",
    "\n",
    "\\begin{align}\n",
    "f_{\\mathbf X}(x_1,\\ldots,x_k)\n",
    "& = \\frac{\\exp\\left(-\\frac 1 2 ({\\mathbf x}-{\\boldsymbol\\mu})^\\mathrm{T}{\\boldsymbol\\Sigma}^{-1}({\\mathbf x}-{\\boldsymbol\\mu})\\right)}{\\sqrt{(2\\pi)^k|\\boldsymbol\\Sigma|}}\n",
    "\\end{align}\n",
    "\n",
    "\n",
    "$$ \\large v_j = \\exp({-\\frac{(x-\\mu_j)^2}{2\\Sigma_j^2}}), \\kappa_j = \\sqrt{2\\pi}\\Sigma_j, V_{max} = \\max_{j} v_j$$"
   ]
  },
  {
   "cell_type": "markdown",
   "metadata": {},
   "source": [
    "<math>\n",
    "\\begin{align}\n",
    "f_{\\mathbf X}(x_1,\\ldots,x_k)\n",
    "& = \\frac{\\exp\\left(-\\frac 1 2 ({\\mathbf x}-{\\boldsymbol\\mu})^\\mathrm{T}{\\boldsymbol\\Sigma}^{-1}({\\mathbf x}-{\\boldsymbol\\mu})\\right)}{\\sqrt{(2\\pi)^k|\\boldsymbol\\Sigma|}}\n",
    "\\end{align}\n",
    "</math>"
   ]
  },
  {
   "cell_type": "code",
   "execution_count": 24,
   "metadata": {},
   "outputs": [],
   "source": [
    "#%&= \\large \\log (\\pi_i {\\exp\\left(-\\frac 1 2 ({\\mathbf x}-{\\boldsymbol\\mu_j})^\\mathrm{T}{\\boldsymbol\\Sigma_j}^{-1}({\\mathbf x}-{\\boldsymbol\\mu_j})\\right)}) - \\log({\\sqrt{(2\\pi)^k|\\boldsymbol\\Sigma_j|}}) "
   ]
  },
  {
   "cell_type": "code",
   "execution_count": 25,
   "metadata": {},
   "outputs": [],
   "source": [
    "# # to be updated\n",
    "# def stable_logsumexp(xs): \n",
    "#     max_xs = np.max(xs)\n",
    "#     nr_xs = len(xs)\n",
    "#     vi_vmax = xs - max_xs   \n",
    "#     return max_xs + np.log(np.sum(np.exp(vi_vmax)))\n"
   ]
  },
  {
   "cell_type": "code",
   "execution_count": 26,
   "metadata": {},
   "outputs": [],
   "source": [
    "\n",
    "# log_gamma_ks = cal_log_gamma_ks(K, pi_para , us_para , sgs, xs_nl)\n",
    "\n",
    "# print (log_gamma_ks)\n",
    "\n",
    "# us_new, ps_new, sigmas_new = update_mu_sigma_pi(log_gamma_ks, K, pi_para , us_para , sgs, xs_nl)"
   ]
  },
  {
   "cell_type": "code",
   "execution_count": 27,
   "metadata": {},
   "outputs": [],
   "source": [
    "#     vis = cal_vj (x, u, sigma)\n",
    "    \n",
    "#     vj = np.exp((x - uj)**2 / (2)\n",
    "                \n",
    "#     multivariate_normal.pdf(x, mean, cov)  \n",
    "                \n",
    "    \n",
    "#     gamma_xk = np.zeros((K,1))\n",
    "    \n",
    "#     for i in np.arange(K): "
   ]
  },
  {
   "cell_type": "code",
   "execution_count": 28,
   "metadata": {},
   "outputs": [],
   "source": [
    "# #print (us_para)\n",
    "\n",
    "# # import numpy as np\n",
    "\n",
    "# # data = np.random.random((5, 2))\n",
    "# #  # This returns an array of size 500,000 that is the row of 24 values\n",
    "# # #minimum = data.min(axis=1)\n",
    "# # minimum = np.array([0, 1, 10, 100, 1000])\n",
    "# # # print(data.shape, minimum.shape)\n",
    "# # # print (data, minimum)\n",
    "\n",
    "# # data1 = data.T * minimum\n",
    "\n",
    "# # # print (us_para , pi_para , us_new, ps_new )\n",
    "\n",
    "# # # print (xs_nl)\n",
    "# # xs_nl - us_new[0,:]\n",
    "\n",
    "# # diff = xs_nl - us_new[0,:]\n",
    "# # print (diff[0,:].dot(diff[0,:]))\n",
    "# # prod = np.outer(diff, diff)\n",
    "# # print (prod.shape)\n",
    "\n",
    "# # #sigma_nominater = [np.outer(diff[i,:], diff[i,:]) for i in np.arange(N)]\n",
    "\n",
    "# # sigma_nominater = [np.exp(log_gamma_ks[0,i]) *np.outer(diff[i,:], diff[i,:]) for i in np.arange(N)]\n",
    "\n",
    "# # sigma_k = np.sum(sigma_nominater, axis=0)\n",
    "# # print (np.shape(sigma_nominater), sigma_k)\n",
    "# # #print (prod.shape)\n",
    "# #data = np.multiply(data, minimum)\n",
    "\n",
    "# print (us_new, ps_new, sigmas_new)"
   ]
  },
  {
   "cell_type": "code",
   "execution_count": 29,
   "metadata": {},
   "outputs": [],
   "source": [
    "# # step 1: initialize\n",
    "\n",
    "# xs_nl = xs[:,:2]  # not labeled data\n",
    "\n",
    "# xs_mean = np.mean(xs_nl, axis=0)\n",
    "# xs_cov = np.cov(xs_nl.T)\n",
    "\n",
    "# # initilize the parameters\n",
    "# pi_para = np.ones((3,1)) / K\n",
    "# us_para = np.array([xs_mean, xs_mean, xs_mean])\n",
    "# sgs = np.array([xs_cov, xs_cov, xs_cov])\n"
   ]
  },
  {
   "cell_type": "code",
   "execution_count": 30,
   "metadata": {},
   "outputs": [],
   "source": [
    "# # step 1: initialize\n",
    "\n",
    "# xs_nl = xs[:,:2]  # not labeled data\n",
    "\n",
    "# xs_mean = np.mean(xs_nl, axis=0)\n",
    "# xs_cov = np.cov(xs_nl.T)\n",
    "\n",
    "# # initilize the parameters\n",
    "# pi_para = np.ones((3,1)) / K\n",
    "# us_para = np.array([xs_mean, xs_mean, xs_mean])\n",
    "# sgs = np.array([xs_cov, xs_cov, xs_cov])\n"
   ]
  }
 ],
 "metadata": {
  "kernelspec": {
   "display_name": "Python 3",
   "language": "python",
   "name": "python3"
  },
  "language_info": {
   "codemirror_mode": {
    "name": "ipython",
    "version": 3
   },
   "file_extension": ".py",
   "mimetype": "text/x-python",
   "name": "python",
   "nbconvert_exporter": "python",
   "pygments_lexer": "ipython3",
   "version": "3.6.6"
  }
 },
 "nbformat": 4,
 "nbformat_minor": 2
}
