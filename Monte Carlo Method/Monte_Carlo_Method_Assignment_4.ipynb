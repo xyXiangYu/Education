{
 "cells": [
  {
   "cell_type": "markdown",
   "metadata": {},
   "source": [
    "This file is for the assignment 4 of Monte Carlo Method at University Paris Dauphine master 2 MASEF\n",
    "\n",
    "Author: Yu Xiang\n",
    "\n",
    "Contact: shawnxiangyu@yahoo.com"
   ]
  },
  {
   "cell_type": "code",
   "execution_count": 63,
   "metadata": {},
   "outputs": [],
   "source": [
    "# import libaries and set the setting for plot\n",
    "%matplotlib inline\n",
    "import numpy as np\n",
    "from scipy import linalg\n",
    "from scipy.stats import norm\n",
    "import time\n",
    "import matplotlib.pyplot as plt\n",
    "import math\n",
    "\n",
    "\n",
    "# choose a large font size by default and use tex for math\n",
    "fontsize = 10\n",
    "params = {'axes.labelsize': fontsize + 2,\n",
    "      'font.size': fontsize + 2,\n",
    "      'legend.fontsize': fontsize + 2,\n",
    "      'xtick.labelsize': fontsize,\n",
    "      'ytick.labelsize': fontsize}\n",
    "plt.rcParams.update(params)"
   ]
  },
  {
   "cell_type": "code",
   "execution_count": 64,
   "metadata": {},
   "outputs": [],
   "source": [
    "# simulate based on Euler methods\n",
    "def sim_Euler(T=1, nr_step=100, X0=100, r=0, sigma=0.15, nr_sims=10000):  \n",
    "    #  We simulate with Euler scheme  \n",
    "\n",
    "    dt = T / nr_step    \n",
    "    Xs = np.zeros((nr_sims, nr_step + 1))\n",
    "    Xs[:,0] = X0  \n",
    "    for i in range(nr_step): \n",
    "        Xs[:,i+1] = Xs[:,i] +  r * Xs[:,i] * dt + sigma * Xs[:,i] * dt ** 0.5 * np.random.randn(1, nr_sims)  \n",
    "    return Xs \n",
    "\n"
   ]
  },
  {
   "cell_type": "code",
   "execution_count": 65,
   "metadata": {},
   "outputs": [
    {
     "data": {
      "text/plain": [
       "9.527114240264039"
      ]
     },
     "execution_count": 65,
     "metadata": {},
     "output_type": "execute_result"
    }
   ],
   "source": [
    "# test the function works\n",
    "Xs = sim_Euler()\n",
    "\n",
    "U = 130 \n",
    "U_id = np.max(Xs, axis=1) - U < 0\n",
    "K = 90\n",
    "XT = Xs[:,-1]\n",
    "r = 0 \n",
    "T = 1\n",
    "p = np.mean(np.exp(- r * T) * np.maximum(XT - K, 0) *  U_id)\n",
    "p"
   ]
  },
  {
   "cell_type": "code",
   "execution_count": null,
   "metadata": {},
   "outputs": [],
   "source": []
  },
  {
   "cell_type": "code",
   "execution_count": 66,
   "metadata": {},
   "outputs": [],
   "source": [
    "def p_Euler_sim(T=1, nr_steps=1000, X0=100, r=0, sigma=0.15, nr_sims=10000, U=130, K=90,case='sim'):\n",
    "    \n",
    "       \n",
    "    if case == 'sim': \n",
    "        nr_cases = len(nr_sims)\n",
    "    elif case == 'step': \n",
    "        nr_cases = len(nr_steps)\n",
    "        \n",
    "    \n",
    "    value_conf_interval = np.zeros((nr_cases, 5))\n",
    "    \n",
    "    for i in range(nr_cases):\n",
    "        \n",
    "        if case == 'sim': \n",
    "            nr_paths = nr_sims[i]\n",
    "            nr_stepi = nr_steps\n",
    "            nr = nr_paths\n",
    "        elif case == 'step': \n",
    "            nr_stepi = nr_steps[i]\n",
    "            nr_paths = nr_sims\n",
    "            nr = nr_stepi\n",
    "            \n",
    "        Xs = sim_Euler(nr_step=nr_stepi, nr_sims=nr_paths)\n",
    "        U_id = np.max(Xs, axis=1) - U < 0\n",
    "        XT = Xs[:,-1]\n",
    "        \n",
    "        p = np.mean(np.exp(- r * T) * np.maximum(XT - K, 0) *  U_id)\n",
    "     \n",
    "    \n",
    "        var_n = nr_paths / (nr_paths - 1) \\\n",
    "            * (np.mean((np.exp(- r * T) * np.maximum(XT - K, 0) *  U_id) ** 2) - p **2 ) \n",
    "    \n",
    "        std_n = var_n ** 0.5\n",
    "\n",
    "        # 95% interval corresponds to 1.96 * std_n / (sqrt(n))\n",
    "        half_int = 1.96 * std_n / nr_paths ** 0.5 \n",
    "\n",
    "        conf_interval = np.round([p - half_int,  p + half_int],4)      \n",
    "        value_conf_interval[i, 0] = nr\n",
    "        value_conf_interval[i, 1] = p\n",
    "        \n",
    "        value_conf_interval[i, 2:4] = conf_interval\n",
    "        value_conf_interval[i, 4] = half_int * 2\n",
    "        \n",
    "    return value_conf_interval  "
   ]
  },
  {
   "cell_type": "code",
   "execution_count": 67,
   "metadata": {},
   "outputs": [
    {
     "data": {
      "text/html": [
       "<div>\n",
       "<style scoped>\n",
       "    .dataframe tbody tr th:only-of-type {\n",
       "        vertical-align: middle;\n",
       "    }\n",
       "\n",
       "    .dataframe tbody tr th {\n",
       "        vertical-align: top;\n",
       "    }\n",
       "\n",
       "    .dataframe thead th {\n",
       "        text-align: right;\n",
       "    }\n",
       "</style>\n",
       "<table border=\"1\" class=\"dataframe\">\n",
       "  <thead>\n",
       "    <tr style=\"text-align: right;\">\n",
       "      <th></th>\n",
       "      <th>Nr_sims</th>\n",
       "      <th>numerical_price</th>\n",
       "      <th>95% conf_lower_bound</th>\n",
       "      <th>95% conf_upper_bound</th>\n",
       "      <th>interval_length</th>\n",
       "    </tr>\n",
       "  </thead>\n",
       "  <tbody>\n",
       "    <tr>\n",
       "      <th>0</th>\n",
       "      <td>1000.0</td>\n",
       "      <td>9.472867</td>\n",
       "      <td>8.8421</td>\n",
       "      <td>10.1036</td>\n",
       "      <td>1.261545</td>\n",
       "    </tr>\n",
       "    <tr>\n",
       "      <th>1</th>\n",
       "      <td>5000.0</td>\n",
       "      <td>9.265224</td>\n",
       "      <td>8.9927</td>\n",
       "      <td>9.5378</td>\n",
       "      <td>0.545133</td>\n",
       "    </tr>\n",
       "    <tr>\n",
       "      <th>2</th>\n",
       "      <td>10000.0</td>\n",
       "      <td>9.350635</td>\n",
       "      <td>9.1542</td>\n",
       "      <td>9.5471</td>\n",
       "      <td>0.392963</td>\n",
       "    </tr>\n",
       "    <tr>\n",
       "      <th>3</th>\n",
       "      <td>50000.0</td>\n",
       "      <td>9.314344</td>\n",
       "      <td>9.2272</td>\n",
       "      <td>9.4015</td>\n",
       "      <td>0.174261</td>\n",
       "    </tr>\n",
       "    <tr>\n",
       "      <th>4</th>\n",
       "      <td>100000.0</td>\n",
       "      <td>9.293335</td>\n",
       "      <td>9.2317</td>\n",
       "      <td>9.3549</td>\n",
       "      <td>0.123221</td>\n",
       "    </tr>\n",
       "  </tbody>\n",
       "</table>\n",
       "</div>"
      ],
      "text/plain": [
       "    Nr_sims  numerical_price  95% conf_lower_bound  95% conf_upper_bound  \\\n",
       "0    1000.0         9.472867                8.8421               10.1036   \n",
       "1    5000.0         9.265224                8.9927                9.5378   \n",
       "2   10000.0         9.350635                9.1542                9.5471   \n",
       "3   50000.0         9.314344                9.2272                9.4015   \n",
       "4  100000.0         9.293335                9.2317                9.3549   \n",
       "\n",
       "   interval_length  \n",
       "0         1.261545  \n",
       "1         0.545133  \n",
       "2         0.392963  \n",
       "3         0.174261  \n",
       "4         0.123221  "
      ]
     },
     "execution_count": 67,
     "metadata": {},
     "output_type": "execute_result"
    }
   ],
   "source": [
    "nr_sims = [1000, 5000, 10000, 50000, 100000]\n",
    "\n",
    "\n",
    "value_conf_interval = p_Euler_sim(nr_sims=nr_sims)\n",
    "\n",
    "\n",
    "import pandas as pd\n",
    "result = pd.DataFrame(value_conf_interval,\n",
    "                      columns=['Nr_sims', 'numerical_price', \n",
    "                               '95% conf_lower_bound', '95% conf_upper_bound','interval_length'])\n",
    "\n",
    "result\n",
    "\n"
   ]
  },
  {
   "cell_type": "markdown",
   "metadata": {},
   "source": [
    "### Comment: \n",
    "When the number of simulation increases, the confidence interval narrows. \n",
    "\n",
    "We overestimate the value of barrier option. "
   ]
  },
  {
   "cell_type": "code",
   "execution_count": 70,
   "metadata": {},
   "outputs": [
    {
     "name": "stdout",
     "output_type": "stream",
     "text": [
      "   Nr_steps  numerical_price  95% conf_lower_bound  95% conf_upper_bound  \\\n",
      "0      10.0        10.149809                9.9442               10.3554   \n",
      "1      50.0         9.467716                9.2688                9.6666   \n",
      "2     100.0         9.569753                9.3720                9.7676   \n",
      "3    1000.0         9.354784                9.1601                9.5495   \n",
      "4    5000.0         9.321876                9.1271                9.5166   \n",
      "5   10000.0         9.206553                9.0146                9.3985   \n",
      "6   20000.0         9.354953                9.1609                9.5490   \n",
      "\n",
      "   interval_length  \n",
      "0         0.411268  \n",
      "1         0.397753  \n",
      "2         0.395602  \n",
      "3         0.389336  \n",
      "4         0.389495  \n",
      "5         0.383869  \n",
      "6         0.388160  \n"
     ]
    }
   ],
   "source": [
    "nr_steps = [10, 50, 100, 1000, 5000, 10000, 20000]\n",
    "value_conf_interval = p_Euler_sim(nr_sims=10000, nr_steps=nr_steps, case='step')\n",
    "\n",
    "\n",
    "import pandas as pd\n",
    "result = pd.DataFrame(value_conf_interval,\n",
    "                      columns=['Nr_steps', 'numerical_price', \n",
    "                               '95% conf_lower_bound', '95% conf_upper_bound', 'interval_length'])\n",
    "print(result)"
   ]
  },
  {
   "cell_type": "markdown",
   "metadata": {},
   "source": [
    "### Comment: \n",
    "When the number of step increases, the confidence interval length remains more or less the same, whowever the numerical value gets closer to the true value. "
   ]
  },
  {
   "cell_type": "code",
   "execution_count": null,
   "metadata": {},
   "outputs": [],
   "source": []
  },
  {
   "cell_type": "markdown",
   "metadata": {},
   "source": [
    "#### Brownian Bridge Approach"
   ]
  },
  {
   "cell_type": "code",
   "execution_count": 71,
   "metadata": {},
   "outputs": [
    {
     "data": {
      "text/plain": [
       "1"
      ]
     },
     "execution_count": 71,
     "metadata": {},
     "output_type": "execute_result"
    }
   ],
   "source": [
    "x = 1\n",
    "x"
   ]
  },
  {
   "cell_type": "markdown",
   "metadata": {},
   "source": []
  },
  {
   "cell_type": "code",
   "execution_count": null,
   "metadata": {},
   "outputs": [],
   "source": []
  },
  {
   "cell_type": "code",
   "execution_count": null,
   "metadata": {},
   "outputs": [],
   "source": []
  },
  {
   "cell_type": "code",
   "execution_count": null,
   "metadata": {},
   "outputs": [],
   "source": []
  }
 ],
 "metadata": {
  "kernelspec": {
   "display_name": "Python 3",
   "language": "python",
   "name": "python3"
  },
  "language_info": {
   "codemirror_mode": {
    "name": "ipython",
    "version": 3
   },
   "file_extension": ".py",
   "mimetype": "text/x-python",
   "name": "python",
   "nbconvert_exporter": "python",
   "pygments_lexer": "ipython3",
   "version": "3.6.7"
  }
 },
 "nbformat": 4,
 "nbformat_minor": 2
}
