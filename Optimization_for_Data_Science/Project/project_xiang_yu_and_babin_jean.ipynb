{
 "cells": [
  {
   "cell_type": "markdown",
   "metadata": {},
   "source": [
    "# PROJECT: Course Optimization for Data Science\n",
    "## Optimization strategies for the proportional odds model\n",
    "\n",
    "\n",
    "Author: Alexandre Gramfort\n",
    "\n",
    "If you have questions or if something is not clear in the text below please contact us\n",
    "by email.\n",
    "\n",
    "## Aim:\n",
    "\n",
    "- Derive mathematically and implement the loss and gradients of the proportional odds model\n",
    "- Implement your own solvers for L1 or L2 regularization with: (Accelerated) Proximal gradient descent and L-BFGS (only for L2)\n",
    "- Implement your own scikit-learn estimator for the proportional odds model and test it on the `wine quality` dataset.\n",
    "\n",
    "### Remarks:\n",
    "\n",
    "- This project involves some numerical difficulty due to the presence of many `log` and `exp` functions.\n",
    "- The correct and stable computation of the gradient is quite difficult. For this reason you have the possibility to use the `autograd` package to compute the gradient by automatic differentiation. `autograd` inspired the design of `pytorch`. It is a pure python package which makes it easy to install, and it is sufficient for our usecase.\n",
    "\n",
    "## VERY IMPORTANT\n",
    "\n",
    "This work must be done by pairs of students.\n",
    "Each student must send their work before the 20th of January at 23:59, using the moodle platform.\n",
    "This means that **each student in the pair sends the same file**\n",
    "\n",
    "On the moodle, in the \"Optimization for Data Science\" course, you have a \"devoir\" section called \"Project\".\n",
    "This is where you submit your jupyter notebook file.\n",
    "\n",
    "The name of the file must be constructed as in the next cell\n",
    "\n",
    "### Gentle reminder: no evaluation if you don't respect this EXACTLY\n",
    "\n",
    "#### How to construct the name of your file"
   ]
  },
  {
   "cell_type": "code",
   "execution_count": 656,
   "metadata": {},
   "outputs": [
    {
     "name": "stdout",
     "output_type": "stream",
     "text": [
      "project_xiang_yu_and_babin_jean.ipynb\n"
     ]
    }
   ],
   "source": [
    "# Change here using YOUR first and last names\n",
    "fn1 = \"Yu\"\n",
    "ln1 = \"Xiang\"\n",
    "fn2 = \"Jean\"\n",
    "ln2 = \"Babin\"\n",
    "\n",
    "filename = \"_\".join(map(lambda s: s.strip().lower(), \n",
    "                        [\"project\", ln1, fn1, \"and\", ln2, fn2])) + \".ipynb\"\n",
    "print(filename)"
   ]
  },
  {
   "cell_type": "markdown",
   "metadata": {},
   "source": [
    "Some imports"
   ]
  },
  {
   "cell_type": "code",
   "execution_count": 657,
   "metadata": {},
   "outputs": [],
   "source": [
    "%matplotlib inline\n",
    "import numpy as np\n",
    "from scipy import linalg\n",
    "import time\n",
    "import matplotlib.pyplot as plt"
   ]
  },
  {
   "cell_type": "markdown",
   "metadata": {},
   "source": [
    "## Part 0: Proportional odds model\n",
    "\n",
    "This model is an ordinal regression model. It is a supervised learning model, in the case where the target space $Y$ is discrete: $Y=\\{1, \\dots, k\\}$; this is the case in multiclass classification for example. Its specificity is that we assume there is an order in the output space. \n",
    "\n",
    "Intuitively, it means that if the true label is 2, predicting 5 is worse that predicting 3 (as 3 is closer to 2 than 5 is). For a usual classification loss, each bad prediction costs the same. In the case of the proportional odds model, **it costs more to predict values that are farther from the true target**.\n",
    "\n",
    "The proportional odds model can be seen as an extension to the logistic regression model as we will see now."
   ]
  },
  {
   "cell_type": "markdown",
   "metadata": {},
   "source": [
    "Working with observations in $\\mathbb{R}^p$, the proportional odds model has the following structure for $1 \\leq j \\leq k-1$:\n",
    "\n",
    "$$\n",
    "\\log \\left ( \\frac{P(Y \\leq j \\mid x)}{P(Y > j \\mid x)} \\right ) = \\alpha_j + \\beta^T x ,\n",
    "$$\n",
    "\n",
    "where $\\beta \\in \\mathbb{R}^p$ and $\\alpha = \\{ \\alpha_j \\}_{j=1}^{k-1}$ is an increasing sequence of constants ($\\alpha_1 \\leq \\alpha_2 \\leq \\dots \\leq \\alpha_{k-1}$). We omit here the last term since $P(Y \\leq k) = 1$.\n",
    "Since $P(Y > j | x) = 1 - P(Y \\leq j | x)$, we can rewrite the previous equation as:\n",
    "$$\n",
    "P(Y \\leq j \\mid x) = \\frac{e^{\\alpha_j + \\beta^T x}}{e^{\\alpha_j + \\beta^T x} + 1} = \\phi(\\alpha_j + \\beta^T x)\n",
    "$$\n",
    "\n",
    "and \n",
    "\n",
    "$$\n",
    "P(Y = j \\mid x) = \\frac{e^{\\alpha_j + \\beta^T x}}{e^{\\alpha_j + \\beta^T x} + 1} - \\frac{e^{\\alpha_{j-1} + \\beta^T x}}{e^{\\alpha_{j-1} + \\beta^T x} + 1} = \\phi(\\alpha_j + \\beta^T x) - \\phi(\\alpha_{j-1} + \\beta^T x)\n",
    "$$\n",
    "\n",
    "for $2 \\leq j \\leq k-1$, where $\\phi$ denotes the sigmoid function $\\phi(t) = 1 / (1 + \\exp(-t))$.\n",
    "\n",
    "After one-hot encoding of the target variable ([`OneHotEncoder`](https://scikit-learn.org/stable/modules/generated/sklearn.preprocessing.OneHotEncoder.html), [`LabelBinarizer`](https://scikit-learn.org/stable/modules/generated/sklearn.preprocessing.LabelBinarizer.html)), denoting $\\{ y_{ij} \\}_{j=1}^{k}$ the indicator sequence for the class of the $i^{\\text{th}}$ observation $x_i$ (i.e., exactly one of the $y_{ij}$ equals one and the rest are zero) the negative log likelihood becomes:\n",
    "\n",
    "$$\n",
    "f(\\alpha, \\beta) =\n",
    "- \\sum_{i=1}^{n} \\left [ y_{i1} \\log(\\phi(\\alpha_1 + \\beta^T x_i)) \n",
    "+ \\sum_{j=2}^{k-1} \\Big( y_{ij} \\log( \n",
    "\\phi(\\alpha_j + \\beta^T x_i) - \\phi(\\alpha_{j-1} + \\beta^T x_i)) \\Big)\n",
    "+ y_{ik} \\log(1 - \\phi(\\alpha_{k-1} + \\beta^T x_i)) \\right ] .\n",
    "$$"
   ]
  },
  {
   "cell_type": "markdown",
   "metadata": {},
   "source": [
    "Introducing some $\\ell_1$ or $\\ell_2$ regularization on the parameter $\\beta$ with regularization parameter $\\lambda \\ge 0$, the penalized likelihood estimation problem reads:\n",
    "$$\n",
    "    (\\mathcal{P}_\\alpha): \\left\\{\n",
    "\t\\begin{aligned}\n",
    "\t\\min_{\\alpha, \\beta} \\quad f(\\alpha, \\beta) + \\lambda \\mathcal{R}(\\beta) \\\\\n",
    "    \\alpha_1 \\leq \\dots \\leq \\alpha_{k-1}\n",
    "\t\\end{aligned}\n",
    "    \\right.\n",
    "$$\n",
    "where $\\mathcal{R}(\\beta) = \\|\\beta\\|_1$ or $\\tfrac{1}{2} \\|\\beta\\|^2_2$"
   ]
  },
  {
   "cell_type": "markdown",
   "metadata": {},
   "source": [
    "<div class=\"alert alert-success\">\n",
    "    <b>QUESTION 1:</b>\n",
    "     <ul>\n",
    "      <li>Justify that $(\\mathcal{P}_\\alpha)$ is a convex problem.</li>\n",
    "    </ul>\n",
    "</div>"
   ]
  },
  {
   "cell_type": "markdown",
   "metadata": {},
   "source": [
    "In the first exercise of this course(exe_convexity_smoothness.pdf), we have proved the following statements: \n",
    "\n",
    "1\\.  $\\|\\beta\\|_1$ and $\\tfrac{1}{2} \\|\\beta\\|^2_2$ are both convex functions, and actually every norm is convex.\n",
    "\n",
    "2\\.  For every convex function $f : y ∈ \\mathbb{R}^m → f (y)$, we have that $g : x ∈ \\mathbb{R}^d → f (Ax − b)$ is a\n",
    "convex function, where $A ∈ \\mathbb{R}^{m*d}$ and $b ∈ \\mathbb{R}^m$. \n",
    "\n",
    "3\\. $f_i : \\mathbb{R}^d → \\mathbb{R}$ be convex for $i = 1, ..., m$, then we have  that $\\sum_{i=1}^{m}f_i$ is convex\n",
    "\n",
    "Further, we could prove that:\n",
    "\n",
    "4\\. $h(x) = \\log (1+ e^x)$ is convex, (here $e$ is the exponential constant)\n",
    "\n",
    "5\\. $g(x) = \\log (\\frac{1}{e^{-x}-1})$ is convex\n",
    "\n"
   ]
  },
  {
   "cell_type": "markdown",
   "metadata": {},
   "source": [
    "Statement 4 and Statement 5 could be easily proved by calculating the second order derivatives and check that they are positive for any real number x. \n",
    "\n",
    "$$h^{''}(x) = \\frac{e^x}{(1 + e^x)^2} > 0, \\forall x$$\n",
    "$$g^{''}(x) = \\frac{e^x}{(e^x - 1)^2} > 0, \\forall x $$\n",
    "\n"
   ]
  },
  {
   "cell_type": "markdown",
   "metadata": {},
   "source": [
    "With above statements, we could prove that $(\\mathcal{P}_\\alpha)$ is a convex problem. \n",
    "First we show $f(\\alpha, \\beta)$ is a convex function. \n",
    "\n",
    "Denote $z_j := \\alpha_j + \\beta^T x_i$, then \n",
    " $$f(\\alpha, \\beta) = \\sum_{i=1}^{n} [-y_{i1} \\log(\\phi(z_1)) - \\sum_{j=2}^{k-1} \\Big( y_{ij} \\log(\\phi(z_j) - \\phi(z_{j-1})\\big) -  y_{ik} \\log(1 - \\phi(z_{k-1})) ]$$\n",
    " \n",
    "By statment 3, we only need to prove the addend of function $f(\\alpha, \\beta)$ is convex, i.e. we need to show the following three parts are convex functions to prove the convexity of function $f(\\alpha, \\beta)$. \n",
    "-  Addend 1: $-\\log(\\phi(z_1))$\n",
    "-  Addend 2: $-\\log(\\phi(z_j) - \\phi(z_{j-1})$\n",
    "-  Addend 3$-\\log(1 -\\phi(z_{k-1}))$\n",
    "\n",
    "We have \n",
    "$$ \\phi(x) = \\frac{e^x}{1+ e^x} = (1+ e^{-x})^{-1}$$\n",
    "and Addend 1: \n",
    "$$-\\log(\\phi(z_1)) = \\log (\\phi(z_1)^{-1}) = \\log (1+ e^{-z_1}): = h(-z_1)$$\n",
    "and from statement 4, we have $h(z_j(x_i))$ is convex, combining statement 4 and statement 2, we know that $h(-z_1)$ is also convex ($z_1$ is linear transformation of $x$), i.e. we have shown that $-\\log(\\phi(z_1))$ is convex\n",
    "\n",
    "Now we prove the convexity of Addend 2: \n",
    "\n",
    "$$-\\log(\\phi(z_j) - \\phi(z_{j-1}) = -\\log((1+ e^{-z_j})^{-1} - (1+ e^{-z_{j-1}})^{-1}) = \\log(1+ e^z_j) + \\log(1+ e^z_{j-1}) - \\log(e^z_{j-1} - e^z_j)$$\n",
    "\n",
    "We know from statement 4 and 2 that $\\log(1+ e^z_j)$ and $\\log(1+ e^{j-1})$ are convex, moreover, we could prove that \n",
    "$-\\log(e^z_{j-1} - e^z_j) $ is also convex. \n",
    "Denote: $\\delta = z_j - z_{j-1} = \\alpha_j - \\alpha_{j-1}$\n",
    "\n",
    "Then \n",
    "$$-\\log(e^z_{j-1} - e^z_j) = -\\log(e^{z_j - \\delta}- e^z_j) = -\\log (e^z_j(\\frac{1}{e^\\delta} -1)) = -z_j + \\log((e^{-\\delta} - 1)^{-1})$$\n",
    "$z_j$ is convex, and the second order derivative of $\\log((e^{-\\delta} - 1)^{-1})$ is  $\\frac{e^{-\\delta}}{(e^{-\\delta}-1)^2}$, which is positive $\\forall x$\n",
    "\n",
    "Thus we have proved that Addend 2: $-\\log(\\phi(z_j) - \\phi(z_{j-1})$ is also convex. \n",
    "\n",
    "Similarly we could prove that Addend 3: is also convex. "
   ]
  },
  {
   "cell_type": "markdown",
   "metadata": {},
   "source": [
    "Since function $f(\\alpha, \\beta)$ is just sum of Addend 1, a number of Addend 2 and Addend 3. Addend 1, 2 and 3 are all convex, therefore by statement 3, $f(\\alpha, \\beta)$ is convex. \n",
    "\n",
    "Moreover, by statement 1, $\\mathcal{R}(\\beta)$ is convex. \n",
    "\n",
    "And the domain of $\\alpha, \\beta$ is convex, since it is real number space. \n",
    "Then  $(\\mathcal{P}_\\alpha)$ is a convex function defined on a convex domain, thus it is a convex problem. \n"
   ]
  },
  {
   "cell_type": "code",
   "execution_count": null,
   "metadata": {},
   "outputs": [],
   "source": []
  },
  {
   "cell_type": "markdown",
   "metadata": {},
   "source": [
    "## Simulation\n",
    "\n",
    "Generate data under the above model and then estimate $\\alpha$ and $\\beta$ using maximum likelihood"
   ]
  },
  {
   "cell_type": "code",
   "execution_count": 658,
   "metadata": {},
   "outputs": [],
   "source": [
    "import numpy as np\n",
    "\n",
    "n = 1000  # number of samples\n",
    "p = 2  # number of features\n",
    "k = 3  # number of classes"
   ]
  },
  {
   "cell_type": "markdown",
   "metadata": {},
   "source": [
    "#### Generate parameters and compute probability distributions for each sample"
   ]
  },
  {
   "cell_type": "code",
   "execution_count": 659,
   "metadata": {},
   "outputs": [],
   "source": [
    "rng = np.random.RandomState(42)\n",
    "X = 15 * rng.normal(size=(n, p))\n",
    "alpha = np.sort(np.linspace(-10, 10, k - 1) + rng.randn(k - 1))\n",
    "beta = rng.randn(p)"
   ]
  },
  {
   "cell_type": "markdown",
   "metadata": {},
   "source": [
    "We want to compute the quantity $P(Y = j \\mid x_i)$ for $j= 1, \\dots , k$, and $i= 1, \\dots, n$.\n",
    "\n",
    "First, let us compute an array containing the values $P(Y < j \\mid x_i)$ for $j= 1, \\dots , k+1$ and $i=1, \\dots, n$. (we denote this array `F`):"
   ]
  },
  {
   "cell_type": "code",
   "execution_count": 660,
   "metadata": {},
   "outputs": [
    {
     "data": {
      "text/plain": [
       "array([[0.00000000e+00, 1.19425874e-07, 9.89950079e-01, 1.00000000e+00],\n",
       "       [0.00000000e+00, 9.22303606e-12, 7.54978894e-03, 1.00000000e+00],\n",
       "       [0.00000000e+00, 1.10105626e-03, 9.99998900e-01, 1.00000000e+00],\n",
       "       ...,\n",
       "       [0.00000000e+00, 2.52740373e-09, 6.75810908e-01, 1.00000000e+00],\n",
       "       [0.00000000e+00, 1.85838624e-03, 9.99999349e-01, 1.00000000e+00],\n",
       "       [0.00000000e+00, 4.98712917e-03, 9.99999758e-01, 1.00000000e+00]])"
      ]
     },
     "execution_count": 660,
     "metadata": {},
     "output_type": "execute_result"
    }
   ],
   "source": [
    "def phi(t):\n",
    "    return 1. / (1. + np.exp(-t))\n",
    "\n",
    "F = phi(np.dot(X, beta)[:, np.newaxis] + alpha)\n",
    "F = np.concatenate([np.zeros((n , 1)), F, np.ones((n , 1))], axis=1)\n",
    "F"
   ]
  },
  {
   "cell_type": "code",
   "execution_count": 661,
   "metadata": {},
   "outputs": [
    {
     "data": {
      "text/plain": [
       "array([[1.19425874e-07, 9.89949960e-01, 1.00499208e-02],\n",
       "       [9.22303606e-12, 7.54978894e-03, 9.92450211e-01],\n",
       "       [1.10105626e-03, 9.98897844e-01, 1.09991567e-06],\n",
       "       ...,\n",
       "       [2.52740373e-09, 6.75810905e-01, 3.24189092e-01],\n",
       "       [1.85838624e-03, 9.98140963e-01, 6.51184001e-07],\n",
       "       [4.98712917e-03, 9.95012629e-01, 2.41894393e-07]])"
      ]
     },
     "execution_count": 661,
     "metadata": {},
     "output_type": "execute_result"
    }
   ],
   "source": [
    "# compute P(Y = j | x)\n",
    "proba = np.diff(F, axis=1)\n",
    "assert proba.shape == (n, k)\n",
    "proba"
   ]
  },
  {
   "cell_type": "markdown",
   "metadata": {},
   "source": [
    "The sum of all probas for each sample should be 1:"
   ]
  },
  {
   "cell_type": "code",
   "execution_count": 662,
   "metadata": {},
   "outputs": [],
   "source": [
    "np.testing.assert_allclose(np.sum(proba, axis=1), np.ones(n))\n",
    "# numpy.testing.assert_allclose: Raises an AssertionError if two objects are not equal up to desired tolerance."
   ]
  },
  {
   "cell_type": "markdown",
   "metadata": {},
   "source": [
    "#### Simulate $Y$ according to $P(Y = j \\mid x)$"
   ]
  },
  {
   "cell_type": "code",
   "execution_count": 663,
   "metadata": {},
   "outputs": [
    {
     "data": {
      "text/plain": [
       "array([1, 2, 1, 2, 1, 1, 1, 0, 1, 0])"
      ]
     },
     "execution_count": 663,
     "metadata": {},
     "output_type": "execute_result"
    }
   ],
   "source": [
    "y = np.array([rng.choice(np.arange(k), size=1, p=pi)[0] for pi in proba])\n",
    "y[:10]"
   ]
  },
  {
   "cell_type": "code",
   "execution_count": 664,
   "metadata": {},
   "outputs": [
    {
     "data": {
      "image/png": "[encoded data removed]",
      "text/plain": [
       "<Figure size 432x288 with 1 Axes>"
      ]
     },
     "metadata": {},
     "output_type": "display_data"
    }
   ],
   "source": [
    "for j in range(k):\n",
    "    Xj = X[y == j]\n",
    "    plt.plot(Xj[:, 0], Xj[:, 1], 'o', label='y = %d' % j, alpha=0.5)\n",
    "\n",
    "plt.legend();"
   ]
  },
  {
   "cell_type": "markdown",
   "metadata": {},
   "source": [
    "# Log-Likelihood function\n",
    "\n",
    "We adopt the parametrization from $(\\mathcal{P}_\\alpha)$. The vector of parameters `params` has `k-1 + p` entries. The first `k-1` are the alphas $\\alpha$ and the last `p` entries correspond to $\\beta$. The function that predicts the probabilities of each sample reads:"
   ]
  },
  {
   "cell_type": "code",
   "execution_count": 665,
   "metadata": {},
   "outputs": [],
   "source": [
    "def predict_proba_alphas(params, X=X):\n",
    "    \"\"\"Compute the probability of each sample in X.\n",
    "    \n",
    "    Parameters:\n",
    "    -----------\n",
    "    params: array, shape (k - 1 + p,)\n",
    "        Parameters of the model. The first k - 1 entries are the alpha_j,\n",
    "        the remaining p ones are the entries of beta.\n",
    "        \n",
    "    X: array, shape (n, p)\n",
    "        Design matrix.\n",
    "        \n",
    "    Returns\n",
    "    -------\n",
    "    proba : ndarray, shape (n, k)\n",
    "        The proba of belonging to each class for each sample.\n",
    "    \"\"\"\n",
    "    n_samples, n_features = X.shape\n",
    "    n_thresh = params.size - n_features\n",
    "    alpha = params[:n_thresh]\n",
    "    beta = params[n_thresh:]\n",
    "    F = phi(np.dot(X, beta)[:, np.newaxis] + alpha)\n",
    "    F = np.concatenate(\n",
    "        [np.zeros((n_samples , 1)), F, np.ones((n_samples , 1))], axis=1)\n",
    "    proba = np.diff(F, axis=1)\n",
    "    return proba"
   ]
  },
  {
   "cell_type": "markdown",
   "metadata": {},
   "source": [
    "One-hot encoding of `y` can be done with scikit-learn `LabelBinarizer`. As it's a matrix, we call it `Y`:"
   ]
  },
  {
   "cell_type": "code",
   "execution_count": 666,
   "metadata": {},
   "outputs": [
    {
     "data": {
      "text/plain": [
       "array([[0, 1, 0],\n",
       "       [0, 0, 1],\n",
       "       [0, 1, 0],\n",
       "       [0, 0, 1],\n",
       "       [0, 1, 0],\n",
       "       [0, 1, 0],\n",
       "       [0, 1, 0],\n",
       "       [1, 0, 0],\n",
       "       [0, 1, 0],\n",
       "       [1, 0, 0]])"
      ]
     },
     "execution_count": 666,
     "metadata": {},
     "output_type": "execute_result"
    }
   ],
   "source": [
    "from sklearn import preprocessing\n",
    "\n",
    "def binarize(y):\n",
    "    le = preprocessing.LabelBinarizer()\n",
    "    Y = le.fit_transform(y)\n",
    "    if Y.shape[1] == 1:\n",
    "        Y = np.concatenate([1 - Y, Y], axis=1)\n",
    "    return Y\n",
    "\n",
    "Y = binarize(y)\n",
    "Y[:10]"
   ]
  },
  {
   "cell_type": "markdown",
   "metadata": {},
   "source": [
    "The negative log-likelihood then reads:"
   ]
  },
  {
   "cell_type": "code",
   "execution_count": 667,
   "metadata": {},
   "outputs": [
    {
     "data": {
      "text/plain": [
       "173.86949983576653"
      ]
     },
     "execution_count": 667,
     "metadata": {},
     "output_type": "execute_result"
    }
   ],
   "source": [
    "def negloglik_alphas(params, X=X, Y=Y):\n",
    "    proba = predict_proba_alphas(params, X)\n",
    "    assert Y.shape == proba.shape\n",
    "    return -np.sum(np.log(np.sum(proba * Y, axis=1) + np.finfo('float').eps))\n",
    "\n",
    "params = np.concatenate([alpha, beta])\n",
    "negloglik_alphas(params)"
   ]
  },
  {
   "cell_type": "code",
   "execution_count": null,
   "metadata": {},
   "outputs": [],
   "source": []
  },
  {
   "cell_type": "markdown",
   "metadata": {},
   "source": [
    "<div class=\"alert alert-success\">\n",
    "    <b>QUESTION 2:</b>\n",
    "     <ul>\n",
    "      <li>Justify why applying coordinate descent or proximal gradient descent to $(\\mathcal{P}_\\alpha)$ is not easy (or even possible?).</li>\n",
    "    </ul>\n",
    "</div>"
   ]
  },
  {
   "cell_type": "markdown",
   "metadata": {},
   "source": [
    "When choosing one coordinate to minimize, e.g. minimizing $\\mathcal{P}_\\alpha$ with respect to $\\alpha_i$, it may happen that $\\alpha_i$ becomes bigger than $\\alpha_{i+1}$,  leading to a negative probablity, i.e. the constraints can not be fulfilled. Even if fortunately, the final result satisfies the constriants, we may not get the optimal solution becasue in some iterations, we get a fake optimal value of $\\alpha_i$ (a value does not meet the constraints), leading to a doubtful(mostly likely not optimal) final result. \n",
    "\n",
    "\n",
    "For proximal gradient descent, we will have difficulity to find a very simple explicit formula for the alpha term. \n",
    "\n"
   ]
  },
  {
   "cell_type": "markdown",
   "metadata": {},
   "source": [
    "## Reparametrization\n",
    "\n",
    "To fix the problem, we propose to reparametrize the problem with a new vector $\\eta \\in \\mathbb{R}^{k-1}$ such that $\\alpha_j = \\sum_{l=1}^{j} \\eta_l$ with $\\eta_j \\geq 0$ for $j \\geq 2$.\n",
    "\n",
    "We denote by $\\mathcal{L}(\\eta, \\beta)$ the corresponding negative log-likelihood:\n",
    "\n",
    "$$\n",
    "\\mathcal{L}(\\eta, \\beta) =\n",
    "- \\sum_{i=1}^{n} \\left [ y_{i1} \\log \\left ( \\phi(\\eta_1 + \\beta^T x_i) \\right )\n",
    "+ \\sum_{j=2}^{k-1} y_{ij} \\log \\left ( \\phi(\\sum_{l=1}^j \\eta_l + \\beta^T x_i) - \\phi(\\sum_{l=1}^{j-1} \\eta_l + \\beta^T x_i) \\right ) + y_{ik} \\log \\left ( 1 - \\phi(\\sum_{l=1}^{k-1} \\eta_l + \\beta^T x_i) \\right ) \\right ] .\n",
    "$$"
   ]
  },
  {
   "cell_type": "markdown",
   "metadata": {},
   "source": [
    "<div class=\"alert alert-success\">\n",
    "    <b>QUESTION 3:</b>\n",
    "     <ul>\n",
    "      <li>Show that $(\\mathcal{P}_\\alpha)$ can be rewritten as an unconstrained convex problem $(\\mathcal{P}_\\eta)$.\n",
    "$$\n",
    "    (\\mathcal{P}_\\eta): \\left\\{\n",
    "\t\\begin{aligned}\n",
    "\t\\min_{\\eta \\in \\mathbb{R}^{k-1}, \\beta \\in \\mathbb{R}^{p}} \\quad \\mathcal{L}(\\eta, \\beta) + \\lambda \\mathcal{R}(\\beta) + \\sum_{j=2}^{k-1} g_j(\\eta_j)\\\\\n",
    "\t\\end{aligned}\n",
    "    \\right.\n",
    "$$\n",
    "          You will detail what are the functions $g_j$.\n",
    "    </li>\n",
    "    <li>\n",
    "        Justify that the problem can be solved with Proximal Gradient Descent, Proximal Coordinate Descent and the L-BFGS-B algorithm (implemented in scipy.optimize).\n",
    "    </li>\n",
    "    </ul>\n",
    "</div>"
   ]
  },
  {
   "cell_type": "markdown",
   "metadata": {},
   "source": [
    "Define: $g(x) = L * (|x| - x)$, where $L$ is a number very large(approaching positive infinity) i.e. \n",
    "$$g(x) = \\{\n",
    "\\begin{aligned} \n",
    "&  0,  \\  if \\  x >= 0\\\\\n",
    "& L \\  ( where \\  L \\to + \\infty), \\  else\n",
    "\\end{aligned}$$\n",
    "\n",
    "\n",
    "Then  $(\\mathcal{P}_\\eta)$ is equivalent to $(\\mathcal{P}_\\alpha)$ since the contraints in $(\\mathcal{P}_\\alpha)$ is translated into function $g_j$ for $j = 2, 3, ..., k-1$\n",
    "\n",
    "Notice that the constraints in $(\\mathcal{P}_\\alpha)$ are:  $\\alpha_1 \\leq \\dots \\leq \\alpha_{k-1}$, \n",
    "\n",
    "and now we have $\\alpha_1 = \\eta_1$, $\\alpha_2 = \\eta_1 + \\eta_2$, ..., $\\alpha_{k-1} = \\sum_{l=1}^{k-1} \\eta_l$, which are equivalently to that all $\\eta_2, \\eta_3, ..., \\eta_{k-1}$ are positive. \n",
    "\n",
    "$ g_j(\\eta_j), j = 2, 3, ..., k-1$ equals to zero as long as $\\eta_j > 0 $ and will become infinity if not. Which means the objective value of $(\\mathcal{P}_\\alpha)$ and  $(\\mathcal{P}_\\eta)$ will be the same when condition $\\alpha_1 \\leq \\dots \\leq \\alpha_{k-1} $ in $(\\mathcal{P}_\\alpha)$ (the equivalently condition in $\\mathcal{L}(\\eta, \\beta)$: $\\eta_j >=0, j = 2, 3, ..., k-1$) is satisfied.  \n",
    "\n",
    "Therefore,  $(\\mathcal{P}_\\eta)$ is equivalent to $(\\mathcal{P}_\\alpha)$. "
   ]
  },
  {
   "cell_type": "markdown",
   "metadata": {},
   "source": [
    "In Question 2, we have proved that $(\\mathcal{P}_\\alpha)$ is convex, and function $ f(\\alpha, \\beta)$ in $(\\mathcal{P}_\\alpha)$ are combinations of linear, exponential, and log functions, which are all continous and differentiable. Therefore,  $ f(\\alpha, \\beta)$ is convex and differentiable. Similarly, we could prove that   $  \\mathcal{L}(\\eta, \\beta) $ is convex and differentiable. Moreover, both $\\lambda \\mathcal{R}(\\beta)$ and $\\sum_{j=2}^{k-1} g_j(\\eta_j)$ are convex and separable. \n",
    "\n",
    "Then we could use Proximal Gradient Descent, Proximal Coordinate Descent and and the L-BFGS-B algorithm  as stated in the lecture slides, since they all only require to calculate the first order gradient. \n",
    "\n",
    "The convexity of $\\sum_{j=2}^{k-1} g_j(\\eta_j)$  could be proved by showing that its addend is convex, as follows: \n",
    "\\begin{aligned}\n",
    "g(\\theta x + (1-\\theta) y) &= L (|\\theta x + (1-\\theta) y| - \\theta x + (1-\\theta) y) \\\\\n",
    "& <= L (|\\theta x| + |(1-\\theta) y| - \\theta x + (1-\\theta) y) \\\\\n",
    "& = \\theta L(|x| - x) + (1-\\theta) L (|y| - y) \\\\\n",
    "& = \\theta g(x) + (1-\\theta) g(y) \n",
    "\\end{aligned}\n",
    "where $\\theta \\in [0,1]$"
   ]
  },
  {
   "cell_type": "markdown",
   "metadata": {},
   "source": [
    "Without losing generosity, we let $L = 1e+8$"
   ]
  },
  {
   "cell_type": "code",
   "execution_count": 668,
   "metadata": {},
   "outputs": [],
   "source": [
    "L = 1e+8"
   ]
  },
  {
   "cell_type": "markdown",
   "metadata": {},
   "source": [
    "<div class=\"alert alert-success\">\n",
    "    <b>QUESTION 4:</b>\n",
    "     <ul>\n",
    "      <li>Introducing the functions $f_2(\\eta, \\beta) = \\tfrac{\\lambda}{2}\\|\\beta\\|_2^2 + \\sum_{j=2}^{k-1} g_j(\\eta_j)$ (corresponding to the case where $\\mathcal{R}=\\tfrac{1}{2}\\|\\beta\\|_2^2$) and $f_1(\\eta, \\beta) = \\lambda \\|\\beta\\|_1 + \\sum_{j=2}^{k-1} g_j(\\eta_j)$ (corresponding to the case where $\\mathcal{R}=\\|\\beta\\|_1$), compute and implement the proximal operators of $f_1$ and $f_2$.\n",
    "    </li>\n",
    "    </ul>\n",
    "</div>\n",
    "\n",
    "In the code below, `lambda` being a reserved keyword in Python, we denote $\\lambda$ by `reg`."
   ]
  },
  {
   "cell_type": "code",
   "execution_count": 669,
   "metadata": {},
   "outputs": [
    {
     "data": {
      "text/plain": [
       "(-1, 3)"
      ]
     },
     "execution_count": 669,
     "metadata": {},
     "output_type": "execute_result"
    },
    {
     "data": {
      "image/png": "[encoded data removed]",
      "text/plain": [
       "<Figure size 1080x288 with 3 Axes>"
      ]
     },
     "metadata": {},
     "output_type": "display_data"
    }
   ],
   "source": [
    "def prox_f2(params, reg=1., n_classes=k):\n",
    "    \n",
    "    n_samples, n_features = X.shape\n",
    "    n_thresh = params.size - n_features\n",
    "    \n",
    "    eta = params[:n_thresh]  # eta:  eta1 could be any number\n",
    "    # eta2, eta3, ..., eta_{k-1} must be non-negative\n",
    "    beta = params[n_thresh:]  # the first n_thresh beta\n",
    "    beta_new = beta / (1 + reg)\n",
    "    \n",
    "    eta_new = eta.copy()  \n",
    "    \n",
    "    eta_new[eta < -2 * L] = eta[eta< -2 * L] + 2 * L\n",
    "    eta_new[np.logical_and(-2 * L <= eta, eta <= 0)] = 0 \n",
    "    eta_new[0] = eta[0] # For the first term of eta, there is no constraint\n",
    "    \n",
    "    params[:n_thresh] = eta_new\n",
    "    params[n_thresh:] = beta_new\n",
    "\n",
    "    return params\n",
    "\n",
    "\n",
    "def prox_f1(params, reg=1., n_classes=k):\n",
    "    # TODO\n",
    "    \n",
    "    n_samples, n_features = X.shape\n",
    "    n_thresh = params.size - n_features\n",
    "    \n",
    "    eta = params[:n_thresh]\n",
    "    beta = params[n_thresh:]  # the first n_thresh beta\n",
    "    \n",
    "    beta_new = np.sign(beta) * np.maximum(np.abs(beta) - reg, 0)   \n",
    "    eta_new = eta.copy()\n",
    "    \n",
    "    eta_new[eta < -2 * L] = eta[eta< -2 * L] + 2 * L\n",
    "    eta_new[np.logical_and(-2 * L <= eta, eta <= 0)] = 0 \n",
    "    eta_new[0] = eta[0] # For the first term of eta, there is no constraint\n",
    "    \n",
    "    \n",
    "    params[:n_thresh] = eta_new\n",
    "    params[n_thresh:] = beta_new\n",
    "\n",
    "\n",
    "    return params\n",
    "\n",
    "rng = np.random.RandomState(5)\n",
    "x = rng.randn(p + k - 1)\n",
    "l_l1 = 1.\n",
    "l_l2 = 2.\n",
    "ylim = [-1, 3]\n",
    "\n",
    "plt.figure(figsize=(15.0, 4.0))\n",
    "plt.subplot(1, 3, 1)\n",
    "plt.stem(x)\n",
    "plt.title(\"Original parameter\", fontsize=16)\n",
    "plt.ylim(ylim)\n",
    "plt.subplot(1, 3, 2)\n",
    "plt.stem(prox_f1(x, l_l1))\n",
    "plt.title(\"Proximal Lasso\", fontsize=16)\n",
    "plt.ylim(ylim)\n",
    "plt.subplot(1, 3, 3)\n",
    "plt.stem(prox_f2(x, l_l2))\n",
    "plt.title(\"Proximal Ridge\", fontsize=16)\n",
    "plt.ylim(ylim)"
   ]
  },
  {
   "cell_type": "markdown",
   "metadata": {},
   "source": [
    "## Part 1: Implementation of the solvers\n",
    "\n",
    "### L-BFGS-B Solver\n",
    "\n",
    "We will start by using the L-BFGS solver provided by `scipy`, without specifying the gradient function. In this case, the [`fmin_l_bfgs_b`](https://docs.scipy.org/doc/scipy/reference/generated/scipy.optimize.fmin_l_bfgs_b.html) function will approximate the gradient using a finite difference method."
   ]
  },
  {
   "cell_type": "markdown",
   "metadata": {},
   "source": [
    "<div class=\"alert alert-success\">\n",
    "    <b>QUESTION 5:</b>\n",
    "    <ul>\n",
    "    <li>\n",
    "        Implement the new predict_proba function using the new parametrization with $\\eta$\n",
    "    </li>\n",
    "    </ul>\n",
    "</div>"
   ]
  },
  {
   "cell_type": "code",
   "execution_count": 670,
   "metadata": {},
   "outputs": [],
   "source": [
    "def predict_proba(params, X=X):\n",
    "    \"\"\"Compute the probability of every sample in X.\n",
    "    \n",
    "    Parameters\n",
    "    ----------\n",
    "    params : ndarray, shape (k - 1 + p,)\n",
    "        The parameters. The first k-1 values are the etas\n",
    "        and the last p ones are beta.\n",
    "        \n",
    "    X: array, shape (n, p)\n",
    "        Design matrix.\n",
    "    \n",
    "    Returns\n",
    "    -------\n",
    "    proba : ndarray, shape (n, k)\n",
    "        The proba of belonging to each class for each sample.\n",
    "    \"\"\"\n",
    "    n_samples, n_features = X.shape\n",
    "    n_thresh = params.size - n_features\n",
    "    eta = params[:n_thresh]\n",
    "    beta = params[n_thresh:]\n",
    "    alpha = eta.cumsum()\n",
    "\n",
    "    \n",
    "    F = phi(np.dot(X, beta)[:, np.newaxis] + alpha)\n",
    "    F = np.concatenate(\n",
    "        [np.zeros((n_samples , 1)), F, np.ones((n_samples , 1))], axis=1)\n",
    "    proba = np.diff(F, axis=1)\n",
    "    \n",
    "    return proba\n",
    "\n",
    "\n",
    "def negloglik(params, X=X, Y=Y):\n",
    "    \"\"\"Compute the negative log-likelihood.\n",
    "    \n",
    "    Parameters\n",
    "    ----------\n",
    "    params : ndarray, shape (p + k - 1,)\n",
    "        The parameters. The first k-1 values are the etas\n",
    "        and the remaining ones are the entries of beta.\n",
    "    \n",
    "    Returns\n",
    "    -------\n",
    "    nlk : float\n",
    "        The negative log-likelihood to be minimized.\n",
    "    \"\"\"\n",
    "    proba = predict_proba(params, X=X)\n",
    "    assert Y.shape == proba.shape\n",
    "    return -np.sum(np.log(np.sum(proba * Y, axis=1) + np.finfo('float').eps))"
   ]
  },
  {
   "cell_type": "markdown",
   "metadata": {},
   "source": [
    "The next cell is to check your implementation:"
   ]
  },
  {
   "cell_type": "code",
   "execution_count": 671,
   "metadata": {},
   "outputs": [],
   "source": [
    "# Check your implementation\n",
    "def alpha_to_eta(alpha):\n",
    "    eta = alpha.copy()\n",
    "    eta[1:] = np.diff(alpha)\n",
    "    return eta\n",
    "\n",
    "# Compute with P_alpha parametrization:\n",
    "negloglik_alphas(np.concatenate([alpha, beta]))\n",
    "\n",
    "# Compute with P_eta parametrization:\n",
    "eta = alpha_to_eta(alpha)\n",
    "params = np.concatenate([eta, beta])\n",
    "\n",
    "# Check that log-likelihoods match\n",
    "assert abs(negloglik(params) - negloglik_alphas(np.concatenate([alpha, beta]))) < 1e-10"
   ]
  },
  {
   "cell_type": "markdown",
   "metadata": {},
   "source": [
    "<div class=\"alert alert-success\">\n",
    "    <b>QUESTION 6:</b>\n",
    "    <ul>\n",
    "    <li>\n",
    "        Solve the optimization using the `fmin_l_bfgs_b` function.\n",
    "    </li>\n",
    "    </ul>\n",
    "</div>\n",
    "\n",
    "HINT: You can specify positivity contraints for certain variables using the `bounds` parameter of `fmin_l_bfgs_b`. Infinity for numpy is `np.inf`.\n",
    "\n",
    "The estimate of $\\beta$ (resp. $\\eta$ and $\\alpha$) should be called `beta_hat` (resp. `eta_hat` and `alpha_hat`)"
   ]
  },
  {
   "cell_type": "code",
   "execution_count": 672,
   "metadata": {},
   "outputs": [],
   "source": [
    "from scipy.optimize import fmin_l_bfgs_b\n",
    "\n",
    "x0 = np.zeros(p + k - 1)\n",
    "x0[:k - 1] = np.arange(k - 1)  # initiatlizing with etas all equal to zero is a bad idea!\n",
    "\n",
    "bounds = [(None, None)] + [(0, np.inf) for j in range(k-2)] + [(None, None)] * p\n",
    "\n",
    "result = fmin_l_bfgs_b(negloglik, x0, fprime=None, args=(), \n",
    "                              approx_grad=1,bounds=bounds)\n",
    "\n",
    "params = result[0]\n",
    "n_samples, n_features = X.shape\n",
    "n_thresh = params.size - n_features\n",
    "eta_hat = params[:n_thresh]\n",
    "beta_hat = params[n_thresh:]\n"
   ]
  },
  {
   "cell_type": "code",
   "execution_count": 673,
   "metadata": {},
   "outputs": [
    {
     "data": {
      "image/png": "[encoded data removed]",
      "text/plain": [
       "<Figure size 432x288 with 1 Axes>"
      ]
     },
     "metadata": {},
     "output_type": "display_data"
    }
   ],
   "source": [
    "Y_proba = predict_proba(np.concatenate([eta_hat, beta_hat]))\n",
    "y_pred = np.argmax(Y_proba, axis=1)\n",
    "\n",
    "for j in range(k):\n",
    "    Xj = X[y_pred == j]\n",
    "    plt.plot(Xj[:, 0], Xj[:, 1], 'o', label='y = %d' % j, alpha=0.5)\n",
    "\n",
    "plt.legend();\n"
   ]
  },
  {
   "cell_type": "markdown",
   "metadata": {},
   "source": [
    "### Computation of the gradients\n",
    "\n",
    "We have so far been lazy by asking `fmin_l_bfgs_b` to approximate the gradient.\n",
    "You are going to fix this using either one of the next 2 options:\n",
    "\n",
    "<div class=\"alert alert-success\">\n",
    "    <b>QUESTION 7 (option 1):</b>\n",
    "    <ul>\n",
    "    <li>\n",
    "        Implement the function grad_negloglik that computes the gradient of negloglik.\n",
    "    </li>\n",
    "</ul>\n",
    "</div>\n",
    "\n",
    "<div class=\"alert alert-success\">\n",
    "    <b>QUESTION 7 (option 2):</b>\n",
    "    <ul>\n",
    "    <li>\n",
    "        Implement the function grad_negloglik that computes the gradient of negloglik\n",
    "        using the <a href=\"https://github.com/HIPS/autograd\">autograd</a> package.\n",
    "    </li>\n",
    "    </ul>\n",
    "</div>\n",
    "\n",
    "**HINT** : QUESTION 7 (option 1) you can use the fact that: $\\log(\\phi(t))' = 1 - \\phi(t)$ and $\\phi(t)' = \\phi(t) (1 - \\phi(t))$\n",
    "\n",
    "You can check your implementation of the function `grad_negloglik` with the check_grad function. However **WARNING** your code is likely to be numerically quite unstable due to the numerous `log` and `exp` with tiny values that are probabilities. You may want to work with log of probabilities but **warning** this is not easy..."
   ]
  },
  {
   "cell_type": "markdown",
   "metadata": {},
   "source": [
    "$$\n",
    "\\mathcal{L}(\\eta, \\beta) =\n",
    "- \\sum_{i=1}^{n} \\left [ y_{i1} \\log \\left ( \\phi(\\eta_1 + \\beta^T x_i) \\right )\n",
    "+ \\sum_{j=2}^{k-1} y_{ij} \\log \\left ( \\phi(\\sum_{l=1}^j \\eta_l + \\beta^T x_i) - \\phi(\\sum_{l=1}^{j-1} \\eta_l + \\beta^T x_i) \\right ) + y_{ik} \\log \\left ( 1 - \\phi(\\sum_{l=1}^{k-1} \\eta_l + \\beta^T x_i) \\right ) \\right ] .\n",
    "$$"
   ]
  },
  {
   "cell_type": "markdown",
   "metadata": {},
   "source": [
    "Denote $z_j := \\alpha_j + \\beta^T x_i = \\sum_{l=1}^{j} \\eta_l +  \\beta^T x_i$, then \n",
    "\n",
    "$$\\frac{\\partial z_j}{\\partial \\eta_m} = \\{\n",
    "\\begin{aligned} \n",
    "& 1,  if \\ j >= m \\\\\n",
    "& 0,  if \\ j < m \n",
    "\\end{aligned}\n",
    "$$ \n",
    "\n",
    "and \n",
    "$$\\frac{\\partial z_j}{\\partial \\beta} = x_i $$\n",
    "\n",
    "Then $\\mathcal{L}(\\eta, \\beta)$ could be re-written as: \n",
    "\n",
    "$$\n",
    "\\mathcal{L}(\\eta, \\beta) = - \\sum_{i=1}^{n} \\{  \\sum_{j=1}^{k} [y_{i,j}\\log(\\phi(z_j) - \\phi(z_{j-1})] \\} \n",
    "$$\n",
    "Where we introduced that $\\phi(z_0) = 0, \\ \\phi(z_k) = 1 $\n",
    "\n"
   ]
  },
  {
   "cell_type": "markdown",
   "metadata": {},
   "source": [
    "Then: \n",
    "\n",
    "Denote $M_j = \\phi(z_j)' =  \\phi(z_j)(1-\\phi(z_j))$, and $M_0 = \\phi(z_0)' = 0' = 0, M_k = \\phi(z_k)' = 1' = 0$, we have: \n",
    "\n",
    "$$\n",
    "\\frac{\\partial \\mathcal{L}(\\eta, \\beta)}{\\partial \\eta_m} \\\\\n",
    "= - \\sum_{i=1}^{n} \\{  \\sum_{j=1}^{k}[\\frac{y_{i,j}}{\\phi(z_j) - \\phi(z_{j-1})} (\\frac{\\partial \\phi(z_j)}{\\partial \\eta_m} - \\frac{\\partial \\phi(z_{j-1})}{\\partial \\eta_m}) ]\\} \\\\\n",
    "= - \\sum_{i=1}^{n} \\{  \\sum_{j=1}^{k}[\\frac{y_{i,j}}{\\phi(z_j) - \\phi(z_{j-1})} (\\phi(z_j)'\\frac{\\partial z_j}{\\partial \\eta_m} - \\phi(z_{j-1})'\\frac{\\partial z_{j-1}}{\\partial \\eta_m} )]\\} \\\\\n",
    "= - \\sum_{i=1}^{n} \\{  \\sum_{j=1}^{k}[\\frac{y_{i,j}}{\\phi(z_j) - \\phi(z_{j-1})} M_j \\frac{\\partial z_j}{\\partial \\eta_m}] -\\sum_{j=1}^{k}[\\frac{y_{i,j}}{\\phi(z_j) - \\phi(z_{j-1})} M_{j-1}\\frac{\\partial z_{j-1}}{\\partial \\eta_m}] \\}  \\\\\n",
    "= - \\sum_{i=1}^{n} \\{  \\sum_{j=m}^{k}[\\frac{y_{i,j}}{\\phi(z_j) - \\phi(z_{j-1})} M_j] -\\sum_{j={m+1}}^{k}[\\frac{y_{i,j}}{\\phi(z_j) - \\phi(z_{j-1})} M_{j-1}] \\} \\\\\n",
    "= - \\sum_{i=1}^{n} \\{ \\frac{y_{i,m}M_m}{\\phi(z_m) - \\phi(z_{m-1})}  + \\sum_{j={m+1}}^{k}[\\frac{y_{i,j} (M_j - M_{j-1})}{\\phi(z_j)- \\phi(z_{j-1})} ]\\} \\\\\n",
    "= - \\sum_{i=1}^{n} \\{  \\sum_{j={m}}^{k}[\\frac{y_{i,j} (M_j - M_{j-1})}{\\phi(z_j)- \\phi(z_{j-1})}] +  \\frac{y_{i,m}M_{m-1}}{\\phi(z_m) - \\phi(z_{m-1})}\\}\n",
    "$$\n",
    "\n",
    "\n",
    "For numerical reason, we will calculate above term as follows: \n",
    "\n",
    "$$\n",
    "\\frac{\\partial \\mathcal{L}(\\eta, \\beta)}{\\partial \\eta_m} \\\\\n",
    "= - \\sum_{i=1}^{n} \\{  \\sum_{j=m}^{k-1}[\\frac{y_{i,j}}{\\phi(z_j) - \\phi(z_{j-1})} M_j] -\\sum_{j={m+1}}^{k}[\\frac{y_{i,j}}{\\phi(z_j) - \\phi(z_{j-1})} M_{j-1}]  + \\frac{y_{i,k}}{\\phi(z_j) - \\phi(z_{k-1})} M_k\\}\n",
    "$$\n",
    "\n",
    "And we denote: \n",
    "$$\n",
    "Term1 = \\sum_{j=m}^{k-1}[\\frac{y_{i,j}}{\\phi(z_j) - \\phi(z_{j-1})} M_j] \\\\\n",
    "Term2 = \\sum_{j={m+1}}^{k}[\\frac{y_{i,j}}{\\phi(z_j) - \\phi(z_{j-1})} M_{j-1}]  , \\  and \\\\\n",
    "Term3 = \\frac{y_{i,k}}{\\phi(z_j) - \\phi(z_{k-1})} M_k\n",
    "$$"
   ]
  },
  {
   "cell_type": "markdown",
   "metadata": {},
   "source": [
    "and \n",
    "$$\\frac{\\partial \\mathcal{L}(\\eta, \\beta)}{\\partial \\beta} =  - \\sum_{i=1}^{n} \\{  \\sum_{j=1}^{k}[\\frac{y_{i,j}}{\\phi(z_j) - \\phi(z_{j-1})} (\\frac{\\partial \\phi(z_j)}{\\partial \\beta} - \\frac{\\partial \\phi(z_{j-1})}{\\partial \\beta}) \\} \\\\\n",
    "= - \\sum_{i=1}^{n} \\{  \\sum_{j=1}^{k}[\\frac{y_{i,j}}{\\phi(z_j) - \\phi(z_{j-1})} (\\phi(z_j)'\\frac{\\partial z_j}{\\partial \\beta} - \\phi(z_{j-1})'\\frac{\\partial z_{j-1}}{\\partial \\beta}) ] \\} \\\\\n",
    "= - \\sum_{i=1}^{n} \\{ x_i \\sum_{j=1}^{k}[\\frac{y_{i,j} (M_j - M_{j-1})}{\\phi(z_j) - \\phi(z_{j-1})} ] \\}\n",
    "$$"
   ]
  },
  {
   "cell_type": "code",
   "execution_count": null,
   "metadata": {},
   "outputs": [],
   "source": []
  },
  {
   "cell_type": "code",
   "execution_count": 674,
   "metadata": {},
   "outputs": [],
   "source": [
    "# Option 1\n",
    "from scipy.misc import logsumexp\n",
    "\n",
    "\n",
    "def grad_negloglik(params, X=X, Y=Y):\n",
    "     \n",
    "    proba = predict_proba(params, X=X)    # = phi(z_j) -  phi(z_{j-1}) \n",
    "    assert Y.shape == proba.shape\n",
    "    \n",
    "    n_samples, n_features = X.shape\n",
    "    n_classes = Y.shape[1]\n",
    "    \n",
    "    p = n_features\n",
    "    k = n_classes\n",
    "       \n",
    "    phi = np.cumsum(proba, axis=1) # i.e. phi(z1), ..., phi(zk)\n",
    "    Mj = phi * (1 - phi)           # phi(z_j)'\n",
    "    \n",
    "    zerocl = np.zeros((Mj.shape[0],1))\n",
    "    Mjminus = np.column_stack((zerocl, Mj[:,0:k-1]))  # Mjminus\n",
    "   \n",
    "    Term1 = Y[:,0:k-1] * Mj[:,0:k-1] / (proba[:,0:k-1] + np.finfo('float').eps)      # m = 1, 2, ..., k-1 \n",
    "    Term2 = Y[:,1:k] * Mj[:,0:k-1] / (proba[:,1:k]  + np.finfo('float').eps)  \n",
    "    Term3 = Y[:,-1] * Mj[:,-1] /  (proba[:,-1] + np.finfo('float').eps) \n",
    "    Term3_dim_expansion = np.repeat(Term3[:, np.newaxis],  Term1.shape[1], axis=1)\n",
    "    ThreeTerms = Term1 - Term2 + Term3_dim_expansion  \n",
    "    \n",
    "    addend_inbigBracket = np.flip(np.cumsum(np.flip(ThreeTerms, 1), axis=1), 1)\n",
    "    delta_eta = -np.sum(addend_inbigBracket, axis=0)\n",
    "\n",
    "    # calculating the derivatives for beta     \n",
    "    yijMjdp = Y * (Mj - Mjminus) / (proba + np.finfo('float').eps)\n",
    "    pro_yijMjdp = np.sum(yijMjdp, axis=1)[:,np.newaxis]\n",
    "    XyijM = X * pro_yijMjdp\n",
    "    betas = -np.sum(XyijM, axis=0)\n",
    "  \n",
    "    delta = np.concatenate([delta_eta,betas])\n",
    "\n",
    "    return delta\n"
   ]
  },
  {
   "cell_type": "code",
   "execution_count": 675,
   "metadata": {},
   "outputs": [],
   "source": [
    "# Option 2\n",
    "\n",
    "import autograd.numpy as np\n",
    "from autograd import grad\n",
    "\n",
    "def negloglik_autograd(params, X=X, Y=Y):\n",
    "    \"\"\"Compute the negative log-likelihood\n",
    "\n",
    "    Parameters\n",
    "    ----------\n",
    "    params : ndarray, shape (p + k - 1,)\n",
    "        The parameters. The first k-1 values are the etas\n",
    "        and the remaining p ones correspond to beta.\n",
    "    X : ndarray, shape (n, p)\n",
    "        Design matrix.\n",
    "    Y : ndarray, shape (n, k)\n",
    "        The target after one-hot encoding.\n",
    "\n",
    "    Returns\n",
    "    -------\n",
    "    nlk : float\n",
    "        The negative log-likelihood to be minimized.\n",
    "    \"\"\"\n",
    "    # TODO\n",
    "    \n",
    "    proba = predict_proba(params, X=X)\n",
    "    assert Y.shape == proba.shape \n",
    "    -np.sum(np.sum(np.log(proba ^ Y + np.finfo('float').eps),axis=1)) \n",
    "    return  -np.sum(np.sum(np.log(proba ^ Y),axis=1)) \n",
    "\n",
    "\n",
    "grad_negloglik_auto = grad(negloglik_autograd)"
   ]
  },
  {
   "cell_type": "code",
   "execution_count": 676,
   "metadata": {},
   "outputs": [
    {
     "data": {
      "text/plain": [
       "36.60670530815789"
      ]
     },
     "execution_count": 676,
     "metadata": {},
     "output_type": "execute_result"
    }
   ],
   "source": [
    "from scipy.optimize import check_grad\n",
    "rng = np.random.RandomState(7)\n",
    "x0 = rng.randn(p + k - 1)\n",
    "x0[1:k - 1] = np.abs(x0[1:k - 1])\n",
    "# WARNING: check_grad is likely to return a quite high value\n",
    "# due to numerical instability with exp and log with tiny\n",
    "# probability values. Don't be surprised as long as your\n",
    "# solvers below converge.\n",
    "check_grad(negloglik, grad_negloglik, x0=x0)"
   ]
  },
  {
   "cell_type": "code",
   "execution_count": null,
   "metadata": {},
   "outputs": [],
   "source": []
  },
  {
   "cell_type": "markdown",
   "metadata": {},
   "source": [
    "Now plug your gradient into L-BFGS and check the result:"
   ]
  },
  {
   "cell_type": "code",
   "execution_count": 678,
   "metadata": {},
   "outputs": [
    {
     "data": {
      "image/png": "[encoded data removed]",
      "text/plain": [
       "<Figure size 432x288 with 1 Axes>"
      ]
     },
     "metadata": {},
     "output_type": "display_data"
    }
   ],
   "source": [
    "x0 = np.zeros(p + k - 1)\n",
    "x0[:k - 1] = np.arange(k - 1)  # initiatlizing with etas all equal to zero is a bad idea!\n",
    "\n",
    "\n",
    "bounds = [(None, None)] + [(0, np.inf) for j in range(k-2)] + [(None, None)] * p\n",
    "x_hat, _, _ = fmin_l_bfgs_b(negloglik, fprime=grad_negloglik,\n",
    "                            x0=x0, bounds=bounds)\n",
    "Y_proba = predict_proba(x_hat)\n",
    "y_pred = np.argmax(Y_proba, axis=1)\n",
    "\n",
    "for j in range(k):\n",
    "    Xj = X[y_pred == j]\n",
    "    plt.plot(Xj[:, 0], Xj[:, 1], 'o', label='y = %d' % j, alpha=0.5)\n",
    "plt.legend();"
   ]
  },
  {
   "cell_type": "markdown",
   "metadata": {},
   "source": [
    "<div class=\"alert alert-success\">\n",
    "    <b>QUESTION 9:</b>\n",
    "    <ul>\n",
    "    <li>\n",
    "        Wrap this into a function of X, y and lbda that implements\n",
    "        the function proportional_odds_lbfgs_l2 that will be\n",
    "        used to get a good value of x_min (minimum of the L2 regularized\n",
    "        model).\n",
    "    </li>\n",
    "    </ul>\n",
    "</div>"
   ]
  },
  {
   "cell_type": "markdown",
   "metadata": {},
   "source": [
    "To help you we give you the code of the objective to minimize\n",
    "in case you use $\\ell_1$ or $\\ell_2$ penalty."
   ]
  },
  {
   "cell_type": "code",
   "execution_count": 682,
   "metadata": {},
   "outputs": [],
   "source": [
    "def pobj_l1(params, X=X, Y=Y, lbda=1.):\n",
    "    n_features = X.shape[1]\n",
    "    beta = params[-n_features:]\n",
    "    n_thresh = Y.shape[1] - 1\n",
    "    eta = params[:n_thresh]\n",
    "    if np.any(eta[1:] < 0):\n",
    "        return np.inf\n",
    "    return negloglik(params, X=X, Y=Y) + lbda * np.sum(np.abs(beta))\n",
    "\n",
    "\n",
    "def pobj_l2(params, X=X, Y=Y, lbda=1.):\n",
    "    n_features = X.shape[1]\n",
    "    beta = params[-n_features:]\n",
    "    n_thresh = Y.shape[1] - 1\n",
    "    eta = params[:n_thresh]\n",
    "    if np.any(eta[1:] < 0):\n",
    "        return np.inf\n",
    "    return negloglik(params, X=X, Y=Y) + lbda / 0.5 * np.dot(beta, beta)"
   ]
  },
  {
   "cell_type": "code",
   "execution_count": 683,
   "metadata": {},
   "outputs": [],
   "source": [
    "def grad_l2(params, X=X, Y=Y, lbda=1.):\n",
    "\n",
    "    n_features = X.shape[1]\n",
    "    beta = params[-n_features:]\n",
    "    l2_beta_grad = lbda * beta\n",
    "    l2_grad = np.zeros((len(params)))\n",
    "    l2_grad[-n_features:] = l2_beta_grad\n",
    "    negloglik_term_grad = grad_negloglik(params, X, Y)\n",
    "    \n",
    "    return l2_grad + negloglik_term_grad\n",
    "    \n",
    "\n",
    "def proportional_odds_lbfgs_l2(X, y, lbda):\n",
    "    Y = binarize(y)\n",
    "    n_samples, n_features = X.shape\n",
    "    n_classes = Y.shape[1]\n",
    "    \n",
    "    p = n_features\n",
    "    k = n_classes\n",
    "    # TODO\n",
    "    x0 = np.zeros(p + k - 1)\n",
    "    x0[:k - 1] = np.arange(k - 1) \n",
    "    \n",
    " \n",
    "    bounds = [(None, None)] + [(0, np.inf) for j in range(k-2)] + [(None, None)] * p\n",
    "    x_min, _, _ = fmin_l_bfgs_b(pobj_l2, fprime=grad_l2,args=(X, Y, lbda),\n",
    "                            x0=x0, bounds=bounds)\n",
    "    \n",
    "\n",
    "    # END TODO\n",
    "    return x_min\n",
    "\n",
    "x_min = proportional_odds_lbfgs_l2(X, y, lbda=1.)"
   ]
  },
  {
   "cell_type": "code",
   "execution_count": null,
   "metadata": {},
   "outputs": [],
   "source": []
  },
  {
   "cell_type": "markdown",
   "metadata": {},
   "source": [
    "Check that `x_min` is ok."
   ]
  },
  {
   "cell_type": "code",
   "execution_count": 684,
   "metadata": {},
   "outputs": [
    {
     "data": {
      "image/png": "[encoded data removed]",
      "text/plain": [
       "<Figure size 432x288 with 1 Axes>"
      ]
     },
     "metadata": {},
     "output_type": "display_data"
    }
   ],
   "source": [
    "Y_proba = predict_proba(x_min)\n",
    "y_pred = np.argmax(Y_proba, axis=1)\n",
    "\n",
    "for j in range(k):\n",
    "    Xj = X[y_pred == j]\n",
    "    plt.plot(Xj[:, 0], Xj[:, 1], 'o', label='y = %d' % j, alpha=0.5)\n",
    "\n",
    "plt.legend();"
   ]
  },
  {
   "cell_type": "markdown",
   "metadata": {},
   "source": [
    "Now that we have a gradient of the negative loglikelihood term we can implement other solvers. Namely you are going to implement:\n",
    "\n",
    "- Proximal Gradient Descent (PGD aka ISTA)\n",
    "- Accelerated Proximal Gradient Descent (APGD aka FISTA)\n",
    "\n",
    "Before this we are going to define the `monitor` class previously used in the second lab as well as plotting functions useful to monitor convergence."
   ]
  },
  {
   "cell_type": "code",
   "execution_count": 685,
   "metadata": {},
   "outputs": [],
   "source": [
    "class monitor(object):\n",
    "    def __init__(self, algo, obj, x_min, args=()):\n",
    "        self.x_min = x_min\n",
    "        self.algo = algo\n",
    "        self.obj = obj\n",
    "        self.args = args\n",
    "        if self.x_min is not None:\n",
    "            self.f_min = obj(x_min, *args)\n",
    "\n",
    "    def run(self, *algo_args, **algo_kwargs):\n",
    "        t0 = time.time()\n",
    "        _, x_list = self.algo(*algo_args, **algo_kwargs)\n",
    "        self.total_time = time.time() - t0\n",
    "        self.x_list = x_list\n",
    "        if self.x_min is not None:\n",
    "            self.err = [linalg.norm(x - self.x_min) for x in x_list]\n",
    "            self.obj = [self.obj(x, *self.args) - self.f_min for x in x_list]\n",
    "        else:\n",
    "            self.obj = [self.obj(x, *self.args) for x in x_list]\n",
    "\n",
    "\n",
    "def plot_epochs(monitors, solvers):\n",
    "    fig, (ax1, ax2) = plt.subplots(1, 2, figsize=(15, 5))\n",
    "    for monit in monitors:\n",
    "        ax1.semilogy(monit.obj, lw=2)\n",
    "        ax1.set_title(\"Objective\")\n",
    "        ax1.set_xlabel(\"Epoch\")\n",
    "        ax1.set_ylabel(\"objective\")\n",
    "\n",
    "    ax1.legend(solvers)\n",
    "\n",
    "    for monit in monitors:\n",
    "        if monit.x_min is not None:\n",
    "            ax2.semilogy(monit.err, lw=2)\n",
    "            ax2.set_title(\"Distance to optimum\")\n",
    "            ax2.set_xlabel(\"Epoch\")\n",
    "            ax2.set_ylabel(\"$\\|x_k - x^*\\|_2$\")\n",
    "\n",
    "    ax2.legend(solvers)\n",
    "\n",
    "\n",
    "def plot_time(monitors, solvers):\n",
    "    for monit in monitors:\n",
    "        objs = monit.obj\n",
    "        plt.semilogy(np.linspace(0, monit.total_time, len(objs)), objs, lw=2)\n",
    "        plt.title(\"Loss\")\n",
    "        plt.xlabel(\"Timing\")\n",
    "        plt.ylabel(\"$f(x_k) - f(x^*)$\")\n",
    "\n",
    "    plt.legend(solvers)"
   ]
  },
  {
   "cell_type": "markdown",
   "metadata": {},
   "source": [
    "<div class=\"alert alert-success\">\n",
    "    <b>QUESTION 8a:</b>\n",
    "    <ul>\n",
    "    <li>\n",
    "        Implement the proximal gradient descent (PGD) method\n",
    "    </li>\n",
    "    </ul>\n",
    "</div>\n",
    "\n",
    "The parameter `step` is the size of the gradient step."
   ]
  },
  {
   "cell_type": "code",
   "execution_count": 686,
   "metadata": {},
   "outputs": [],
   "source": [
    "def pgd(x_init, grad, prox, n_iter=100, step=1., store_every=1,\n",
    "        grad_args=(), prox_args=()):\n",
    "    \"\"\"Proximal gradient descent algorithm.\"\"\"\n",
    "    x = x_init.copy()\n",
    "    x_list = []\n",
    "    for i in range(n_iter):\n",
    "        \n",
    "        ### TODO \n",
    "        # grad should be the gradient of negloglik\n",
    "        x = prox(x - step * grad(x, *grad_args), *prox_args)       \n",
    "\n",
    "        \n",
    "        ### END TODO\n",
    "        if i % store_every == 0:\n",
    "            x_list.append(x.copy())\n",
    "    return x, x_list"
   ]
  },
  {
   "cell_type": "markdown",
   "metadata": {},
   "source": [
    "<div class=\"alert alert-success\">\n",
    "    <b>QUESTION 8b:</b>\n",
    "    <ul>\n",
    "    <li>\n",
    "        Using the monitor class and the plot_epochs function, display the convergence.\n",
    "    </li>\n",
    "    </ul>\n",
    "</div>\n",
    "\n",
    "NOTE: You will have to provide a `step` value, which should be theoretially less than `1 / lipschitz_constant`. You will propose a value for it but you are not expected to provide a mathematical proof, unless you think it's a moral duty to give one..."
   ]
  },
  {
   "cell_type": "markdown",
   "metadata": {},
   "source": [
    "To help you we give you the proximal operator functions for $\\ell_1$ and $\\ell_2$ regularized models."
   ]
  },
  {
   "cell_type": "code",
   "execution_count": 687,
   "metadata": {},
   "outputs": [],
   "source": [
    "def prox_l1(params, step, lbda, n_classes):\n",
    "    return prox_f1(params, reg=step * lbda, n_classes=n_classes)\n",
    "\n",
    "def prox_l2(params, step, lbda, n_classes):\n",
    "    return prox_f2(params, reg=step * lbda, n_classes=n_classes)"
   ]
  },
  {
   "cell_type": "code",
   "execution_count": 695,
   "metadata": {},
   "outputs": [
    {
     "data": {
      "image/png": "[encoded data removed]",
      "text/plain": [
       "<Figure size 1080x360 with 2 Axes>"
      ]
     },
     "metadata": {},
     "output_type": "display_data"
    }
   ],
   "source": [
    "x_init = np.zeros(p + k - 1)\n",
    "x_init[:k - 1] = np.arange(k - 1)\n",
    "n_iter = 50000\n",
    "lbda = .1\n",
    "\n",
    "\n",
    "lips_const = np.linalg.norm(X) ** 2 / 4 \n",
    "step = 1 /  lips_const * 10\n",
    "\n",
    "monitor_pgd_l2 =  monitor(pgd, pobj_l2, x_min, (X, Y, lbda))\n",
    "monitor_pgd_l2.run(x_init, grad_negloglik, prox_l2, n_iter, step,\n",
    "                   grad_args=(X, Y), prox_args=(step, lbda, k))\n",
    "\n",
    "monitors = [monitor_pgd_l2]\n",
    "solvers = [\"PGD\"]\n",
    "plot_epochs(monitors, solvers)"
   ]
  },
  {
   "cell_type": "code",
   "execution_count": null,
   "metadata": {},
   "outputs": [],
   "source": []
  },
  {
   "cell_type": "markdown",
   "metadata": {},
   "source": [
    "Now for the $\\ell_1$ regularization:"
   ]
  },
  {
   "cell_type": "code",
   "execution_count": 696,
   "metadata": {},
   "outputs": [
    {
     "data": {
      "image/png": "[encoded data removed]",
      "text/plain": [
       "<Figure size 1080x360 with 2 Axes>"
      ]
     },
     "metadata": {},
     "output_type": "display_data"
    }
   ],
   "source": [
    "lbda = 1.\n",
    "\n",
    "# Run PGD for L1\n",
    "monitor_pgd_l1 = monitor(pgd, pobj_l1, x_min=None, args=(X, Y, lbda))\n",
    "monitor_pgd_l1.run(x_init, grad_negloglik, prox_l1, n_iter, step,\n",
    "                   grad_args=(X, Y), prox_args=(step, lbda, k))\n",
    "\n",
    "monitors = [monitor_pgd_l1]\n",
    "solvers = [\"PGD\"]\n",
    "plot_epochs(monitors, solvers)"
   ]
  },
  {
   "cell_type": "code",
   "execution_count": null,
   "metadata": {},
   "outputs": [],
   "source": []
  },
  {
   "cell_type": "markdown",
   "metadata": {},
   "source": [
    "<div class=\"alert alert-success\">\n",
    "    <b>QUESTION 9:</b>\n",
    "    <ul>\n",
    "    <li>\n",
    "        Implement the accelerated proximal gradient descent (APGD) and add this solver to the monitoring plots.\n",
    "    </li>\n",
    "    </ul>\n",
    "</div>"
   ]
  },
  {
   "cell_type": "code",
   "execution_count": 698,
   "metadata": {},
   "outputs": [],
   "source": [
    "def apgd(x_init, grad, prox, n_iter=100, step=1., store_every=1,\n",
    "        grad_args=(), prox_args=()):\n",
    "    \"\"\"Accelerated proximal gradient descent algorithm.\"\"\"\n",
    "    x = x_init.copy()\n",
    "    y = x_init.copy()\n",
    "    t = 1.\n",
    "    x_list = []\n",
    "    \n",
    "    t_new = 1\n",
    "    b = 1 \n",
    "    for i in range(n_iter):\n",
    "        ### TODO\n",
    "        x_new = prox(y - step * grad(y, *grad_args), *prox_args)\n",
    "        b_new =  (1. + (1. + 4. * b ** 2.) ** 0.5) / 2.\n",
    "        y = x_new + (b - 1.) / b_new * (x_new - x)\n",
    "        x = x_new\n",
    "        b = b_new\n",
    "\n",
    "        ### END TODO\n",
    "        if i % store_every == 0:\n",
    "            x_list.append(x.copy())\n",
    "    return x, x_list"
   ]
  },
  {
   "cell_type": "code",
   "execution_count": null,
   "metadata": {},
   "outputs": [],
   "source": []
  },
  {
   "cell_type": "code",
   "execution_count": 699,
   "metadata": {},
   "outputs": [
    {
     "data": {
      "image/png": "[encoded data removed]",
      "text/plain": [
       "<Figure size 1080x360 with 2 Axes>"
      ]
     },
     "metadata": {},
     "output_type": "display_data"
    }
   ],
   "source": [
    "lbda = 0.1\n",
    "\n",
    "# TODO\n",
    "monitor_apgd_l2 =  monitor(apgd, pobj_l2, x_min, args=(X, Y, lbda))\n",
    "monitor_apgd_l2.run(x_init, grad_negloglik, prox_l2, n_iter, step,\n",
    "                   grad_args=(X, Y), prox_args=(step, lbda, k))\n",
    "\n",
    "\n",
    "# END TODO\n",
    "\n",
    "monitors = [monitor_pgd_l2, monitor_apgd_l2]\n",
    "solvers = [\"PGD\", \"APGD\"]\n",
    "plot_epochs(monitors, solvers)"
   ]
  },
  {
   "cell_type": "code",
   "execution_count": 700,
   "metadata": {},
   "outputs": [
    {
     "data": {
      "image/png": "[encoded data removed]",
      "text/plain": [
       "<Figure size 1080x360 with 2 Axes>"
      ]
     },
     "metadata": {},
     "output_type": "display_data"
    }
   ],
   "source": [
    "lbda = 1.\n",
    "\n",
    "\n",
    "# TODO\n",
    "monitor_apgd_l1 =  monitor(apgd, pobj_l1, x_min, args=(X, Y, lbda))\n",
    "monitor_apgd_l1.run(x_init, grad_negloglik, prox_l1, n_iter, step,\n",
    "                   grad_args=(X, Y), prox_args=(step, lbda, k))\n",
    "# END TODO\n",
    "\n",
    "monitors = [monitor_pgd_l1, monitor_apgd_l1]\n",
    "solvers = [\"PGD\", \"APGD\"]\n",
    "plot_epochs(monitors, solvers)"
   ]
  },
  {
   "cell_type": "markdown",
   "metadata": {},
   "source": [
    "# Part 2: Application\n",
    "\n",
    "You will now apply your solver to the `wine quality` dataset. Given 11 features\n",
    "that describe certain wines (our samples), the objective it to predict the quality of the wine,\n",
    "encoded by integers between 3 and 8. Rather than using a multiclass classification\n",
    "model we're going to use a proportional odds model.\n",
    "\n",
    "Let's first inspect the dataset:"
   ]
  },
  {
   "cell_type": "code",
   "execution_count": 701,
   "metadata": {},
   "outputs": [
    {
     "data": {
      "text/html": [
       "<div>\n",
       "<style scoped>\n",
       "    .dataframe tbody tr th:only-of-type {\n",
       "        vertical-align: middle;\n",
       "    }\n",
       "\n",
       "    .dataframe tbody tr th {\n",
       "        vertical-align: top;\n",
       "    }\n",
       "\n",
       "    .dataframe thead th {\n",
       "        text-align: right;\n",
       "    }\n",
       "</style>\n",
       "<table border=\"1\" class=\"dataframe\">\n",
       "  <thead>\n",
       "    <tr style=\"text-align: right;\">\n",
       "      <th></th>\n",
       "      <th>fixed acidity</th>\n",
       "      <th>volatile acidity</th>\n",
       "      <th>citric acid</th>\n",
       "      <th>residual sugar</th>\n",
       "      <th>chlorides</th>\n",
       "      <th>free sulfur dioxide</th>\n",
       "      <th>total sulfur dioxide</th>\n",
       "      <th>density</th>\n",
       "      <th>pH</th>\n",
       "      <th>sulphates</th>\n",
       "      <th>alcohol</th>\n",
       "      <th>quality</th>\n",
       "    </tr>\n",
       "  </thead>\n",
       "  <tbody>\n",
       "    <tr>\n",
       "      <th>1594</th>\n",
       "      <td>6.2</td>\n",
       "      <td>0.600</td>\n",
       "      <td>0.08</td>\n",
       "      <td>2.0</td>\n",
       "      <td>0.090</td>\n",
       "      <td>32.0</td>\n",
       "      <td>44.0</td>\n",
       "      <td>0.99490</td>\n",
       "      <td>3.45</td>\n",
       "      <td>0.58</td>\n",
       "      <td>10.5</td>\n",
       "      <td>5</td>\n",
       "    </tr>\n",
       "    <tr>\n",
       "      <th>1595</th>\n",
       "      <td>5.9</td>\n",
       "      <td>0.550</td>\n",
       "      <td>0.10</td>\n",
       "      <td>2.2</td>\n",
       "      <td>0.062</td>\n",
       "      <td>39.0</td>\n",
       "      <td>51.0</td>\n",
       "      <td>0.99512</td>\n",
       "      <td>3.52</td>\n",
       "      <td>0.76</td>\n",
       "      <td>11.2</td>\n",
       "      <td>6</td>\n",
       "    </tr>\n",
       "    <tr>\n",
       "      <th>1596</th>\n",
       "      <td>6.3</td>\n",
       "      <td>0.510</td>\n",
       "      <td>0.13</td>\n",
       "      <td>2.3</td>\n",
       "      <td>0.076</td>\n",
       "      <td>29.0</td>\n",
       "      <td>40.0</td>\n",
       "      <td>0.99574</td>\n",
       "      <td>3.42</td>\n",
       "      <td>0.75</td>\n",
       "      <td>11.0</td>\n",
       "      <td>6</td>\n",
       "    </tr>\n",
       "    <tr>\n",
       "      <th>1597</th>\n",
       "      <td>5.9</td>\n",
       "      <td>0.645</td>\n",
       "      <td>0.12</td>\n",
       "      <td>2.0</td>\n",
       "      <td>0.075</td>\n",
       "      <td>32.0</td>\n",
       "      <td>44.0</td>\n",
       "      <td>0.99547</td>\n",
       "      <td>3.57</td>\n",
       "      <td>0.71</td>\n",
       "      <td>10.2</td>\n",
       "      <td>5</td>\n",
       "    </tr>\n",
       "    <tr>\n",
       "      <th>1598</th>\n",
       "      <td>6.0</td>\n",
       "      <td>0.310</td>\n",
       "      <td>0.47</td>\n",
       "      <td>3.6</td>\n",
       "      <td>0.067</td>\n",
       "      <td>18.0</td>\n",
       "      <td>42.0</td>\n",
       "      <td>0.99549</td>\n",
       "      <td>3.39</td>\n",
       "      <td>0.66</td>\n",
       "      <td>11.0</td>\n",
       "      <td>6</td>\n",
       "    </tr>\n",
       "  </tbody>\n",
       "</table>\n",
       "</div>"
      ],
      "text/plain": [
       "      fixed acidity  volatile acidity  citric acid  residual sugar  chlorides  \\\n",
       "1594            6.2             0.600         0.08             2.0      0.090   \n",
       "1595            5.9             0.550         0.10             2.2      0.062   \n",
       "1596            6.3             0.510         0.13             2.3      0.076   \n",
       "1597            5.9             0.645         0.12             2.0      0.075   \n",
       "1598            6.0             0.310         0.47             3.6      0.067   \n",
       "\n",
       "      free sulfur dioxide  total sulfur dioxide  density    pH  sulphates  \\\n",
       "1594                 32.0                  44.0  0.99490  3.45       0.58   \n",
       "1595                 39.0                  51.0  0.99512  3.52       0.76   \n",
       "1596                 29.0                  40.0  0.99574  3.42       0.75   \n",
       "1597                 32.0                  44.0  0.99547  3.57       0.71   \n",
       "1598                 18.0                  42.0  0.99549  3.39       0.66   \n",
       "\n",
       "      alcohol  quality  \n",
       "1594     10.5        5  \n",
       "1595     11.2        6  \n",
       "1596     11.0        6  \n",
       "1597     10.2        5  \n",
       "1598     11.0        6  "
      ]
     },
     "execution_count": 701,
     "metadata": {},
     "output_type": "execute_result"
    }
   ],
   "source": [
    "import pandas as pd\n",
    "\n",
    "df = pd.read_csv('winequality-red.csv', delimiter=';')\n",
    "df.tail()"
   ]
  },
  {
   "cell_type": "code",
   "execution_count": 702,
   "metadata": {},
   "outputs": [
    {
     "data": {
      "text/plain": [
       "array([5, 6, 7, 4, 8, 3])"
      ]
     },
     "execution_count": 702,
     "metadata": {},
     "output_type": "execute_result"
    }
   ],
   "source": [
    "df['quality'].unique()"
   ]
  },
  {
   "cell_type": "markdown",
   "metadata": {},
   "source": [
    "Now let's extract `X` and `y`"
   ]
  },
  {
   "cell_type": "code",
   "execution_count": 703,
   "metadata": {},
   "outputs": [
    {
     "data": {
      "text/plain": [
       "((1599, 11), (1599,), array([0., 1., 2., 3., 4., 5.]))"
      ]
     },
     "execution_count": 703,
     "metadata": {},
     "output_type": "execute_result"
    }
   ],
   "source": [
    "data = df.values\n",
    "X = data[:, :-1]\n",
    "y = data[:, -1] - 3\n",
    "X.shape, y.shape, np.unique(y)"
   ]
  },
  {
   "cell_type": "markdown",
   "metadata": {},
   "source": [
    "Let's do a basic scaling of the features:"
   ]
  },
  {
   "cell_type": "code",
   "execution_count": 704,
   "metadata": {},
   "outputs": [],
   "source": [
    "from sklearn.preprocessing import scale\n",
    "X = scale(X)"
   ]
  },
  {
   "cell_type": "markdown",
   "metadata": {},
   "source": [
    "Now test the functions above with this dataset:"
   ]
  },
  {
   "cell_type": "code",
   "execution_count": 705,
   "metadata": {},
   "outputs": [
    {
     "data": {
      "text/plain": [
       "array([ 4.00000000e+00, -5.96726951e+16, -7.66737837e+17, -7.18324141e+17,\n",
       "       -2.24054081e+17,  1.16138509e+00, -1.52163446e+01,  8.11900904e+00,\n",
       "       -9.23896449e-02, -7.36157019e+00,  9.56606711e-02, -2.84967585e-01,\n",
       "       -9.22049809e+00, -5.37425526e+00,  8.42355391e+00,  1.63170073e+01])"
      ]
     },
     "execution_count": 705,
     "metadata": {},
     "output_type": "execute_result"
    }
   ],
   "source": [
    "x_init = np.zeros(X.shape[1] + np.unique(y).size - 1)\n",
    "Y = binarize(y)\n",
    "negloglik(x_init, X=X, Y=Y)\n",
    "grad_negloglik(x_init, X=X, Y=Y)"
   ]
  },
  {
   "cell_type": "code",
   "execution_count": null,
   "metadata": {},
   "outputs": [],
   "source": []
  },
  {
   "cell_type": "markdown",
   "metadata": {},
   "source": [
    "In order to facilitate our experiment we're going to write a full scikit-learn estimator.\n",
    "\n",
    "<div class=\"alert alert-success\">\n",
    "    <b>QUESTION 10:</b>\n",
    "    <ul>\n",
    "    <li>\n",
    "        Implement the `fit` method from the estimator in the next cell\n",
    "    </li>\n",
    "    </ul>\n",
    "</div>"
   ]
  },
  {
   "cell_type": "code",
   "execution_count": 706,
   "metadata": {},
   "outputs": [
    {
     "name": "stdout",
     "output_type": "stream",
     "text": [
      "Solver with L2: pgd   -   Score : 0.5953721075672295\n",
      "Solver with L2: apgd   -   Score : 0.5953721075672295\n",
      "Solver with L2: lbfgs   -   Score : 0.5947467166979362\n",
      "Solver with L1: pgd   -   Score : 0.5947467166979362\n",
      "Solver with L1: apgd   -   Score : 0.5941213258286429\n"
     ]
    }
   ],
   "source": [
    "from sklearn.base import BaseEstimator, ClassifierMixin\n",
    "\n",
    "\n",
    "class ProportionalOdds(BaseEstimator, ClassifierMixin):\n",
    "    \"\"\"scikit-learn estimator for the proportional odds model\n",
    "    \n",
    "    Parameters\n",
    "    ----------\n",
    "    lbda : float\n",
    "        The regularization parameter\n",
    "    penalty : 'l1' | 'l2'\n",
    "        The type of regularization to use.\n",
    "    max_iter : int\n",
    "        The number of iterations / epochs to do on the data.\n",
    "    solver : 'pgd' | 'apgd' | 'lbfgs'\n",
    "        The type of regularization to use.\n",
    "        'lbfgs' is only supported with penalty='l2'.\n",
    "        \n",
    "    Attributes\n",
    "    ----------\n",
    "    alpha_ : ndarray, (n_classes - 1,)\n",
    "        The alphas.\n",
    "    beta_ : ndarray, (n_features,)\n",
    "        The regression coefficients.\n",
    "    \"\"\"\n",
    "    def __init__(self, lbda=1., penalty='l2', max_iter=2000,\n",
    "                 solver='lbfgs'):\n",
    "        self.lbda = lbda\n",
    "        self.penalty = penalty\n",
    "        self.max_iter = max_iter\n",
    "        self.solver = solver\n",
    "        assert self.penalty in ['l1', 'l2']\n",
    "        assert self.solver in ['pgd', 'apgd', 'lbfgs'] \n",
    "\n",
    "    def fit(self, X, y):\n",
    "        \"\"\"Fit method\n",
    "        \n",
    "        Parameters\n",
    "        ----------\n",
    "        X : ndarray, shape (n_samples, n_features)\n",
    "            The features.\n",
    "        y : ndarray, shape (n_samples,)\n",
    "            The target. Must be integers between 0 and n_classes - 1.\n",
    "        \"\"\"\n",
    "        n_classes = int(np.max(y)) + 1\n",
    "        assert np.all(np.unique(y) == np.arange(n_classes))\n",
    "        Y = binarize(y)\n",
    "        n_samples, n_features = X.shape\n",
    "        # TODO\n",
    "        \n",
    "        # find the min value with lbfgs\n",
    "        p = n_features\n",
    "        k = Y.shape[1]\n",
    "        \n",
    "        lips_const = np.linalg.norm(X) ** 2 / 4\n",
    "        step = 1 /  lips_const \n",
    "        \n",
    "\n",
    "        x_init = np.zeros(p + k - 1)\n",
    "        x_init[:k - 1] = np.arange(k - 1)\n",
    "        \n",
    "        \n",
    "        if self.penalty == 'l1': \n",
    "            objf = pobj_l1\n",
    "            proxf = prox_l1\n",
    "        elif  self.penalty == 'l2':   \n",
    "            objf = pobj_l2\n",
    "            proxf = prox_l2\n",
    "            \n",
    "        if  self.solver == \"lbfgs\": \n",
    "            if self.penalty == 'l2':\n",
    "                bounds = [(None, None)] + [(0, np.inf) for j in range(k-2)] + [(None, None)] * p\n",
    "                result = fmin_l_bfgs_b(negloglik, x_init, fprime=None, args=(X, Y), approx_grad=1,bounds=bounds)\n",
    "                x = result[0]\n",
    "            \n",
    "        elif self.solver == \"pgd\" or  self.solver == \"apgd\":\n",
    "            if self.solver == \"pgd\": \n",
    "                solver = pgd\n",
    "            else: \n",
    "                solver = apgd\n",
    "            \n",
    "            monitor_solver =  monitor(solver, objf, x_min=None, args=(X, Y, lbda))\n",
    "            \n",
    "            monitor_solver.run(x_init, grad_negloglik, proxf, self.max_iter, step, 1, (X, Y), (step, lbda, k))\n",
    "            x = monitor_solver.x_list[-1] \n",
    "          \n",
    "\n",
    "        beta = x[-n_features:]\n",
    "        n_thresh = k - 1\n",
    "        eta = x[:n_thresh]\n",
    "\n",
    "        # END TODO\n",
    "        self.params_ = x\n",
    "        self.alpha_ = eta.cumsum()\n",
    "        self.beta_ = beta\n",
    "        return self\n",
    "\n",
    "    def predict(self, X):\n",
    "        \"\"\"Predict method\n",
    "        \n",
    "        Parameters\n",
    "        ----------\n",
    "        X : ndarray, shape (n_samples, n_features)\n",
    "            The features.\n",
    "\n",
    "        Returns\n",
    "        -------\n",
    "        y_pred : ndarray, shape (n_samples,)\n",
    "            The predicted target.\n",
    "        \"\"\"\n",
    "        return np.argmax(self.predict_proba(X), axis=1)\n",
    "\n",
    "    def predict_proba(self, X):\n",
    "        \"\"\"Predict proba method\n",
    "        \n",
    "        Parameters\n",
    "        ----------\n",
    "        X : ndarray, shape (n_samples, n_features)\n",
    "            The features.\n",
    "\n",
    "        Returns\n",
    "        -------\n",
    "        y_proba : ndarray, shape (n_samples, n_classes)\n",
    "            The predicted probabilities.\n",
    "        \"\"\"\n",
    "        return predict_proba(self.params_, X)\n",
    "\n",
    "\n",
    "for solver in ['pgd', 'apgd', 'lbfgs']:\n",
    "    clf = ProportionalOdds(lbda=1., penalty='l2', max_iter=1000, solver=solver)\n",
    "    clf.fit(X, y)\n",
    "    print('Solver with L2: %s   -   Score : %s' % (solver, clf.score(X, y)))\n",
    "\n",
    "for solver in ['pgd', 'apgd']:\n",
    "    clf = ProportionalOdds(lbda=1., penalty='l1', max_iter=1000, solver=solver)\n",
    "    clf.fit(X, y)\n",
    "    print('Solver with L1: %s   -   Score : %s' % (solver, clf.score(X, y)))"
   ]
  },
  {
   "cell_type": "markdown",
   "metadata": {},
   "source": [
    "<div class=\"alert alert-success\">\n",
    "    <b>QUESTION 11:</b>\n",
    "    <ul>\n",
    "    <li>\n",
    "        Compare the cross-validation performance of your model with a multinomial\n",
    "        logistic regression model that ignores the order between the classes. You will comment your results.\n",
    "    </li>\n",
    "    </ul>\n",
    "</div>"
   ]
  },
  {
   "cell_type": "code",
   "execution_count": 707,
   "metadata": {},
   "outputs": [
    {
     "name": "stdout",
     "output_type": "stream",
     "text": [
      "0.6060037523452158\n",
      "[0.52897196 0.61538462 0.58568738]\n"
     ]
    }
   ],
   "source": [
    "from sklearn.linear_model import LogisticRegression\n",
    "from sklearn.model_selection import cross_val_score\n",
    "\n",
    "# TODO\n",
    "\n",
    "clf = LogisticRegression(random_state=0, solver='lbfgs',multi_class='multinomial').fit(X, y)\n",
    "clf.predict(X)\n",
    "print (clf.score(X, y))\n",
    "\n",
    "\n",
    "from sklearn import datasets, linear_model\n",
    "print(cross_val_score(clf, X, y, cv=3))  \n",
    "\n",
    "\n",
    "# END TODO"
   ]
  },
  {
   "cell_type": "code",
   "execution_count": null,
   "metadata": {},
   "outputs": [],
   "source": []
  }
 ],
 "metadata": {
  "anaconda-cloud": {},
  "kernelspec": {
   "display_name": "Python 3",
   "language": "python",
   "name": "python3"
  },
  "language_info": {
   "codemirror_mode": {
    "name": "ipython",
    "version": 3
   },
   "file_extension": ".py",
   "mimetype": "text/x-python",
   "name": "python",
   "nbconvert_exporter": "python",
   "pygments_lexer": "ipython3",
   "version": "3.6.7"
  }
 },
 "nbformat": 4,
 "nbformat_minor": 2
}
