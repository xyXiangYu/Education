{
 "cells": [
  {
   "cell_type": "markdown",
   "metadata": {},
   "source": [
    "# Short Lab 3 : Proximal/cyclic/greedy coordinate descent\n",
    "\n",
    "#### Authors: M. Massias, P. Ablin\n",
    "\n",
    "## Aim\n",
    "\n",
    "The aim of this material is to code \n",
    "- cyclic and greedy coordinate descent for ordinary least squares (OLS)\n",
    "- proximal gradient descent for sparse Logistic regression\n",
    "\n",
    "## VERY IMPORTANT\n",
    "\n",
    "- This work **must be done by pairs of students**.\n",
    "- **Each** student must send their work **before the 11th of november at 23:59**, using the **moodle platform**.\n",
    "- This means that **each student in the pair sends the same file**\n",
    "- On the moodle, in the \"Optimization for Data Science\" course, you have a \"devoir\" section called **Rendu TP du 5 novembre 2017**. This is where you submit your jupyter notebook file. \n",
    "- The **name of the file must be** constructed as in the next cell\n",
    "\n",
    "# Gentle reminder: no evaluation if you don't respect this EXACTLY\n",
    "\n",
    "### How to construct the name of your file"
   ]
  },
  {
   "cell_type": "code",
   "execution_count": 146,
   "metadata": {},
   "outputs": [
    {
     "name": "stdout",
     "output_type": "stream",
     "text": [
      "lab3_xiang_yu_and_babin_jean.ipynb\n"
     ]
    }
   ],
   "source": [
    "# Change here using YOUR first and last names\n",
    "fn1 = \"Yu\"\n",
    "ln1 = \"Xiang\"\n",
    "fn2 = \"Jean\"\n",
    "ln2 = \"Babin\"\n",
    "\n",
    "filename = \"_\".join(map(lambda s: s.strip().lower(), \n",
    "                        [\"lab3\", ln1, fn1, \"and\", ln2, fn2])) + \".ipynb\"\n",
    "print(filename)"
   ]
  },
  {
   "cell_type": "code",
   "execution_count": 340,
   "metadata": {},
   "outputs": [],
   "source": [
    "import numpy as np\n",
    "from numpy.linalg import norm\n",
    "import matplotlib.pyplot as plt\n",
    "from numba import njit\n",
    "from time import time\n",
    "\n",
    "from numpy.random import multivariate_normal\n",
    "from scipy.linalg.special_matrices import toeplitz\n",
    "from numpy.random import randn"
   ]
  },
  {
   "cell_type": "code",
   "execution_count": 341,
   "metadata": {},
   "outputs": [],
   "source": [
    "# the usual functions:\n",
    "\n",
    "\n",
    "\n",
    "\n",
    "def simu(coefs, n_samples=1000, corr=0.5, for_logreg=False):\n",
    "    n_features = len(coefs)\n",
    "    cov = toeplitz(corr ** np.arange(0, n_features))\n",
    "    A = multivariate_normal(np.zeros(n_features), cov, size=n_samples)\n",
    "    b = A.dot(coefs) + randn(n_samples)\n",
    "    if for_logreg:\n",
    "        b = np.sign(b)\n",
    "    return A, b\n"
   ]
  },
  {
   "cell_type": "markdown",
   "metadata": {},
   "source": [
    "## Part 1: Ordinary Least Squares\n",
    "\n",
    "\n",
    "Let $A \\in \\mathbb{R}^{n \\times p}$, $y \\in \\mathbb{R}^n$.\n",
    "We want to use coordinate descent to solve:\n",
    "    $$\\hat w \\in  \\mathrm{arg \\, min \\,} \\frac 12 \\Vert Aw - b \\Vert ^2 $$\n",
    "\n",
    "We ask you to code:\n",
    "- cyclic coordinate descent: at iteration $t$, update feature $j = t \\mod p$\n",
    "- greedy coordinate descent: at iteration $t$, update feature having the largest partial gradient in magnitude, ie $j = \\mathrm{arg\\, max \\,}_{i} \\vert \\nabla_i f(w_t) \\vert$.\n",
    "\n",
    "\n",
    "**WARNING**: You must do this in a clever way, ie such that $p$ updates cost the same as one update of GD."
   ]
  },
  {
   "cell_type": "code",
   "execution_count": 149,
   "metadata": {},
   "outputs": [],
   "source": [
    "n_features = 100\n",
    "np.random.seed(1970)\n",
    "\n",
    "coefs = np.random.randn(n_features)\n",
    "\n",
    "A, b = simu(coefs, n_samples=1000, for_logreg=False)"
   ]
  },
  {
   "cell_type": "code",
   "execution_count": 150,
   "metadata": {},
   "outputs": [
    {
     "data": {
      "text/plain": [
       "Text(0.5, 1.0, 'Real parameters(coefficients)')"
      ]
     },
     "execution_count": 150,
     "metadata": {},
     "output_type": "execute_result"
    },
    {
     "data": {
      "image/png": "[encoded data removed]",
      "text/plain": [
       "<Figure size 432x288 with 1 Axes>"
      ]
     },
     "metadata": {},
     "output_type": "display_data"
    }
   ],
   "source": [
    "plt.stem(coefs);\n",
    "plt.title('Real parameters(coefficients)')"
   ]
  },
  {
   "cell_type": "code",
   "execution_count": 151,
   "metadata": {},
   "outputs": [],
   "source": [
    "def cyclic_cd(A, b, n_iter):\n",
    "    n_samples, n_features = A.shape\n",
    "    all_objs = []\n",
    "    \n",
    "    w = np.zeros(n_features)\n",
    "    residuals = b - A.dot(w)\n",
    "    \n",
    "    # TODO\n",
    "    lips_const = np.linalg.norm(A,axis=0) ** 2\n",
    "    # END TODO\n",
    "    \n",
    "    r = residuals.copy()\n",
    "    for t in range(n_iter):\n",
    "        j = t % n_features\n",
    "        \n",
    "        aj_t =  A.T[j,:]  # the j-th column of A\n",
    "        \n",
    "        delta_wj = aj_t.dot(r) / (aj_t.dot(aj_t))   # check whether we really need the lipschtiz constant\n",
    "        w[j] += delta_wj  # update w for the j-th entry\n",
    "        \n",
    "        r -= aj_t * delta_wj   # update residual\n",
    "        \n",
    "        if t % n_features == 0:\n",
    "            all_objs.append(np.linalg.norm(r) ** 2 / 2.)\n",
    "            # all_objs.append((residuals ** 2).sum() / 2.)\n",
    "    return w, np.array(all_objs)\n",
    "\n",
    "\n",
    "\n",
    "def greedy_cd(A, b, n_iter):\n",
    "    n_samples, n_features = A.shape\n",
    "    all_objs = []\n",
    "    \n",
    "    w = np.zeros(n_features)\n",
    "    \n",
    "    gradient = A.T.dot(A.dot(w) - b)  # all the gradient for j = 1, ..., p\n",
    "    gram = A.T.dot(A)  # you will need this to keep the gradient up to date\n",
    "    \n",
    "    r = b - A.dot(w)\n",
    "    # TODO\n",
    "    lips_const = np.linalg.norm(A,axis=0) ** 2\n",
    "    # END TODO \n",
    "    \n",
    "    for t in range(n_iter):\n",
    "        # TODO\n",
    "        # choose feature j to update: \n",
    "        j = np.argmax(np.abs(gradient))\n",
    " \n",
    "        aj_t =  A.T[j,:]  # the j-th column of A\n",
    "        delta_wj = aj_t.dot(r) / (aj_t.dot(aj_t)) \n",
    "        \n",
    "        # old_w_j =w.copy() \n",
    "        w[j] += delta_wj\n",
    "        r -= aj_t * delta_wj\n",
    "        # update gradient:\n",
    "        gradient += gram[:,j] * delta_wj  \n",
    "        # END TODO\n",
    "        \n",
    "        if t % n_features == 0:\n",
    "            all_objs.append(0.5 * np.linalg.norm(A.dot(w) - b) ** 2)\n",
    "    \n",
    "    return w, np.array(all_objs)"
   ]
  },
  {
   "cell_type": "code",
   "execution_count": null,
   "metadata": {},
   "outputs": [],
   "source": []
  },
  {
   "cell_type": "code",
   "execution_count": 154,
   "metadata": {},
   "outputs": [],
   "source": [
    "class monitor:\n",
    "    def __init__(self, algo, loss, x_min, args=()):\n",
    "        self.x_min = x_min\n",
    "        self.algo = algo\n",
    "        self.loss = loss\n",
    "        self.args = args\n",
    "        self.f_min = loss(x_min, *args)\n",
    "    \n",
    "    def run(self, *algo_args, **algo_kwargs):\n",
    "        t0 = time()\n",
    "        _, x_list = self.algo(*algo_args, **algo_kwargs)\n",
    "        self.total_time = time() - t0\n",
    "        self.x_list = x_list\n",
    "        self.err = [norm(x - self.x_min) for x in x_list]\n",
    "        self.obj = [self.loss(x, *self.args) - self.f_min for x in x_list]"
   ]
  },
  {
   "cell_type": "code",
   "execution_count": 155,
   "metadata": {},
   "outputs": [],
   "source": [
    "#@njit    \n",
    "def grad_i(i, x, A, b):\n",
    "    \"\"\"Gradient with respect to a sample\"\"\"  \n",
    "    return  A.T[i,:]  * (A.dot(x) - b)\n",
    "\n",
    "#@njit\n",
    "def grad(x, A, b):\n",
    "    \"\"\"Full gradient\"\"\"\n",
    "    return  A.T.dot((A.dot(x) - b))\n",
    "\n",
    "def loss(x, A, b):\n",
    "    return norm(A.dot(x) - b) ** 2 / 2 \n"
   ]
  },
  {
   "cell_type": "markdown",
   "metadata": {},
   "source": [
    "#### Part 1:  compute a precise minimum with your favorite solver"
   ]
  },
  {
   "cell_type": "code",
   "execution_count": 156,
   "metadata": {},
   "outputs": [],
   "source": [
    "# choose BFGS as my preferable minimizer\n",
    "from scipy.optimize import fmin_l_bfgs_b\n",
    "w_init = np.zeros(n_features)\n",
    "w_min, f_min, _ = fmin_l_bfgs_b(loss, w_init, grad, args=(A, b), pgtol=1e-30, factr=1e-30)"
   ]
  },
  {
   "cell_type": "code",
   "execution_count": 157,
   "metadata": {},
   "outputs": [
    {
     "data": {
      "image/png": "[encoded data removed]",
      "text/plain": [
       "<Figure size 1008x288 with 2 Axes>"
      ]
     },
     "metadata": {},
     "output_type": "display_data"
    },
    {
     "name": "stdout",
     "output_type": "stream",
     "text": [
      "Objective value:  with true parameters: 520.973718778175, with BFGS solutions: 466.3849765337658, BFGS f_min: 466.3849765337658\n"
     ]
    }
   ],
   "source": [
    "# show the result of BFGS\n",
    "plt.figure(figsize=(14., 4.))\n",
    "plt.subplot(1, 2, 1)\n",
    "plt.stem(w_min);\n",
    "plt.title('parameters from BFGS method')\n",
    "\n",
    "plt.subplot(1, 2, 2)\n",
    "plt.stem(w_min, label=\"BFGS\", linefmt=\"C1-\", markerfmt=\"C1o\")\n",
    "plt.stem(coefs, label='true')\n",
    "plt.title(\"Compare true parameters and BFGS solutions\")\n",
    "plt.legend(loc=1)\n",
    "plt.show()\n",
    "\n",
    "print (\"Objective value:  with true parameters: {}, with BFGS solutions: {}, BFGS f_min: {}\".format( \n",
    "      norm(A.dot(coefs) - b) ** 2 / 2,  norm(A.dot(w_min) - b) ** 2 / 2, f_min))\n"
   ]
  },
  {
   "cell_type": "markdown",
   "metadata": {},
   "source": [
    "### Comments:\n",
    "BFGS solutions better fit the generated $A, b$ than the true parameters "
   ]
  },
  {
   "cell_type": "markdown",
   "metadata": {},
   "source": [
    "#### Part 1:  compare the performance of cyclic and greedy CD"
   ]
  },
  {
   "cell_type": "code",
   "execution_count": 171,
   "metadata": {},
   "outputs": [],
   "source": [
    "n_iter = 500"
   ]
  },
  {
   "cell_type": "code",
   "execution_count": 172,
   "metadata": {},
   "outputs": [
    {
     "name": "stdout",
     "output_type": "stream",
     "text": [
      "6.22 ms ± 90.3 µs per loop (mean ± std. dev. of 7 runs, 100 loops each)\n"
     ]
    }
   ],
   "source": [
    "%timeit w_c, f_c = cyclic_cd(A, b, n_iter)"
   ]
  },
  {
   "cell_type": "code",
   "execution_count": 173,
   "metadata": {},
   "outputs": [
    {
     "name": "stdout",
     "output_type": "stream",
     "text": [
      "11.2 ms ± 501 µs per loop (mean ± std. dev. of 7 runs, 100 loops each)\n"
     ]
    }
   ],
   "source": [
    "%timeit w_g, f_g = greedy_cd(A, b, n_iter)"
   ]
  },
  {
   "cell_type": "markdown",
   "metadata": {},
   "source": [
    "Commment: cyclic_cd takes less time than greed_cd"
   ]
  },
  {
   "cell_type": "code",
   "execution_count": 177,
   "metadata": {},
   "outputs": [
    {
     "data": {
      "image/png": "[encoded data removed]",
      "text/plain": [
       "<Figure size 1008x288 with 2 Axes>"
      ]
     },
     "metadata": {},
     "output_type": "display_data"
    },
    {
     "name": "stdout",
     "output_type": "stream",
     "text": [
      "Objective value: BFGS f_min: 466.3849765337658,  cyclic_cd f_min: 466.821491048199, greedy_cd f_min: 466.3926326350476\n"
     ]
    }
   ],
   "source": [
    "plt.figure(figsize=(14., 4.))\n",
    "plt.subplot(1, 2, 1)\n",
    "plt.stem(w_c, label=\"cyclic_cd\", linefmt=\"C1-\", markerfmt=\"C1o\")\n",
    "plt.stem(w_min, label='BFGS')\n",
    "plt.legend(loc=1)\n",
    "plt.title('parameters BFGS and cyclic_cd')\n",
    "\n",
    "plt.subplot(1, 2, 2)\n",
    "plt.stem(w_g, label=\"greedy_cd\", linefmt=\"C1-\", markerfmt=\"C1o\")\n",
    "plt.stem(w_min, label='BFGS')\n",
    "plt.title(\"Compare BFGS and greedy_cd\")\n",
    "plt.legend(loc=1)\n",
    "plt.show()\n",
    "\n",
    "print (\"Objective value: BFGS f_min: {},  cyclic_cd f_min: {}, greedy_cd f_min: {}\".format( \n",
    "       f_min, f_c[-1], f_g[-1]))"
   ]
  },
  {
   "cell_type": "code",
   "execution_count": 178,
   "metadata": {},
   "outputs": [
    {
     "data": {
      "image/png": "[encoded data removed]",
      "text/plain": [
       "<Figure size 432x288 with 1 Axes>"
      ]
     },
     "metadata": {},
     "output_type": "display_data"
    }
   ],
   "source": [
    "nr_cycle = len(f_c)\n",
    "plt.plot(np.arange(nr_cycle ), f_c, label=\"cyclic_cd\")\n",
    "plt.plot(np.arange(nr_cycle ), f_g, label=\"greedy_cd\")\n",
    "plt.legend(loc=1)\n",
    "plt.show()"
   ]
  },
  {
   "cell_type": "markdown",
   "metadata": {},
   "source": [
    "### comment on the performance of cyclic and greedy CD\n",
    "- greedy CD takes more time to run per iteration than cyclic CD\n",
    "- greedy CD converges faster by the number of iterations than cyclic CD\n",
    "- both cyclic CD and greedy CD does well in this case and converges to the optimal solution\n",
    "\n",
    "This makes sense becasue in the greedy CD, one more step of finding the index of largest gradient is added, and thus slight more time is needed for greedy CD, and therefore greedy CD also have better performance per iteration  "
   ]
  },
  {
   "cell_type": "markdown",
   "metadata": {},
   "source": [
    "#### Part 1: could you use greedy CD for unregularized logistic regression? for OLS, but with 100,000 features? Explain your answers.\n"
   ]
  },
  {
   "cell_type": "code",
   "execution_count": null,
   "metadata": {},
   "outputs": [],
   "source": [
    "\n"
   ]
  },
  {
   "cell_type": "markdown",
   "metadata": {},
   "source": [
    "## Part 2: Sparse Logistic regression"
   ]
  },
  {
   "cell_type": "markdown",
   "metadata": {},
   "source": [
    "### An important result\n",
    "\n",
    "Remember: we are solving \n",
    "$$\\hat w \\in \\mathrm{arg \\, min} \\sum_{i=1}^{n} \\mathrm{log} ( 1 + e^{- y_i w^\\top x_i} )  + \\lambda \\Vert w \\Vert_1$$\n",
    "1) Show that:\n",
    "$$ \\lambda \\geq \\lambda_{max} \\implies \\hat w = 0$$\n",
    "where $\\lambda_{max} := \\frac 12 \\Vert X^\\top y \\Vert_{\\infty}$.\n",
    "\n",
    "\n",
    "You will need the following beautiful result: for any $w =(w_1, \\dots, w_p) \\in \\mathbb{R}^p$, the subdifferential of the L1 norm at $w$ is:\n",
    "\n",
    "$$\\partial \\Vert \\cdot \\Vert_1 (w) = \\partial \\vert \\cdot \\vert_1 (w_1)  \\times \\dots \\times \\partial \\vert \\cdot \\vert_1 (w_p) $$\n",
    "where $\\times$ is the Cartesian product between sets,\n",
    "and $$ \\partial \\vert \\cdot \\vert_1 (w_1) = \n",
    "\\begin{cases} &w_j / |w_j| &\\mathrm{if} \\quad w_j \\neq 0, \n",
    "         \\\\ & [-1, 1] &\\mathrm{otherwise.} \n",
    "\\end{cases}\n",
    "$$\n",
    "\n",
    "\n",
    "(it should now be easy to find $\\partial \\Vert \\cdot \\Vert_1 (\\mathbf{0}_p)$)"
   ]
  },
  {
   "cell_type": "markdown",
   "metadata": {},
   "source": [
    "*answer here*"
   ]
  },
  {
   "cell_type": "markdown",
   "metadata": {},
   "source": [
    "2) Show that for sparse Logistic regression the coordinate-wise Lipschitz constant of the smooth term, $\\gamma_j$, can be taken equal to $\\Vert X_j \\Vert^2 / 4$, where $X_j$ denotes the $j$-th column of $X$."
   ]
  },
  {
   "cell_type": "markdown",
   "metadata": {},
   "source": [
    "*answer here*"
   ]
  },
  {
   "cell_type": "markdown",
   "metadata": {},
   "source": [
    "You are now ready to code cyclic proximal coordinate descent for sparse Logistic regression:"
   ]
  },
  {
   "cell_type": "markdown",
   "metadata": {},
   "source": [
    "**Bonus**: show that is possible, when the current iterate is w, to use the better Lipschitz constant \n",
    "    $$ \\large \\sum_i  \\frac{X_{i, j}^2}{(1 + \\mathrm{e}^{-y_i X_{i, j} w_j)^2}}$$\n",
    "    \n",
    "**Anwswer**: Becase the updated $w_j$ information is included in each step and therefore the lipschitz constant is more precize and the step size will be adaptive compared to the case $\\Vert X_j \\Vert^2 / 4$\n",
    "\n",
    "Implement it in the code with a `better_lc` parameter, and compare."
   ]
  },
  {
   "cell_type": "code",
   "execution_count": 372,
   "metadata": {},
   "outputs": [],
   "source": [
    "# X, y = simu(coefs, n_samples=1000, for_logreg=True)\n",
    "# lambda_max = norm(X.T.dot(y), ord= np.inf) / 2.\n",
    "# lamb = lambda_max / 10.  \n",
    "# much easier to parametrize lambda as a function of lambda_max than \n",
    "# to take random values like 0.1 in previous Labs\n",
    "\n",
    "#@njit\n",
    "def sigmoid(t):\n",
    "    \"\"\"Sigmoid function\"\"\"\n",
    "    return 1. / (1. + np.exp(-t))\n",
    "\n",
    "#@njit\n",
    "def soft_thresh(x, u):\n",
    "    \"\"\"Soft thresholding of x at level u\"\"\"\n",
    "    return np.maximum(0., np.abs(x) - u)\n",
    "\n",
    "#@njit\n",
    "def cd_logreg(X, y, lamb, n_iter, lipid=1):\n",
    "    # lipid to idicate which lipschizt constant to be choose: \n",
    "    #       \n",
    "    \n",
    "    \n",
    "    n_samples, n_features = X.shape\n",
    "    w = np.zeros(n_features)\n",
    "    Xw = X.dot(w) \n",
    "     \n",
    "    lips_const = np.linalg.norm(X, axis = 0) ** 2 / 4.\n",
    "    all_obj = []\n",
    "    \n",
    "    \n",
    "    for t in range(n_iter):\n",
    "        for j in range(n_features):  # cyclic cd \n",
    "            old_w_j = w[j]        \n",
    "            Xj = X[:,j]  # the j-th column of x \n",
    "            \n",
    "            if lipid == 1: \n",
    "                step = 1 /  lips_const[j] \n",
    "                #print (step)\n",
    "            elif lipid == 2:  # better_lc \n",
    "                lips_const_j = np.sum(np.divide(Xj ** 2,   (1 + np.exp(-y * Xj * old_w_j)) ** 2))     \n",
    "                step  = 1 / lips_const_j\n",
    "                #print (step)      \n",
    "            grad_j =  - np.sum(np.multiply(y, Xj) / (1 + np.exp(y * Xw)))\n",
    "            diff_w_j = old_w_j - step * grad_j\n",
    "                \n",
    "            w[j] =  np.sign(diff_w_j) * soft_thresh(diff_w_j, lamb)\n",
    "            \n",
    "            if old_w_j != w[j]:\n",
    "                Xw +=  Xj * (w[j] - old_w_j)\n",
    "                \n",
    "        if t % n_features == 0:         \n",
    "            all_obj.append(np.log(1. + np.exp(-y * Xw)).sum() + lamb * norm(w, ord=1))\n",
    "    \n",
    "    return w, all_obj"
   ]
  },
  {
   "cell_type": "code",
   "execution_count": 295,
   "metadata": {},
   "outputs": [],
   "source": [
    "n_iter = 2000\n",
    "n_samples, n_features = A.shape\n",
    "\n",
    "# lambd = 1 / n_samples\n",
    "# w, all_objs = cd_logreg(A, b, lambd, n_iter,lipid=1)\n",
    "# w_bt_lc, all_objs_bt_lc = cd_logreg(A, b, lambd, n_iter,lipid=2)\n",
    "\n",
    "\n"
   ]
  },
  {
   "cell_type": "code",
   "execution_count": null,
   "metadata": {},
   "outputs": [],
   "source": []
  },
  {
   "cell_type": "markdown",
   "metadata": {},
   "source": [
    "# Part 3: Real data\n",
    "\n",
    "We will compare vanilla cyclic CD and ISTA to solve the Lasso on a real dataset, called _leukemia_.\n",
    "\n",
    "You can download the file here: http://web.stanford.edu/~hastie/CASI_files/DATA/leukemia_big.csv, and you should place it in the same folder as the current notebook."
   ]
  },
  {
   "cell_type": "code",
   "execution_count": 346,
   "metadata": {},
   "outputs": [
    {
     "name": "stdout",
     "output_type": "stream",
     "text": [
      "(72, 7128)\n",
      "(72,)\n"
     ]
    }
   ],
   "source": [
    "from numpy import genfromtxt\n",
    "y = 2 * (genfromtxt('leukemia_big.csv', delimiter=',', dtype=str)[0] == 'ALL') - 1\n",
    "X = genfromtxt('leukemia_big.csv', delimiter=',')[1:].T\n",
    "\n",
    "print(X.shape)\n",
    "print(y.shape)"
   ]
  },
  {
   "cell_type": "code",
   "execution_count": 365,
   "metadata": {},
   "outputs": [],
   "source": [
    "#@njit    \n",
    "def prox_lasso(w, s):\n",
    "    \"\"\"Proximal operator for the Lasso at x\"\"\"\n",
    "    return np.sign(w) * (np.maximum(abs(w)-s,0))\n",
    "\n",
    "#@njit    \n",
    "def lasso(w, s):\n",
    "    \"\"\"Value of the Lasso penalization at x\"\"\"\n",
    "    return s * norm(w, ord=1)\n",
    "\n",
    "#@njit    \n",
    "def grad_logreg(w):\n",
    "    \"\"\"Logistic gradient\"\"\"\n",
    "    # all_obj.append(np.log(1. + np.exp(-y * Xw)).sum() + lamb * norm(w, ord=1))\n",
    "    \n",
    "    c = np.exp(-y * X.dot(w))\n",
    "    return  np.sum(np.log( 1 + c))\n",
    "\n",
    "#@njit    \n",
    "def loss_logreg(w):\n",
    "    yXw = y * np.dot(X, w)\n",
    "    return np.sum(np.log(1. + np.exp(- yXw)))\n",
    "\n",
    "  \n",
    "def lipschitz_logreg(X):\n",
    "    return norm(X, ord=2) ** 2 / (4.)"
   ]
  },
  {
   "cell_type": "code",
   "execution_count": 354,
   "metadata": {},
   "outputs": [
    {
     "data": {
      "text/plain": [
       "(9.532453622789366e-06,)"
      ]
     },
     "execution_count": 354,
     "metadata": {},
     "output_type": "execute_result"
    }
   ],
   "source": [
    "1/ lipschitz_logreg(X),"
   ]
  },
  {
   "cell_type": "code",
   "execution_count": null,
   "metadata": {},
   "outputs": [],
   "source": []
  },
  {
   "cell_type": "code",
   "execution_count": null,
   "metadata": {},
   "outputs": [],
   "source": []
  },
  {
   "cell_type": "code",
   "execution_count": null,
   "metadata": {},
   "outputs": [],
   "source": []
  },
  {
   "cell_type": "code",
   "execution_count": 366,
   "metadata": {},
   "outputs": [],
   "source": [
    "#def ista(x0,  f, grad_f, g, prox_g, step, s=0., n_iter=50, x_true=coefs, verbose=True):\n",
    "#@njit\n",
    "def ista(x0,  f, grad_f, g, prox_g, step, s=0., n_iter=50):    \n",
    "    \"\"\"Proximal gradient descent algorithm\n",
    "    \"\"\"\n",
    "    x = x0.copy()\n",
    "    x_new = x0.copy()\n",
    "    #n_samples, n_features = X.shape\n",
    "\n",
    "    # estimation error history\n",
    "    errors = []\n",
    "    # objective history\n",
    "    objectives = []\n",
    "    # Current estimation error\n",
    "    #err = norm(x - x_true) / norm(x_true)\n",
    "    #errors.append(err)\n",
    "    # Current objective\n",
    "    obj = f(x) + g(x, s)\n",
    "    objectives.append(obj)\n",
    "\n",
    "    \n",
    "    for k in range(n_iter + 1):\n",
    "\n",
    "        x = prox_g(x - step * grad_f(x), s)\n",
    "        \n",
    "        obj = f(x) + g(x, s)\n",
    "        objectives.append(obj)\n",
    "        \n",
    "    return x, objectives "
   ]
  },
  {
   "cell_type": "code",
   "execution_count": 367,
   "metadata": {},
   "outputs": [],
   "source": [
    "\n",
    "f = loss_logreg\n",
    "grad_f = grad_logreg\n",
    "g = lasso\n",
    "prox_g = prox_lasso\n",
    "lambd = 0\n",
    "step = 1 / lipschitz_logreg(X)\n",
    "\n",
    "n_samples = X.shape[0]\n",
    "n_features = X.shape[1]\n",
    "x_init = np.zeros(n_features)\n",
    "x_trues = [] \n",
    "n_iter = 500\n",
    "\n"
   ]
  },
  {
   "cell_type": "code",
   "execution_count": 360,
   "metadata": {},
   "outputs": [
    {
     "data": {
      "text/plain": [
       "49.90659700031606"
      ]
     },
     "execution_count": 360,
     "metadata": {},
     "output_type": "execute_result"
    }
   ],
   "source": [
    "# w = np.zeros(n_features)\n",
    "# c = np.exp(-y * X.dot(w))\n",
    "\n",
    "# np.sum(np.log( 1 + c))"
   ]
  },
  {
   "cell_type": "code",
   "execution_count": 370,
   "metadata": {},
   "outputs": [],
   "source": [
    "\n",
    "w_ista, obj_ista = ista(x_init, f, grad_f, g, prox_g, step, lambd, n_iter)"
   ]
  },
  {
   "cell_type": "code",
   "execution_count": 373,
   "metadata": {},
   "outputs": [],
   "source": [
    "w_const_lc, obj_const_lc = cd_logreg(X, y, lambd, n_iter,lipid=1)"
   ]
  },
  {
   "cell_type": "code",
   "execution_count": 374,
   "metadata": {},
   "outputs": [],
   "source": [
    "w_bt_lc, obj_bt_lc = cd_logreg(X, y, lambd, n_iter,lipid=2)"
   ]
  },
  {
   "cell_type": "code",
   "execution_count": 378,
   "metadata": {},
   "outputs": [
    {
     "name": "stdout",
     "output_type": "stream",
     "text": [
      "[-0.2788361 -0.2788361 -0.2788361 ... -0.2788361 -0.2788361 -0.2788361] [-0.67046891  0.03589473 -0.11412588 ...  0.00157913 -0.02586624\n",
      "  0.0013246 ] [0.1689316328894427]\n",
      "[0.1689316328894427] [0.1689316328894427]\n"
     ]
    }
   ],
   "source": [
    "print (w_ista, w_const_lc, obj_bt_lc)\n",
    "\n",
    "print (obj_bt_lc, obj_const_lc)\n",
    "#print ( obj_ista)"
   ]
  },
  {
   "cell_type": "code",
   "execution_count": 377,
   "metadata": {},
   "outputs": [
    {
     "data": {
      "image/png": "[encoded data removed]",
      "text/plain": [
       "<Figure size 432x288 with 1 Axes>"
      ]
     },
     "metadata": {},
     "output_type": "display_data"
    }
   ],
   "source": [
    "nr_cycle = len(obj_bt_lc)\n",
    "plt.plot(np.arange(nr_cycle ), obj_const_lc, label=\"constant_lc\")\n",
    "plt.plot(np.arange(nr_cycle ), obj_bt_lc, label=\"better_lc\")\n",
    "plt.legend(loc=1)\n",
    "plt.show()"
   ]
  },
  {
   "cell_type": "code",
   "execution_count": 296,
   "metadata": {},
   "outputs": [],
   "source": [
    "# nr_cycle = len(all_objs)\n",
    "# plt.plot(np.arange(nr_cycle ), all_objs, label=\"constant_lc\")\n",
    "# plt.plot(np.arange(nr_cycle), all_objs_bt_lc, label=\"better_lc\")\n",
    "# plt.legend(loc=1)\n",
    "# plt.show()\n",
    "\n",
    "# ref_x, ref_objectives, ref_errors = fista(x0, loss_linreg, grad_linreg, ridge, prox_ridge, step, s, 1000, coefs, False)\n",
    "# print ('The precise minimum for fista is: ',  ref_objectives[-1])\n",
    "# print ('The precise minimizer for fista is: ',  ref_x)"
   ]
  },
  {
   "cell_type": "code",
   "execution_count": 297,
   "metadata": {},
   "outputs": [],
   "source": [
    "# print ( all_objs, all_objs_bt_lc)"
   ]
  },
  {
   "cell_type": "code",
   "execution_count": 298,
   "metadata": {},
   "outputs": [],
   "source": [
    "# plt.stem(w_bt_lc)"
   ]
  },
  {
   "cell_type": "code",
   "execution_count": 299,
   "metadata": {},
   "outputs": [],
   "source": [
    "\n",
    "#lips_const = np.linalg.norm(X, axis = 0) ** 2 / 4.\n",
    "#lamb = 1 / lips_const[j]\n",
    "\n",
    "# def lipschitz_logreg(A, b, lbda):\n",
    "#     return norm(A, ord=2) ** 2 / (4. * n) + lbda\n",
    "# #lambda_max = norm(A.T.dot(b), ord= np.inf) / 2. \n",
    "# lambda_max = norm(A.T.dot(b), ord= np.inf) / (2. * n_samples) \n",
    "# #lambd = lambda_max / 1000.  \n",
    "# lambd = lambda_max / 1000\n",
    "\n",
    "\n",
    "\n",
    "\n",
    "\n",
    "\n",
    "# print (lambd, lambda_max,  1. / n ** (0.5) )\n",
    "\n",
    "# j = 1\n",
    "# w = np.zeros(n_features)\n",
    "# X = A\n",
    "# Xw = X.dot(w)\n",
    "# Xj = X[:,j]  # the j-th column of x\n",
    "\n",
    "# lips_const_j = np.linalg.norm(Xj) ** 2 / 4\n",
    "\n",
    "# step = 1 /  lips_const_j\n",
    "# grad_j =  - np.sum(np.multiply(y, Xj) / (1 + np.exp(y * Xw)))\n",
    "\n",
    "# old_w_j = 0\n",
    "# w_j = soft_thresh(old_w_j - step * grad_j, lambd)\n",
    "\n",
    "# print(grad_j, - step * grad_j)\n",
    "#w[j] = np.sign(old_w_j) * soft_thresh(old_w_j - step * grad_j, lamb)\n",
    "\n",
    "\n",
    "\n",
    "# print (lambda_max, lambd, lips_const_j, grad_j, - step * grad_j, w_j)\n",
    "# print (w)\n",
    "# print (all_objs)"
   ]
  },
  {
   "cell_type": "code",
   "execution_count": null,
   "metadata": {},
   "outputs": [],
   "source": []
  },
  {
   "cell_type": "code",
   "execution_count": 256,
   "metadata": {},
   "outputs": [
    {
     "name": "stdout",
     "output_type": "stream",
     "text": [
      "[-0.11577427  1.0676935  -0.08194039  0.93071486  0.79495312  1.14679258\n",
      " -0.92920659 -1.55567684  0.29949285 -0.01280868  2.04802497  1.43258283\n",
      "  0.01421694 -0.70321214 -1.5807391   1.69951104 -1.38704482  0.\n",
      " -1.23572159 -0.49795165  0.08616646 -0.14210595 -1.70506831 -1.13855178\n",
      "  0.38105007  0.6227455   0.87863658  0.93095978  0.3018436   0.00828422\n",
      "  1.655875   -1.9891021   0.11186477 -1.16961168  1.17854974 -0.0598048\n",
      "  1.05261735 -0.30183712 -1.0027459  -0.0556954  -0.33513258  0.10817403\n",
      " -1.439843   -1.65477414 -1.61581216 -0.12729623 -0.28792077 -2.15339187\n",
      "  0.25726104 -0.01328343  0.05725203 -0.          1.12956816 -1.0572927\n",
      " -0.03006513  1.31946628  0.73120681  0.87112792 -1.16367812 -0.65529237\n",
      " -1.41544631  0.25438637  0.24053506 -1.27602819  0.36883168 -0.13710646\n",
      "  0.58579216 -0.44499974 -1.15074205 -0.27642761  0.31010879  2.19836379\n",
      "  0.46399339 -0.89047781  0.68611    -0.          1.2114745  -0.38576787\n",
      " -0.04590863  1.09709602 -0.49526331 -0.04541818  0.90563911 -1.73002865\n",
      " -2.36911777 -0.6377116  -1.16284513  0.61257283 -0.74878434  1.37639551\n",
      "  0.45840805 -0.9456375  -0.78046573  1.58578558 -0.70123495 -0.46839683\n",
      " -0.47313747 -0.02539245  0.12794587  1.31021849]\n"
     ]
    }
   ],
   "source": [
    "# print (w)"
   ]
  },
  {
   "cell_type": "code",
   "execution_count": 294,
   "metadata": {},
   "outputs": [
    {
     "data": {
      "text/plain": [
       "Text(0.5, 1.0, 'parameters BFGS and cyclic_cd')"
      ]
     },
     "execution_count": 294,
     "metadata": {},
     "output_type": "execute_result"
    },
    {
     "data": {
      "image/png": "[encoded data removed]",
      "text/plain": [
       "<Figure size 432x288 with 1 Axes>"
      ]
     },
     "metadata": {},
     "output_type": "display_data"
    }
   ],
   "source": [
    "# #print (old_w_j - step * grad_j, lambd, w_min)\n",
    "\n",
    "# # print (lambd, lambda_max )\n",
    "# plt.stem(w, label=\"cyclic_cd\", linefmt=\"C1-\", markerfmt=\"C1o\")\n",
    "# plt.stem(w_min, label='BFGS')\n",
    "# plt.legend(loc=1)\n",
    "# plt.title('parameters BFGS and cyclic_cd')"
   ]
  },
  {
   "cell_type": "code",
   "execution_count": 248,
   "metadata": {},
   "outputs": [
    {
     "name": "stdout",
     "output_type": "stream",
     "text": [
      "[265.28015904 240.56908526 250.18648779 247.64684272 251.77996138\n",
      " 250.5318719  253.77926061 242.25612708 250.75952293 252.24303091\n",
      " 259.91251837 255.11935899 243.28839836 250.52066013 242.24286099\n",
      " 266.27141834 226.59723773 264.55405085 266.26676849 271.54012787\n",
      " 257.95954502 256.89962584 261.06405187 261.62095072 243.15139762\n",
      " 253.77419728 261.63620488 258.04962907 240.66756029 244.79681303\n",
      " 255.85704247 247.55632861 255.37719224 242.18898259 248.38216757\n",
      " 255.95353442 251.7520225  239.63978497 241.67042342 270.48537006\n",
      " 256.67785293 247.01333357 250.35151375 248.08883881 261.44262171\n",
      " 238.37095191 240.80982879 240.45932188 249.84241923 243.32882683\n",
      " 246.21119289 272.23778936 254.52605412 252.40851086 231.7534515\n",
      " 241.32479025 248.35074034 239.24872176 241.73901398 244.22092615\n",
      " 249.78321281 250.37893452 261.4750619  241.43800168 228.86080929\n",
      " 234.97726574 238.92298432 245.23013862 259.88972163 248.80503181\n",
      " 233.01389186 237.47517066 251.99553409 243.36701589 268.47096298\n",
      " 253.44795139 255.35577118 237.17387702 230.9738905  252.31634672\n",
      " 249.19578358 264.58836437 236.82057157 236.53398831 252.20452176\n",
      " 259.05376206 265.01608527 237.84719851 255.3343348  261.84299978\n",
      " 236.32658385 242.57823942 248.22032337 250.48506013 260.06412414\n",
      " 264.05400503 247.98181901 257.2730828  237.72065426 237.24739168]\n",
      "242.25612707611612\n"
     ]
    }
   ],
   "source": [
    "\n",
    "lips_const = np.linalg.norm(X, axis = 0) ** 2 / 4.\n",
    "print ( lips_const)\n",
    "\n",
    "Xj = X[:,7]  # the j-th column of x\n",
    "\n",
    "lips_const_j = np.linalg.norm(Xj) ** 2 / 4 \n",
    "   \n",
    "    \n",
    "print (lips_const_j)    "
   ]
  },
  {
   "cell_type": "code",
   "execution_count": null,
   "metadata": {},
   "outputs": [],
   "source": [
    "lambda_max_lasso = norm(X.dot(y), ord=np.inf)\n",
    "lambd = lambda_max_lasso / 5."
   ]
  },
  {
   "cell_type": "markdown",
   "metadata": {},
   "source": [
    "Code:\n",
    "- a simple proximal gradient solver for the Lasso\n",
    "- a prox CD solver for the Lasso\n",
    "and compare them on this dataset. \n",
    "Do the plots in terms of epochs, not updates (to be fair to CD)."
   ]
  },
  {
   "cell_type": "code",
   "execution_count": null,
   "metadata": {},
   "outputs": [],
   "source": []
  },
  {
   "cell_type": "code",
   "execution_count": null,
   "metadata": {},
   "outputs": [],
   "source": []
  },
  {
   "cell_type": "code",
   "execution_count": null,
   "metadata": {},
   "outputs": [],
   "source": []
  },
  {
   "cell_type": "code",
   "execution_count": null,
   "metadata": {},
   "outputs": [],
   "source": []
  },
  {
   "cell_type": "code",
   "execution_count": null,
   "metadata": {},
   "outputs": [],
   "source": [
    "X, y = simu(coefs, n_samples=1000, for_logreg=True)\n",
    "lambda_max = norm(X.T.dot(y), ord= np.inf) / 2.\n",
    "lamb = lambda_max / 10.  \n",
    "# much easier to parametrize lambda as a function of lambda_max than \n",
    "# to take random values like 0.1 in previous Labs\n",
    "\n",
    "\n",
    "def sigmoid(t):\n",
    "    \"\"\"Sigmoid function\"\"\"\n",
    "    return 1. / (1. + np.exp(-t))\n",
    "\n",
    "\n",
    "def soft_thresh(x, u):\n",
    "    \"\"\"Soft thresholding of x at level u\"\"\"\n",
    "    return np.maximum(0., np.abs(x) - u)\n",
    "\n",
    "\n",
    "def cd_logreg(X, y, lamb, n_iter):\n",
    "    n_samples, n_features = X.shape\n",
    "    w = np.zeros(n_features)\n",
    "    Xw = X.dot(w)\n",
    "    \n",
    "    # TODO\n",
    "    lips_const = np.linalg.norm(X, axis = 0) ** 2 / 4.\n",
    "    # END TODO\n",
    "    all_objs = np.zeros((n_iter, 1))\n",
    "    \n",
    "    \n",
    "    for t in range(n_iter):\n",
    "        for j in range(n_features):  # cyclic cd \n",
    "            old_w_j = w[j]\n",
    "            \n",
    "            Xj = X[:,j]  # the j-th column of x         \n",
    "            # lips_const_j = np.linalg.norm(Xj) ** 2 / 4 \n",
    "            step = 1 /  lips_const[j]\n",
    "            grad_j =  - np.sum(np.multiply(y, Xj) / (1 + np.exp(y * Xw)))\n",
    "            diff_w_j = old_w_j - step * grad_j\n",
    "            \n",
    "            \n",
    "#             if old_w_j > 0:  \n",
    "#                 grad_j = lamb - np.sum(np.multiply(y, xj) / (1 + np.exp(y * Xw)))\n",
    "#             elif  old_w_j < 0:    \n",
    "#                 grad_j = -lamb - np.sum(np.multiply(y, xj) / (1 + np.exp(y * Xw)))\n",
    "#             elif old_w_j == 0: \n",
    "                \n",
    "                \n",
    "            w[j] =  np.sign(diff_w_j) * soft_thresh(diff_w_j, lamb)\n",
    "           # if t  % 100 == 0:\n",
    "            #   print (old_w_j - step * grad_j, w[j], lamb)\n",
    "            \n",
    "            if old_w_j != w[j]:\n",
    "                Xw +=  Xj * (w[j] - old_w_j)\n",
    "            #END TODO\n",
    "            \n",
    "        all_objs[t] = np.log(1. + np.exp(-y * Xw)).sum() + lamb * norm(w, ord=1)\n",
    "    \n",
    "    return w, all_objs"
   ]
  }
 ],
 "metadata": {
  "anaconda-cloud": {},
  "kernelspec": {
   "display_name": "Python 3",
   "language": "python",
   "name": "python3"
  },
  "language_info": {
   "codemirror_mode": {
    "name": "ipython",
    "version": 3
   },
   "file_extension": ".py",
   "mimetype": "text/x-python",
   "name": "python",
   "nbconvert_exporter": "python",
   "pygments_lexer": "ipython3",
   "version": "3.6.6"
  }
 },
 "nbformat": 4,
 "nbformat_minor": 2
}
